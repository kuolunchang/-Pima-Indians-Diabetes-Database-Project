{
 "cells": [
  {
   "cell_type": "code",
   "execution_count": 1,
   "id": "a4dc99f3-9559-4a71-8ac0-c4d651ae1ff1",
   "metadata": {},
   "outputs": [],
   "source": [
    "import pandas as pd\n",
    "import numpy as np\n",
    "import matplotlib.pyplot as plt\n",
    "import seaborn as sns\n",
    "import statsmodels.api as sm\n",
    "import pingouin as pg\n",
    "from scipy import stats\n",
    "from pingouin import anova\n",
    "from statsmodels.formula.api import ols\n",
    "from statsmodels.graphics.factorplots import interaction_plot\n",
    "from bioinfokit.analys import stat \n",
    "from statsmodels.stats.power import TTestIndPower\n",
    "from scipy.stats import ttest_ind\n",
    "from plotly.offline import download_plotlyjs, init_notebook_mode, iplot\n",
    "from plotly.graph_objs import *\n",
    "\n",
    "import warnings\n",
    "warnings.filterwarnings('ignore')"
   ]
  },
  {
   "cell_type": "code",
   "execution_count": 2,
   "id": "9e4b7b23-610b-48e4-978c-a1ff2408bae5",
   "metadata": {},
   "outputs": [],
   "source": [
    "df = pd.read_csv('diabetes.csv')"
   ]
  },
  {
   "cell_type": "code",
   "execution_count": 3,
   "id": "20c802ce-7e64-4d9e-bf30-da0debc6335c",
   "metadata": {},
   "outputs": [
    {
     "data": {
      "text/html": [
       "<div>\n",
       "<style scoped>\n",
       "    .dataframe tbody tr th:only-of-type {\n",
       "        vertical-align: middle;\n",
       "    }\n",
       "\n",
       "    .dataframe tbody tr th {\n",
       "        vertical-align: top;\n",
       "    }\n",
       "\n",
       "    .dataframe thead th {\n",
       "        text-align: right;\n",
       "    }\n",
       "</style>\n",
       "<table border=\"1\" class=\"dataframe\">\n",
       "  <thead>\n",
       "    <tr style=\"text-align: right;\">\n",
       "      <th></th>\n",
       "      <th>Pregnancies</th>\n",
       "      <th>Glucose</th>\n",
       "      <th>BloodPressure</th>\n",
       "      <th>SkinThickness</th>\n",
       "      <th>Insulin</th>\n",
       "      <th>BMI</th>\n",
       "      <th>DiabetesPedigreeFunction</th>\n",
       "      <th>Age</th>\n",
       "      <th>Outcome</th>\n",
       "    </tr>\n",
       "  </thead>\n",
       "  <tbody>\n",
       "    <tr>\n",
       "      <th>0</th>\n",
       "      <td>6</td>\n",
       "      <td>148</td>\n",
       "      <td>72</td>\n",
       "      <td>35</td>\n",
       "      <td>0</td>\n",
       "      <td>33.6</td>\n",
       "      <td>0.627</td>\n",
       "      <td>50</td>\n",
       "      <td>1</td>\n",
       "    </tr>\n",
       "    <tr>\n",
       "      <th>1</th>\n",
       "      <td>1</td>\n",
       "      <td>85</td>\n",
       "      <td>66</td>\n",
       "      <td>29</td>\n",
       "      <td>0</td>\n",
       "      <td>26.6</td>\n",
       "      <td>0.351</td>\n",
       "      <td>31</td>\n",
       "      <td>0</td>\n",
       "    </tr>\n",
       "    <tr>\n",
       "      <th>2</th>\n",
       "      <td>8</td>\n",
       "      <td>183</td>\n",
       "      <td>64</td>\n",
       "      <td>0</td>\n",
       "      <td>0</td>\n",
       "      <td>23.3</td>\n",
       "      <td>0.672</td>\n",
       "      <td>32</td>\n",
       "      <td>1</td>\n",
       "    </tr>\n",
       "    <tr>\n",
       "      <th>3</th>\n",
       "      <td>1</td>\n",
       "      <td>89</td>\n",
       "      <td>66</td>\n",
       "      <td>23</td>\n",
       "      <td>94</td>\n",
       "      <td>28.1</td>\n",
       "      <td>0.167</td>\n",
       "      <td>21</td>\n",
       "      <td>0</td>\n",
       "    </tr>\n",
       "    <tr>\n",
       "      <th>4</th>\n",
       "      <td>0</td>\n",
       "      <td>137</td>\n",
       "      <td>40</td>\n",
       "      <td>35</td>\n",
       "      <td>168</td>\n",
       "      <td>43.1</td>\n",
       "      <td>2.288</td>\n",
       "      <td>33</td>\n",
       "      <td>1</td>\n",
       "    </tr>\n",
       "  </tbody>\n",
       "</table>\n",
       "</div>"
      ],
      "text/plain": [
       "   Pregnancies  Glucose  BloodPressure  SkinThickness  Insulin   BMI  \\\n",
       "0            6      148             72             35        0  33.6   \n",
       "1            1       85             66             29        0  26.6   \n",
       "2            8      183             64              0        0  23.3   \n",
       "3            1       89             66             23       94  28.1   \n",
       "4            0      137             40             35      168  43.1   \n",
       "\n",
       "   DiabetesPedigreeFunction  Age  Outcome  \n",
       "0                     0.627   50        1  \n",
       "1                     0.351   31        0  \n",
       "2                     0.672   32        1  \n",
       "3                     0.167   21        0  \n",
       "4                     2.288   33        1  "
      ]
     },
     "execution_count": 3,
     "metadata": {},
     "output_type": "execute_result"
    }
   ],
   "source": [
    "df.head()"
   ]
  },
  {
   "cell_type": "code",
   "execution_count": 4,
   "id": "7384a713-f665-4d0a-9544-380beb4de95c",
   "metadata": {},
   "outputs": [
    {
     "name": "stdout",
     "output_type": "stream",
     "text": [
      "<class 'pandas.core.frame.DataFrame'>\n",
      "RangeIndex: 768 entries, 0 to 767\n",
      "Data columns (total 9 columns):\n",
      " #   Column                    Non-Null Count  Dtype  \n",
      "---  ------                    --------------  -----  \n",
      " 0   Pregnancies               768 non-null    int64  \n",
      " 1   Glucose                   768 non-null    int64  \n",
      " 2   BloodPressure             768 non-null    int64  \n",
      " 3   SkinThickness             768 non-null    int64  \n",
      " 4   Insulin                   768 non-null    int64  \n",
      " 5   BMI                       768 non-null    float64\n",
      " 6   DiabetesPedigreeFunction  768 non-null    float64\n",
      " 7   Age                       768 non-null    int64  \n",
      " 8   Outcome                   768 non-null    int64  \n",
      "dtypes: float64(2), int64(7)\n",
      "memory usage: 54.1 KB\n"
     ]
    }
   ],
   "source": [
    "df.info()"
   ]
  },
  {
   "cell_type": "code",
   "execution_count": 5,
   "id": "8aac8240-2347-4df3-a811-b582073e0fb1",
   "metadata": {},
   "outputs": [
    {
     "data": {
      "text/html": [
       "<div>\n",
       "<style scoped>\n",
       "    .dataframe tbody tr th:only-of-type {\n",
       "        vertical-align: middle;\n",
       "    }\n",
       "\n",
       "    .dataframe tbody tr th {\n",
       "        vertical-align: top;\n",
       "    }\n",
       "\n",
       "    .dataframe thead th {\n",
       "        text-align: right;\n",
       "    }\n",
       "</style>\n",
       "<table border=\"1\" class=\"dataframe\">\n",
       "  <thead>\n",
       "    <tr style=\"text-align: right;\">\n",
       "      <th></th>\n",
       "      <th>Pregnancies</th>\n",
       "      <th>Glucose</th>\n",
       "      <th>BloodPressure</th>\n",
       "      <th>SkinThickness</th>\n",
       "      <th>Insulin</th>\n",
       "      <th>BMI</th>\n",
       "      <th>DiabetesPedigreeFunction</th>\n",
       "      <th>Age</th>\n",
       "      <th>Outcome</th>\n",
       "    </tr>\n",
       "  </thead>\n",
       "  <tbody>\n",
       "    <tr>\n",
       "      <th>count</th>\n",
       "      <td>768.000000</td>\n",
       "      <td>768.000000</td>\n",
       "      <td>768.000000</td>\n",
       "      <td>768.000000</td>\n",
       "      <td>768.000000</td>\n",
       "      <td>768.000000</td>\n",
       "      <td>768.000000</td>\n",
       "      <td>768.000000</td>\n",
       "      <td>768.000000</td>\n",
       "    </tr>\n",
       "    <tr>\n",
       "      <th>mean</th>\n",
       "      <td>3.845052</td>\n",
       "      <td>120.894531</td>\n",
       "      <td>69.105469</td>\n",
       "      <td>20.536458</td>\n",
       "      <td>79.799479</td>\n",
       "      <td>31.992578</td>\n",
       "      <td>0.471876</td>\n",
       "      <td>33.240885</td>\n",
       "      <td>0.348958</td>\n",
       "    </tr>\n",
       "    <tr>\n",
       "      <th>std</th>\n",
       "      <td>3.369578</td>\n",
       "      <td>31.972618</td>\n",
       "      <td>19.355807</td>\n",
       "      <td>15.952218</td>\n",
       "      <td>115.244002</td>\n",
       "      <td>7.884160</td>\n",
       "      <td>0.331329</td>\n",
       "      <td>11.760232</td>\n",
       "      <td>0.476951</td>\n",
       "    </tr>\n",
       "    <tr>\n",
       "      <th>min</th>\n",
       "      <td>0.000000</td>\n",
       "      <td>0.000000</td>\n",
       "      <td>0.000000</td>\n",
       "      <td>0.000000</td>\n",
       "      <td>0.000000</td>\n",
       "      <td>0.000000</td>\n",
       "      <td>0.078000</td>\n",
       "      <td>21.000000</td>\n",
       "      <td>0.000000</td>\n",
       "    </tr>\n",
       "    <tr>\n",
       "      <th>25%</th>\n",
       "      <td>1.000000</td>\n",
       "      <td>99.000000</td>\n",
       "      <td>62.000000</td>\n",
       "      <td>0.000000</td>\n",
       "      <td>0.000000</td>\n",
       "      <td>27.300000</td>\n",
       "      <td>0.243750</td>\n",
       "      <td>24.000000</td>\n",
       "      <td>0.000000</td>\n",
       "    </tr>\n",
       "    <tr>\n",
       "      <th>50%</th>\n",
       "      <td>3.000000</td>\n",
       "      <td>117.000000</td>\n",
       "      <td>72.000000</td>\n",
       "      <td>23.000000</td>\n",
       "      <td>30.500000</td>\n",
       "      <td>32.000000</td>\n",
       "      <td>0.372500</td>\n",
       "      <td>29.000000</td>\n",
       "      <td>0.000000</td>\n",
       "    </tr>\n",
       "    <tr>\n",
       "      <th>75%</th>\n",
       "      <td>6.000000</td>\n",
       "      <td>140.250000</td>\n",
       "      <td>80.000000</td>\n",
       "      <td>32.000000</td>\n",
       "      <td>127.250000</td>\n",
       "      <td>36.600000</td>\n",
       "      <td>0.626250</td>\n",
       "      <td>41.000000</td>\n",
       "      <td>1.000000</td>\n",
       "    </tr>\n",
       "    <tr>\n",
       "      <th>max</th>\n",
       "      <td>17.000000</td>\n",
       "      <td>199.000000</td>\n",
       "      <td>122.000000</td>\n",
       "      <td>99.000000</td>\n",
       "      <td>846.000000</td>\n",
       "      <td>67.100000</td>\n",
       "      <td>2.420000</td>\n",
       "      <td>81.000000</td>\n",
       "      <td>1.000000</td>\n",
       "    </tr>\n",
       "  </tbody>\n",
       "</table>\n",
       "</div>"
      ],
      "text/plain": [
       "       Pregnancies     Glucose  BloodPressure  SkinThickness     Insulin  \\\n",
       "count   768.000000  768.000000     768.000000     768.000000  768.000000   \n",
       "mean      3.845052  120.894531      69.105469      20.536458   79.799479   \n",
       "std       3.369578   31.972618      19.355807      15.952218  115.244002   \n",
       "min       0.000000    0.000000       0.000000       0.000000    0.000000   \n",
       "25%       1.000000   99.000000      62.000000       0.000000    0.000000   \n",
       "50%       3.000000  117.000000      72.000000      23.000000   30.500000   \n",
       "75%       6.000000  140.250000      80.000000      32.000000  127.250000   \n",
       "max      17.000000  199.000000     122.000000      99.000000  846.000000   \n",
       "\n",
       "              BMI  DiabetesPedigreeFunction         Age     Outcome  \n",
       "count  768.000000                768.000000  768.000000  768.000000  \n",
       "mean    31.992578                  0.471876   33.240885    0.348958  \n",
       "std      7.884160                  0.331329   11.760232    0.476951  \n",
       "min      0.000000                  0.078000   21.000000    0.000000  \n",
       "25%     27.300000                  0.243750   24.000000    0.000000  \n",
       "50%     32.000000                  0.372500   29.000000    0.000000  \n",
       "75%     36.600000                  0.626250   41.000000    1.000000  \n",
       "max     67.100000                  2.420000   81.000000    1.000000  "
      ]
     },
     "execution_count": 5,
     "metadata": {},
     "output_type": "execute_result"
    }
   ],
   "source": [
    "df.describe()"
   ]
  },
  {
   "cell_type": "code",
   "execution_count": 6,
   "id": "e1bd4cfd-8e04-43d7-b44b-382a0c03a47a",
   "metadata": {},
   "outputs": [],
   "source": [
    "# missing data=> impossible for live human begin have 0 Glucose, BloodPressure, SkinThickness, Insulin, BMI\n",
    "# replace 0s with mean\n",
    "\n",
    "df['Glucose'] = df['Glucose'].replace(0, df['Glucose'].mean())\n",
    "df['BloodPressure'] = df['BloodPressure'].replace(0, df['BloodPressure'].median())\n",
    "df['SkinThickness'] = df['SkinThickness'].replace(0, df['SkinThickness'].median())\n",
    "df['Insulin'] = df['Insulin'].replace(0, df['Insulin'].median())\n",
    "df['BMI'] = df['BMI'].replace(0, df['BMI'].median())"
   ]
  },
  {
   "cell_type": "code",
   "execution_count": 7,
   "id": "8b9daf75-1851-493e-877e-f92d32254ff2",
   "metadata": {},
   "outputs": [
    {
     "data": {
      "text/html": [
       "<div>\n",
       "<style scoped>\n",
       "    .dataframe tbody tr th:only-of-type {\n",
       "        vertical-align: middle;\n",
       "    }\n",
       "\n",
       "    .dataframe tbody tr th {\n",
       "        vertical-align: top;\n",
       "    }\n",
       "\n",
       "    .dataframe thead th {\n",
       "        text-align: right;\n",
       "    }\n",
       "</style>\n",
       "<table border=\"1\" class=\"dataframe\">\n",
       "  <thead>\n",
       "    <tr style=\"text-align: right;\">\n",
       "      <th></th>\n",
       "      <th>Pregnancies</th>\n",
       "      <th>Glucose</th>\n",
       "      <th>BloodPressure</th>\n",
       "      <th>SkinThickness</th>\n",
       "      <th>Insulin</th>\n",
       "      <th>BMI</th>\n",
       "      <th>DiabetesPedigreeFunction</th>\n",
       "      <th>Age</th>\n",
       "      <th>Outcome</th>\n",
       "    </tr>\n",
       "  </thead>\n",
       "  <tbody>\n",
       "    <tr>\n",
       "      <th>count</th>\n",
       "      <td>768.000000</td>\n",
       "      <td>768.000000</td>\n",
       "      <td>768.000000</td>\n",
       "      <td>768.000000</td>\n",
       "      <td>768.000000</td>\n",
       "      <td>768.000000</td>\n",
       "      <td>768.000000</td>\n",
       "      <td>768.000000</td>\n",
       "      <td>768.000000</td>\n",
       "    </tr>\n",
       "    <tr>\n",
       "      <th>mean</th>\n",
       "      <td>3.845052</td>\n",
       "      <td>121.681605</td>\n",
       "      <td>72.386719</td>\n",
       "      <td>27.334635</td>\n",
       "      <td>94.652344</td>\n",
       "      <td>32.450911</td>\n",
       "      <td>0.471876</td>\n",
       "      <td>33.240885</td>\n",
       "      <td>0.348958</td>\n",
       "    </tr>\n",
       "    <tr>\n",
       "      <th>std</th>\n",
       "      <td>3.369578</td>\n",
       "      <td>30.436016</td>\n",
       "      <td>12.096642</td>\n",
       "      <td>9.229014</td>\n",
       "      <td>105.547598</td>\n",
       "      <td>6.875366</td>\n",
       "      <td>0.331329</td>\n",
       "      <td>11.760232</td>\n",
       "      <td>0.476951</td>\n",
       "    </tr>\n",
       "    <tr>\n",
       "      <th>min</th>\n",
       "      <td>0.000000</td>\n",
       "      <td>44.000000</td>\n",
       "      <td>24.000000</td>\n",
       "      <td>7.000000</td>\n",
       "      <td>14.000000</td>\n",
       "      <td>18.200000</td>\n",
       "      <td>0.078000</td>\n",
       "      <td>21.000000</td>\n",
       "      <td>0.000000</td>\n",
       "    </tr>\n",
       "    <tr>\n",
       "      <th>25%</th>\n",
       "      <td>1.000000</td>\n",
       "      <td>99.750000</td>\n",
       "      <td>64.000000</td>\n",
       "      <td>23.000000</td>\n",
       "      <td>30.500000</td>\n",
       "      <td>27.500000</td>\n",
       "      <td>0.243750</td>\n",
       "      <td>24.000000</td>\n",
       "      <td>0.000000</td>\n",
       "    </tr>\n",
       "    <tr>\n",
       "      <th>50%</th>\n",
       "      <td>3.000000</td>\n",
       "      <td>117.000000</td>\n",
       "      <td>72.000000</td>\n",
       "      <td>23.000000</td>\n",
       "      <td>31.250000</td>\n",
       "      <td>32.000000</td>\n",
       "      <td>0.372500</td>\n",
       "      <td>29.000000</td>\n",
       "      <td>0.000000</td>\n",
       "    </tr>\n",
       "    <tr>\n",
       "      <th>75%</th>\n",
       "      <td>6.000000</td>\n",
       "      <td>140.250000</td>\n",
       "      <td>80.000000</td>\n",
       "      <td>32.000000</td>\n",
       "      <td>127.250000</td>\n",
       "      <td>36.600000</td>\n",
       "      <td>0.626250</td>\n",
       "      <td>41.000000</td>\n",
       "      <td>1.000000</td>\n",
       "    </tr>\n",
       "    <tr>\n",
       "      <th>max</th>\n",
       "      <td>17.000000</td>\n",
       "      <td>199.000000</td>\n",
       "      <td>122.000000</td>\n",
       "      <td>99.000000</td>\n",
       "      <td>846.000000</td>\n",
       "      <td>67.100000</td>\n",
       "      <td>2.420000</td>\n",
       "      <td>81.000000</td>\n",
       "      <td>1.000000</td>\n",
       "    </tr>\n",
       "  </tbody>\n",
       "</table>\n",
       "</div>"
      ],
      "text/plain": [
       "       Pregnancies     Glucose  BloodPressure  SkinThickness     Insulin  \\\n",
       "count   768.000000  768.000000     768.000000     768.000000  768.000000   \n",
       "mean      3.845052  121.681605      72.386719      27.334635   94.652344   \n",
       "std       3.369578   30.436016      12.096642       9.229014  105.547598   \n",
       "min       0.000000   44.000000      24.000000       7.000000   14.000000   \n",
       "25%       1.000000   99.750000      64.000000      23.000000   30.500000   \n",
       "50%       3.000000  117.000000      72.000000      23.000000   31.250000   \n",
       "75%       6.000000  140.250000      80.000000      32.000000  127.250000   \n",
       "max      17.000000  199.000000     122.000000      99.000000  846.000000   \n",
       "\n",
       "              BMI  DiabetesPedigreeFunction         Age     Outcome  \n",
       "count  768.000000                768.000000  768.000000  768.000000  \n",
       "mean    32.450911                  0.471876   33.240885    0.348958  \n",
       "std      6.875366                  0.331329   11.760232    0.476951  \n",
       "min     18.200000                  0.078000   21.000000    0.000000  \n",
       "25%     27.500000                  0.243750   24.000000    0.000000  \n",
       "50%     32.000000                  0.372500   29.000000    0.000000  \n",
       "75%     36.600000                  0.626250   41.000000    1.000000  \n",
       "max     67.100000                  2.420000   81.000000    1.000000  "
      ]
     },
     "execution_count": 7,
     "metadata": {},
     "output_type": "execute_result"
    }
   ],
   "source": [
    "df.describe()"
   ]
  },
  {
   "cell_type": "code",
   "execution_count": 8,
   "id": "31a80e90-284a-4cf6-9cdc-f9bee4dc1ca1",
   "metadata": {},
   "outputs": [
    {
     "data": {
      "text/plain": [
       "<AxesSubplot:>"
      ]
     },
     "execution_count": 8,
     "metadata": {},
     "output_type": "execute_result"
    },
    {
     "data": {
      "image/png": "[encoded data removed]",
      "text/plain": [
       "<Figure size 1080x720 with 1 Axes>"
      ]
     },
     "metadata": {
      "needs_background": "light"
     },
     "output_type": "display_data"
    }
   ],
   "source": [
    "# use boxplot to identify outliers- overall\n",
    "\n",
    "fig , ax = plt.subplots(figsize = (15, 10))\n",
    "sns.boxplot(data=df.iloc[:, :8], ax = ax)"
   ]
  },
  {
   "cell_type": "code",
   "execution_count": 9,
   "id": "802027e2-430c-4fb3-b18c-c1d98cc30fa6",
   "metadata": {},
   "outputs": [
    {
     "data": {
      "text/plain": [
       "<AxesSubplot:>"
      ]
     },
     "execution_count": 9,
     "metadata": {},
     "output_type": "execute_result"
    },
    {
     "data": {
      "image/png": "[encoded data removed]",
      "text/plain": [
       "<Figure size 1080x720 with 1 Axes>"
      ]
     },
     "metadata": {
      "needs_background": "light"
     },
     "output_type": "display_data"
    }
   ],
   "source": [
    "# use boxplot to identify outliers- Pregnancies,Glucose,BloodPressure,SkinThickness\n",
    "\n",
    "fig , ax = plt.subplots(figsize = (15, 10))\n",
    "sns.boxplot(data=df.iloc[:, :4], ax = ax)"
   ]
  },
  {
   "cell_type": "code",
   "execution_count": 10,
   "id": "b2ee85d3-1df9-4324-912a-e1e34122768f",
   "metadata": {},
   "outputs": [
    {
     "data": {
      "text/plain": [
       "<AxesSubplot:ylabel='Insulin'>"
      ]
     },
     "execution_count": 10,
     "metadata": {},
     "output_type": "execute_result"
    },
    {
     "data": {
      "image/png": "[encoded data removed]",
      "text/plain": [
       "<Figure size 720x864 with 1 Axes>"
      ]
     },
     "metadata": {
      "needs_background": "light"
     },
     "output_type": "display_data"
    }
   ],
   "source": [
    "# outlier finding process- insulin\n",
    "fig , ax = plt.subplots(figsize = (10, 12))\n",
    "sns.boxplot(y = df['Insulin'], data=df, ax = ax)"
   ]
  },
  {
   "cell_type": "code",
   "execution_count": 11,
   "id": "720d87f4-6068-45dc-854d-65e5196b08c7",
   "metadata": {},
   "outputs": [
    {
     "data": {
      "text/plain": [
       "<AxesSubplot:ylabel='BMI'>"
      ]
     },
     "execution_count": 11,
     "metadata": {},
     "output_type": "execute_result"
    },
    {
     "data": {
      "image/png": "[encoded data removed]",
      "text/plain": [
       "<Figure size 720x864 with 1 Axes>"
      ]
     },
     "metadata": {
      "needs_background": "light"
     },
     "output_type": "display_data"
    }
   ],
   "source": [
    "# outlier finding process- BMI, \n",
    "fig , ax = plt.subplots(figsize = (10, 12))\n",
    "sns.boxplot(y = df['BMI'], data=df, ax = ax)"
   ]
  },
  {
   "cell_type": "code",
   "execution_count": 12,
   "id": "08906082-d13f-4261-91cf-48fbc7dc933d",
   "metadata": {},
   "outputs": [
    {
     "data": {
      "text/plain": [
       "<AxesSubplot:ylabel='DiabetesPedigreeFunction'>"
      ]
     },
     "execution_count": 12,
     "metadata": {},
     "output_type": "execute_result"
    },
    {
     "data": {
      "image/png": "[encoded data removed]",
      "text/plain": [
       "<Figure size 720x864 with 1 Axes>"
      ]
     },
     "metadata": {
      "needs_background": "light"
     },
     "output_type": "display_data"
    }
   ],
   "source": [
    "# outlier finding process- DiabetesPedigreeFunction\n",
    "fig , ax = plt.subplots(figsize = (10, 12))\n",
    "sns.boxplot(y = df['DiabetesPedigreeFunction'], data=df,ax = ax)\n",
    "\n",
    "\n"
   ]
  },
  {
   "cell_type": "code",
   "execution_count": 13,
   "id": "e2235b93-77fe-42bc-8abc-b7aa99b28189",
   "metadata": {},
   "outputs": [
    {
     "data": {
      "text/html": [
       "<div>\n",
       "<style scoped>\n",
       "    .dataframe tbody tr th:only-of-type {\n",
       "        vertical-align: middle;\n",
       "    }\n",
       "\n",
       "    .dataframe tbody tr th {\n",
       "        vertical-align: top;\n",
       "    }\n",
       "\n",
       "    .dataframe thead th {\n",
       "        text-align: right;\n",
       "    }\n",
       "</style>\n",
       "<table border=\"1\" class=\"dataframe\">\n",
       "  <thead>\n",
       "    <tr style=\"text-align: right;\">\n",
       "      <th></th>\n",
       "      <th>Pregnancies</th>\n",
       "      <th>Glucose</th>\n",
       "      <th>BloodPressure</th>\n",
       "      <th>SkinThickness</th>\n",
       "      <th>Insulin</th>\n",
       "      <th>BMI</th>\n",
       "      <th>DiabetesPedigreeFunction</th>\n",
       "      <th>Age</th>\n",
       "      <th>Outcome</th>\n",
       "    </tr>\n",
       "  </thead>\n",
       "  <tbody>\n",
       "    <tr>\n",
       "      <th>0</th>\n",
       "      <td>6</td>\n",
       "      <td>148.0</td>\n",
       "      <td>72</td>\n",
       "      <td>35</td>\n",
       "      <td>30.5</td>\n",
       "      <td>33.6</td>\n",
       "      <td>0.627</td>\n",
       "      <td>50</td>\n",
       "      <td>1</td>\n",
       "    </tr>\n",
       "    <tr>\n",
       "      <th>1</th>\n",
       "      <td>1</td>\n",
       "      <td>85.0</td>\n",
       "      <td>66</td>\n",
       "      <td>29</td>\n",
       "      <td>30.5</td>\n",
       "      <td>26.6</td>\n",
       "      <td>0.351</td>\n",
       "      <td>31</td>\n",
       "      <td>0</td>\n",
       "    </tr>\n",
       "    <tr>\n",
       "      <th>2</th>\n",
       "      <td>8</td>\n",
       "      <td>183.0</td>\n",
       "      <td>64</td>\n",
       "      <td>23</td>\n",
       "      <td>30.5</td>\n",
       "      <td>23.3</td>\n",
       "      <td>0.672</td>\n",
       "      <td>32</td>\n",
       "      <td>1</td>\n",
       "    </tr>\n",
       "    <tr>\n",
       "      <th>3</th>\n",
       "      <td>1</td>\n",
       "      <td>89.0</td>\n",
       "      <td>66</td>\n",
       "      <td>23</td>\n",
       "      <td>94.0</td>\n",
       "      <td>28.1</td>\n",
       "      <td>0.167</td>\n",
       "      <td>21</td>\n",
       "      <td>0</td>\n",
       "    </tr>\n",
       "    <tr>\n",
       "      <th>4</th>\n",
       "      <td>0</td>\n",
       "      <td>137.0</td>\n",
       "      <td>40</td>\n",
       "      <td>35</td>\n",
       "      <td>168.0</td>\n",
       "      <td>43.1</td>\n",
       "      <td>2.288</td>\n",
       "      <td>33</td>\n",
       "      <td>1</td>\n",
       "    </tr>\n",
       "  </tbody>\n",
       "</table>\n",
       "</div>"
      ],
      "text/plain": [
       "   Pregnancies  Glucose  BloodPressure  SkinThickness  Insulin   BMI  \\\n",
       "0            6    148.0             72             35     30.5  33.6   \n",
       "1            1     85.0             66             29     30.5  26.6   \n",
       "2            8    183.0             64             23     30.5  23.3   \n",
       "3            1     89.0             66             23     94.0  28.1   \n",
       "4            0    137.0             40             35    168.0  43.1   \n",
       "\n",
       "   DiabetesPedigreeFunction  Age  Outcome  \n",
       "0                     0.627   50        1  \n",
       "1                     0.351   31        0  \n",
       "2                     0.672   32        1  \n",
       "3                     0.167   21        0  \n",
       "4                     2.288   33        1  "
      ]
     },
     "execution_count": 13,
     "metadata": {},
     "output_type": "execute_result"
    }
   ],
   "source": [
    "df.head()"
   ]
  },
  {
   "cell_type": "code",
   "execution_count": 14,
   "id": "9eb5a045-17d2-496f-8686-db50ac317a63",
   "metadata": {},
   "outputs": [],
   "source": [
    "# copy df to df2 to record new categorical information\n",
    "df2 = df.copy()\n",
    "\n",
    "# categorize variables and replace 0s with median- glucose, blood pressure, skin thickness,insulin, BMI\n",
    "\n",
    "df2['Glucose'] = pd.cut(x = df['Glucose'], bins = [0,140, 199, 250], labels = ['Normal', 'Intermediate', 'High'])\n",
    "df2['BloodPressure'] = pd.cut(x = df['BloodPressure'], bins = [0,79, 89, 119, 250], labels = ['Normal', 'Stage1', 'Stage2', 'Hypertension'])\n",
    "df2['Insulin'] = pd.cut(x = df['Insulin'], bins = [0,199, 600, 999], labels = ['Deficiency', 'Intermediate', 'Substantial'])\n",
    "df2['BMI'] = pd.cut(x = df['BMI'], bins = [0,18.49, 24.9, 29.9, 50], labels = ['Underweight', 'Normal', 'Overweight', 'Obese'])\n",
    "df2['Age'] = pd.cut(x = df['Age'], bins = [0,24, 64, 150], labels = ['Youth', 'Adulthood', 'Seniority'])\n"
   ]
  },
  {
   "cell_type": "code",
   "execution_count": 15,
   "id": "89fcd319-fb32-485d-ae4e-7aaf45948352",
   "metadata": {},
   "outputs": [
    {
     "data": {
      "text/html": [
       "<div>\n",
       "<style scoped>\n",
       "    .dataframe tbody tr th:only-of-type {\n",
       "        vertical-align: middle;\n",
       "    }\n",
       "\n",
       "    .dataframe tbody tr th {\n",
       "        vertical-align: top;\n",
       "    }\n",
       "\n",
       "    .dataframe thead th {\n",
       "        text-align: right;\n",
       "    }\n",
       "</style>\n",
       "<table border=\"1\" class=\"dataframe\">\n",
       "  <thead>\n",
       "    <tr style=\"text-align: right;\">\n",
       "      <th></th>\n",
       "      <th>Pregnancies</th>\n",
       "      <th>Glucose</th>\n",
       "      <th>BloodPressure</th>\n",
       "      <th>SkinThickness</th>\n",
       "      <th>Insulin</th>\n",
       "      <th>BMI</th>\n",
       "      <th>DiabetesPedigreeFunction</th>\n",
       "      <th>Age</th>\n",
       "      <th>Outcome</th>\n",
       "    </tr>\n",
       "  </thead>\n",
       "  <tbody>\n",
       "    <tr>\n",
       "      <th>0</th>\n",
       "      <td>6</td>\n",
       "      <td>Intermediate</td>\n",
       "      <td>Normal</td>\n",
       "      <td>35</td>\n",
       "      <td>Deficiency</td>\n",
       "      <td>Obese</td>\n",
       "      <td>0.627</td>\n",
       "      <td>Adulthood</td>\n",
       "      <td>1</td>\n",
       "    </tr>\n",
       "    <tr>\n",
       "      <th>1</th>\n",
       "      <td>1</td>\n",
       "      <td>Normal</td>\n",
       "      <td>Normal</td>\n",
       "      <td>29</td>\n",
       "      <td>Deficiency</td>\n",
       "      <td>Overweight</td>\n",
       "      <td>0.351</td>\n",
       "      <td>Adulthood</td>\n",
       "      <td>0</td>\n",
       "    </tr>\n",
       "    <tr>\n",
       "      <th>2</th>\n",
       "      <td>8</td>\n",
       "      <td>Intermediate</td>\n",
       "      <td>Normal</td>\n",
       "      <td>23</td>\n",
       "      <td>Deficiency</td>\n",
       "      <td>Normal</td>\n",
       "      <td>0.672</td>\n",
       "      <td>Adulthood</td>\n",
       "      <td>1</td>\n",
       "    </tr>\n",
       "    <tr>\n",
       "      <th>3</th>\n",
       "      <td>1</td>\n",
       "      <td>Normal</td>\n",
       "      <td>Normal</td>\n",
       "      <td>23</td>\n",
       "      <td>Deficiency</td>\n",
       "      <td>Overweight</td>\n",
       "      <td>0.167</td>\n",
       "      <td>Youth</td>\n",
       "      <td>0</td>\n",
       "    </tr>\n",
       "    <tr>\n",
       "      <th>4</th>\n",
       "      <td>0</td>\n",
       "      <td>Normal</td>\n",
       "      <td>Normal</td>\n",
       "      <td>35</td>\n",
       "      <td>Deficiency</td>\n",
       "      <td>Obese</td>\n",
       "      <td>2.288</td>\n",
       "      <td>Adulthood</td>\n",
       "      <td>1</td>\n",
       "    </tr>\n",
       "  </tbody>\n",
       "</table>\n",
       "</div>"
      ],
      "text/plain": [
       "   Pregnancies       Glucose BloodPressure  SkinThickness     Insulin  \\\n",
       "0            6  Intermediate        Normal             35  Deficiency   \n",
       "1            1        Normal        Normal             29  Deficiency   \n",
       "2            8  Intermediate        Normal             23  Deficiency   \n",
       "3            1        Normal        Normal             23  Deficiency   \n",
       "4            0        Normal        Normal             35  Deficiency   \n",
       "\n",
       "          BMI  DiabetesPedigreeFunction        Age  Outcome  \n",
       "0       Obese                     0.627  Adulthood        1  \n",
       "1  Overweight                     0.351  Adulthood        0  \n",
       "2      Normal                     0.672  Adulthood        1  \n",
       "3  Overweight                     0.167      Youth        0  \n",
       "4       Obese                     2.288  Adulthood        1  "
      ]
     },
     "execution_count": 15,
     "metadata": {},
     "output_type": "execute_result"
    }
   ],
   "source": [
    "df2.head()"
   ]
  },
  {
   "cell_type": "code",
   "execution_count": 16,
   "id": "1ac60d39-4939-4b45-b21a-0dce936df617",
   "metadata": {},
   "outputs": [
    {
     "data": {
      "image/png": "[encoded data removed]",
      "text/plain": [
       "<Figure size 1080x720 with 2 Axes>"
      ]
     },
     "metadata": {
      "needs_background": "light"
     },
     "output_type": "display_data"
    }
   ],
   "source": [
    "# heatmap to see high level correlation among variables\n",
    "corr = df.corr()\n",
    "plt.figure(figsize=(15, 10))\n",
    "sns.heatmap(corr, annot=True, cmap='Blues')\n",
    "plt.show()"
   ]
  },
  {
   "cell_type": "code",
   "execution_count": 17,
   "id": "1722f3ca",
   "metadata": {},
   "outputs": [
    {
     "name": "stdout",
     "output_type": "stream",
     "text": [
      "P-Value:1.4014220575049232e-123, T-Statistic:28.469546173883934\n"
     ]
    }
   ],
   "source": [
    "# t-test\n",
    "\n",
    "a = df.loc[:, 'Pregnancies']\n",
    "b = df.loc[:, 'Glucose']\n",
    "c = df.loc[:, 'BloodPressure']\n",
    "d = df.loc[:, 'SkinThickness']\n",
    "e = df.loc[:, 'Insulin']\n",
    "f = df.loc[:, 'BMI']\n",
    "g = df.loc[:, 'DiabetesPedigreeFunction']\n",
    "h = df.loc[:, 'Age']\n",
    "i = df.loc[:, 'Outcome']\n",
    "\n",
    "#pregnancies vs outcome\n",
    "tStat, pValue = stats.ttest_ind(a, i, equal_var = False)\n",
    "print (\"P-Value:{0}, T-Statistic:{1}\".format(pValue, tStat))\n"
   ]
  },
  {
   "cell_type": "code",
   "execution_count": 18,
   "id": "00e13747",
   "metadata": {},
   "outputs": [
    {
     "name": "stdout",
     "output_type": "stream",
     "text": [
      "P-Value:0.0, T-Statistic:110.46308413206346\n"
     ]
    }
   ],
   "source": [
    "#glucose vs outcome\n",
    "tStat, pValue = stats.ttest_ind(b, i, equal_var = False)\n",
    "print (\"P-Value:{0}, T-Statistic:{1}\".format(pValue, tStat))"
   ]
  },
  {
   "cell_type": "code",
   "execution_count": 19,
   "id": "f7d7939b",
   "metadata": {},
   "outputs": [
    {
     "name": "stdout",
     "output_type": "stream",
     "text": [
      "P-Value:0.0, T-Statistic:164.90684366822575\n"
     ]
    }
   ],
   "source": [
    "#Blood pressure vs outcome\n",
    "tStat, pValue = stats.ttest_ind(c, i, equal_var = False)\n",
    "print (\"P-Value:{0}, T-Statistic:{1}\".format(pValue, tStat))"
   ]
  },
  {
   "cell_type": "code",
   "execution_count": 20,
   "id": "78d39156",
   "metadata": {},
   "outputs": [
    {
     "name": "stdout",
     "output_type": "stream",
     "text": [
      "P-Value:0.0, T-Statistic:80.92438947250223\n"
     ]
    }
   ],
   "source": [
    "#skinthickness vs outcome\n",
    "tStat, pValue = stats.ttest_ind(d, i, equal_var = False)\n",
    "print (\"P-Value:{0}, T-Statistic:{1}\".format(pValue, tStat))"
   ]
  },
  {
   "cell_type": "code",
   "execution_count": 21,
   "id": "de9185c6",
   "metadata": {},
   "outputs": [
    {
     "name": "stdout",
     "output_type": "stream",
     "text": [
      "P-Value:6.321715287018709e-100, T-Statistic:24.760254466607947\n"
     ]
    }
   ],
   "source": [
    "#Insulin vs outcome\n",
    "tStat, pValue = stats.ttest_ind(e, i, equal_var = False)\n",
    "print (\"P-Value:{0}, T-Statistic:{1}\".format(pValue, tStat))"
   ]
  },
  {
   "cell_type": "code",
   "execution_count": 22,
   "id": "edcd9707",
   "metadata": {},
   "outputs": [
    {
     "name": "stdout",
     "output_type": "stream",
     "text": [
      "P-Value:0.0, T-Statistic:129.08439212992056\n"
     ]
    }
   ],
   "source": [
    "#BMI vs outcome\n",
    "tStat, pValue = stats.ttest_ind(f, i, equal_var = False)\n",
    "print (\"P-Value:{0}, T-Statistic:{1}\".format(pValue, tStat))"
   ]
  },
  {
   "cell_type": "code",
   "execution_count": 23,
   "id": "838148b0",
   "metadata": {},
   "outputs": [
    {
     "name": "stdout",
     "output_type": "stream",
     "text": [
      "P-Value:5.6048470155751356e-09, T-Statistic:5.865604271120938\n"
     ]
    }
   ],
   "source": [
    "#diabetesPedigreeFunction vs outcome\n",
    "tStat, pValue = stats.ttest_ind(g, i, equal_var = False)\n",
    "print (\"P-Value:{0}, T-Statistic:{1}\".format(pValue, tStat))"
   ]
  },
  {
   "cell_type": "code",
   "execution_count": 24,
   "id": "aa6abc69",
   "metadata": {
    "scrolled": true
   },
   "outputs": [
    {
     "name": "stdout",
     "output_type": "stream",
     "text": [
      "P-Value:0.0, T-Statistic:77.44567748756118\n"
     ]
    }
   ],
   "source": [
    "#Age vs outcome\n",
    "tStat, pValue = stats.ttest_ind(h, i, equal_var = False)\n",
    "print (\"P-Value:{0}, T-Statistic:{1}\".format(pValue, tStat))"
   ]
  },
  {
   "cell_type": "code",
   "execution_count": 25,
   "id": "052051c3",
   "metadata": {},
   "outputs": [],
   "source": [
    "# -- one way anova startx"
   ]
  },
  {
   "cell_type": "code",
   "execution_count": 26,
   "id": "65044cf6",
   "metadata": {},
   "outputs": [],
   "source": [
    "# 1 way anova (1) Glucose vs. Outcome, (2) Insulins vs. Outcome, (3) BMI vs Outcome, (4) BloodPressure vs Outcome, \n",
    "# (5) Age vs Outcome"
   ]
  },
  {
   "cell_type": "code",
   "execution_count": 27,
   "id": "4ac5796f",
   "metadata": {},
   "outputs": [
    {
     "name": "stdout",
     "output_type": "stream",
     "text": [
      "              sum_sq     df           F        PR(>F)\n",
      "Glucose    58.680556    2.0  154.849282  1.657572e-32\n",
      "Residual  145.138889  766.0         NaN           NaN\n"
     ]
    }
   ],
   "source": [
    "# Glucose vs Outcome\n",
    "\n",
    "mod = ols('Outcome ~ Glucose', data=df2).fit()\n",
    "                \n",
    "aov_table = sm.stats.anova_lm(mod, typ=2)\n",
    "print(aov_table)"
   ]
  },
  {
   "cell_type": "code",
   "execution_count": 28,
   "id": "2fb8db7d",
   "metadata": {},
   "outputs": [
    {
     "data": {
      "text/html": [
       "<div>\n",
       "<style scoped>\n",
       "    .dataframe tbody tr th:only-of-type {\n",
       "        vertical-align: middle;\n",
       "    }\n",
       "\n",
       "    .dataframe tbody tr th {\n",
       "        vertical-align: top;\n",
       "    }\n",
       "\n",
       "    .dataframe thead th {\n",
       "        text-align: right;\n",
       "    }\n",
       "</style>\n",
       "<table border=\"1\" class=\"dataframe\">\n",
       "  <thead>\n",
       "    <tr style=\"text-align: right;\">\n",
       "      <th></th>\n",
       "      <th>coef</th>\n",
       "      <th>std err</th>\n",
       "      <th>t</th>\n",
       "      <th>P&gt;|t|</th>\n",
       "      <th>Conf. Int. Low</th>\n",
       "      <th>Conf. Int. Upp.</th>\n",
       "      <th>pvalue-hs</th>\n",
       "      <th>reject-hs</th>\n",
       "    </tr>\n",
       "  </thead>\n",
       "  <tbody>\n",
       "    <tr>\n",
       "      <th>Intermediate-Normal</th>\n",
       "      <td>0.451389</td>\n",
       "      <td>0.036274</td>\n",
       "      <td>12.443845</td>\n",
       "      <td>1.657572e-32</td>\n",
       "      <td>0.380181</td>\n",
       "      <td>0.522597</td>\n",
       "      <td>4.972716e-32</td>\n",
       "      <td>True</td>\n",
       "    </tr>\n",
       "    <tr>\n",
       "      <th>High-Normal</th>\n",
       "      <td>0.000000</td>\n",
       "      <td>0.000000</td>\n",
       "      <td>0.000000</td>\n",
       "      <td>1.000000e+00</td>\n",
       "      <td>0.000000</td>\n",
       "      <td>0.000000</td>\n",
       "      <td>1.000000e+00</td>\n",
       "      <td>False</td>\n",
       "    </tr>\n",
       "    <tr>\n",
       "      <th>High-Intermediate</th>\n",
       "      <td>-0.451389</td>\n",
       "      <td>0.036274</td>\n",
       "      <td>-12.443845</td>\n",
       "      <td>1.657572e-32</td>\n",
       "      <td>-0.522597</td>\n",
       "      <td>-0.380181</td>\n",
       "      <td>4.972716e-32</td>\n",
       "      <td>True</td>\n",
       "    </tr>\n",
       "  </tbody>\n",
       "</table>\n",
       "</div>"
      ],
      "text/plain": [
       "                         coef   std err          t         P>|t|  \\\n",
       "Intermediate-Normal  0.451389  0.036274  12.443845  1.657572e-32   \n",
       "High-Normal          0.000000  0.000000   0.000000  1.000000e+00   \n",
       "High-Intermediate   -0.451389  0.036274 -12.443845  1.657572e-32   \n",
       "\n",
       "                     Conf. Int. Low  Conf. Int. Upp.     pvalue-hs  reject-hs  \n",
       "Intermediate-Normal        0.380181         0.522597  4.972716e-32       True  \n",
       "High-Normal                0.000000         0.000000  1.000000e+00      False  \n",
       "High-Intermediate         -0.522597        -0.380181  4.972716e-32       True  "
      ]
     },
     "execution_count": 28,
     "metadata": {},
     "output_type": "execute_result"
    }
   ],
   "source": [
    "# post-hoc Bonferroni\n",
    "pair_t = mod.t_test_pairwise('Glucose')\n",
    "pair_t.result_frame"
   ]
  },
  {
   "cell_type": "code",
   "execution_count": 29,
   "id": "5e0f275e",
   "metadata": {},
   "outputs": [
    {
     "name": "stdout",
     "output_type": "stream",
     "text": [
      "        A             B   mean(A)  mean(B)      diff        se          T  \\\n",
      "0  Normal  Intermediate  0.236111   0.6875 -0.451389  0.036274 -12.443845   \n",
      "\n",
      "   p-tukey     cohen  \n",
      "0      0.0 -1.036987  \n"
     ]
    }
   ],
   "source": [
    "# post-hoc pairwise comparisons\n",
    "pt = pg.pairwise_tukey(dv='Outcome', between='Glucose', effsize = 'cohen', data=df2)\n",
    "print(pt)"
   ]
  },
  {
   "cell_type": "code",
   "execution_count": 30,
   "id": "2ccb62a1",
   "metadata": {},
   "outputs": [
    {
     "name": "stdout",
     "output_type": "stream",
     "text": [
      "              sum_sq     df         F    PR(>F)\n",
      "Insulin     3.347932    2.0  7.483052  0.000605\n",
      "Residual  171.131235  765.0       NaN       NaN\n"
     ]
    }
   ],
   "source": [
    "# Insulin vs Outcome\n",
    "\n",
    "mod = ols('Outcome ~ Insulin', data=df2).fit()\n",
    "                \n",
    "aov_table = sm.stats.anova_lm(mod, typ=2)\n",
    "print(aov_table)"
   ]
  },
  {
   "cell_type": "code",
   "execution_count": 31,
   "id": "5e238025",
   "metadata": {},
   "outputs": [
    {
     "data": {
      "text/html": [
       "<div>\n",
       "<style scoped>\n",
       "    .dataframe tbody tr th:only-of-type {\n",
       "        vertical-align: middle;\n",
       "    }\n",
       "\n",
       "    .dataframe tbody tr th {\n",
       "        vertical-align: top;\n",
       "    }\n",
       "\n",
       "    .dataframe thead th {\n",
       "        text-align: right;\n",
       "    }\n",
       "</style>\n",
       "<table border=\"1\" class=\"dataframe\">\n",
       "  <thead>\n",
       "    <tr style=\"text-align: right;\">\n",
       "      <th></th>\n",
       "      <th>coef</th>\n",
       "      <th>std err</th>\n",
       "      <th>t</th>\n",
       "      <th>P&gt;|t|</th>\n",
       "      <th>Conf. Int. Low</th>\n",
       "      <th>Conf. Int. Upp.</th>\n",
       "      <th>pvalue-hs</th>\n",
       "      <th>reject-hs</th>\n",
       "    </tr>\n",
       "  </thead>\n",
       "  <tbody>\n",
       "    <tr>\n",
       "      <th>Intermediate-Deficiency</th>\n",
       "      <td>0.209405</td>\n",
       "      <td>0.054135</td>\n",
       "      <td>3.868180</td>\n",
       "      <td>0.000119</td>\n",
       "      <td>0.103134</td>\n",
       "      <td>0.315676</td>\n",
       "      <td>0.000357</td>\n",
       "      <td>True</td>\n",
       "    </tr>\n",
       "    <tr>\n",
       "      <th>Substantial-Deficiency</th>\n",
       "      <td>0.007855</td>\n",
       "      <td>0.273672</td>\n",
       "      <td>0.028701</td>\n",
       "      <td>0.977110</td>\n",
       "      <td>-0.529383</td>\n",
       "      <td>0.545092</td>\n",
       "      <td>0.977110</td>\n",
       "      <td>False</td>\n",
       "    </tr>\n",
       "    <tr>\n",
       "      <th>Substantial-Intermediate</th>\n",
       "      <td>-0.201550</td>\n",
       "      <td>0.277792</td>\n",
       "      <td>-0.725545</td>\n",
       "      <td>0.468339</td>\n",
       "      <td>-0.746875</td>\n",
       "      <td>0.343774</td>\n",
       "      <td>0.717337</td>\n",
       "      <td>False</td>\n",
       "    </tr>\n",
       "  </tbody>\n",
       "</table>\n",
       "</div>"
      ],
      "text/plain": [
       "                              coef   std err         t     P>|t|  \\\n",
       "Intermediate-Deficiency   0.209405  0.054135  3.868180  0.000119   \n",
       "Substantial-Deficiency    0.007855  0.273672  0.028701  0.977110   \n",
       "Substantial-Intermediate -0.201550  0.277792 -0.725545  0.468339   \n",
       "\n",
       "                          Conf. Int. Low  Conf. Int. Upp.  pvalue-hs  \\\n",
       "Intermediate-Deficiency         0.103134         0.315676   0.000357   \n",
       "Substantial-Deficiency         -0.529383         0.545092   0.977110   \n",
       "Substantial-Intermediate       -0.746875         0.343774   0.717337   \n",
       "\n",
       "                          reject-hs  \n",
       "Intermediate-Deficiency        True  \n",
       "Substantial-Deficiency        False  \n",
       "Substantial-Intermediate      False  "
      ]
     },
     "execution_count": 31,
     "metadata": {},
     "output_type": "execute_result"
    }
   ],
   "source": [
    "# post-hoc Bonferroni\n",
    "pair_t = mod.t_test_pairwise('Insulin')\n",
    "pair_t.result_frame"
   ]
  },
  {
   "cell_type": "code",
   "execution_count": 32,
   "id": "724c98cc",
   "metadata": {},
   "outputs": [
    {
     "name": "stdout",
     "output_type": "stream",
     "text": [
      "              A             B   mean(A)   mean(B)      diff        se  \\\n",
      "0    Deficiency  Intermediate  0.325479  0.534884 -0.209405  0.054135   \n",
      "1    Deficiency   Substantial  0.325479  0.333333 -0.007855  0.273672   \n",
      "2  Intermediate   Substantial  0.534884  0.333333  0.201550  0.277792   \n",
      "\n",
      "          T   p-tukey     cohen  \n",
      "0 -3.868180  0.000350 -0.442745  \n",
      "1 -0.028701  0.999546 -0.016607  \n",
      "2  0.725545  0.748415  0.426137  \n"
     ]
    }
   ],
   "source": [
    "# post-hoc pairwise comparisons\n",
    "pt = pg.pairwise_tukey(dv='Outcome', between='Insulin', effsize = 'cohen', data=df2)\n",
    "print(pt)"
   ]
  },
  {
   "cell_type": "code",
   "execution_count": 33,
   "id": "cb120c26",
   "metadata": {},
   "outputs": [
    {
     "name": "stdout",
     "output_type": "stream",
     "text": [
      "              sum_sq     df          F        PR(>F)\n",
      "BMI        16.413676    3.0  26.639869  2.189026e-16\n",
      "Residual  155.265271  756.0        NaN           NaN\n"
     ]
    }
   ],
   "source": [
    "# BMI vs. Outcome\n",
    "mod = ols('Outcome ~ BMI', data=df2).fit()                \n",
    "aov_table = sm.stats.anova_lm(mod, typ=2)\n",
    "print(aov_table)"
   ]
  },
  {
   "cell_type": "code",
   "execution_count": 34,
   "id": "a73ac383",
   "metadata": {},
   "outputs": [
    {
     "data": {
      "text/html": [
       "<div>\n",
       "<style scoped>\n",
       "    .dataframe tbody tr th:only-of-type {\n",
       "        vertical-align: middle;\n",
       "    }\n",
       "\n",
       "    .dataframe tbody tr th {\n",
       "        vertical-align: top;\n",
       "    }\n",
       "\n",
       "    .dataframe thead th {\n",
       "        text-align: right;\n",
       "    }\n",
       "</style>\n",
       "<table border=\"1\" class=\"dataframe\">\n",
       "  <thead>\n",
       "    <tr style=\"text-align: right;\">\n",
       "      <th></th>\n",
       "      <th>coef</th>\n",
       "      <th>std err</th>\n",
       "      <th>t</th>\n",
       "      <th>P&gt;|t|</th>\n",
       "      <th>Conf. Int. Low</th>\n",
       "      <th>Conf. Int. Upp.</th>\n",
       "      <th>pvalue-hs</th>\n",
       "      <th>reject-hs</th>\n",
       "    </tr>\n",
       "  </thead>\n",
       "  <tbody>\n",
       "    <tr>\n",
       "      <th>Normal-Underweight</th>\n",
       "      <td>0.068627</td>\n",
       "      <td>0.230993</td>\n",
       "      <td>0.297097</td>\n",
       "      <td>7.664738e-01</td>\n",
       "      <td>-0.384837</td>\n",
       "      <td>0.522092</td>\n",
       "      <td>7.664738e-01</td>\n",
       "      <td>False</td>\n",
       "    </tr>\n",
       "    <tr>\n",
       "      <th>Overweight-Underweight</th>\n",
       "      <td>0.223464</td>\n",
       "      <td>0.229111</td>\n",
       "      <td>0.975353</td>\n",
       "      <td>3.296974e-01</td>\n",
       "      <td>-0.226305</td>\n",
       "      <td>0.673232</td>\n",
       "      <td>5.506944e-01</td>\n",
       "      <td>False</td>\n",
       "    </tr>\n",
       "    <tr>\n",
       "      <th>Obese-Underweight</th>\n",
       "      <td>0.452632</td>\n",
       "      <td>0.227545</td>\n",
       "      <td>1.989196</td>\n",
       "      <td>4.703952e-02</td>\n",
       "      <td>0.005937</td>\n",
       "      <td>0.899327</td>\n",
       "      <td>1.345845e-01</td>\n",
       "      <td>False</td>\n",
       "    </tr>\n",
       "    <tr>\n",
       "      <th>Overweight-Normal</th>\n",
       "      <td>0.154836</td>\n",
       "      <td>0.056222</td>\n",
       "      <td>2.754037</td>\n",
       "      <td>6.027912e-03</td>\n",
       "      <td>0.044467</td>\n",
       "      <td>0.265205</td>\n",
       "      <td>2.389451e-02</td>\n",
       "      <td>True</td>\n",
       "    </tr>\n",
       "    <tr>\n",
       "      <th>Obese-Normal</th>\n",
       "      <td>0.384004</td>\n",
       "      <td>0.049456</td>\n",
       "      <td>7.764592</td>\n",
       "      <td>2.664898e-14</td>\n",
       "      <td>0.286917</td>\n",
       "      <td>0.481091</td>\n",
       "      <td>1.598939e-13</td>\n",
       "      <td>True</td>\n",
       "    </tr>\n",
       "    <tr>\n",
       "      <th>Obese-Overweight</th>\n",
       "      <td>0.229168</td>\n",
       "      <td>0.039746</td>\n",
       "      <td>5.765832</td>\n",
       "      <td>1.183880e-08</td>\n",
       "      <td>0.151143</td>\n",
       "      <td>0.307193</td>\n",
       "      <td>5.919399e-08</td>\n",
       "      <td>True</td>\n",
       "    </tr>\n",
       "  </tbody>\n",
       "</table>\n",
       "</div>"
      ],
      "text/plain": [
       "                            coef   std err         t         P>|t|  \\\n",
       "Normal-Underweight      0.068627  0.230993  0.297097  7.664738e-01   \n",
       "Overweight-Underweight  0.223464  0.229111  0.975353  3.296974e-01   \n",
       "Obese-Underweight       0.452632  0.227545  1.989196  4.703952e-02   \n",
       "Overweight-Normal       0.154836  0.056222  2.754037  6.027912e-03   \n",
       "Obese-Normal            0.384004  0.049456  7.764592  2.664898e-14   \n",
       "Obese-Overweight        0.229168  0.039746  5.765832  1.183880e-08   \n",
       "\n",
       "                        Conf. Int. Low  Conf. Int. Upp.     pvalue-hs  \\\n",
       "Normal-Underweight           -0.384837         0.522092  7.664738e-01   \n",
       "Overweight-Underweight       -0.226305         0.673232  5.506944e-01   \n",
       "Obese-Underweight             0.005937         0.899327  1.345845e-01   \n",
       "Overweight-Normal             0.044467         0.265205  2.389451e-02   \n",
       "Obese-Normal                  0.286917         0.481091  1.598939e-13   \n",
       "Obese-Overweight              0.151143         0.307193  5.919399e-08   \n",
       "\n",
       "                        reject-hs  \n",
       "Normal-Underweight          False  \n",
       "Overweight-Underweight      False  \n",
       "Obese-Underweight           False  \n",
       "Overweight-Normal            True  \n",
       "Obese-Normal                 True  \n",
       "Obese-Overweight             True  "
      ]
     },
     "execution_count": 34,
     "metadata": {},
     "output_type": "execute_result"
    }
   ],
   "source": [
    "# post-hoc Bonferroni\n",
    "pair_t = mod.t_test_pairwise('BMI')\n",
    "pair_t.result_frame"
   ]
  },
  {
   "cell_type": "code",
   "execution_count": 35,
   "id": "938ec833",
   "metadata": {},
   "outputs": [
    {
     "name": "stdout",
     "output_type": "stream",
     "text": [
      "             A           B   mean(A)   mean(B)      diff        se         T  \\\n",
      "0  Underweight      Normal  0.000000  0.068627 -0.068627  0.230993 -0.297097   \n",
      "1  Underweight  Overweight  0.000000  0.223464 -0.223464  0.229111 -0.975353   \n",
      "2  Underweight       Obese  0.000000  0.452632 -0.452632  0.227545 -1.989196   \n",
      "3       Normal  Overweight  0.068627  0.223464 -0.154836  0.056222 -2.754037   \n",
      "4       Normal       Obese  0.068627  0.452632 -0.384004  0.049456 -7.764592   \n",
      "5   Overweight       Obese  0.223464  0.452632 -0.229168  0.039746 -5.765832   \n",
      "\n",
      "        p-tukey     cohen  \n",
      "0  9.908788e-01 -0.151433  \n",
      "1  7.635528e-01 -0.493095  \n",
      "2  1.929205e-01 -0.998777  \n",
      "3  3.062633e-02 -0.341662  \n",
      "4  3.410605e-13 -0.847344  \n",
      "5  7.090954e-08 -0.505682  \n"
     ]
    }
   ],
   "source": [
    "# post-hoc pairwise comparisons\n",
    "pt = pg.pairwise_tukey(dv='Outcome', between='BMI', effsize = 'cohen', data=df2)\n",
    "print(pt)"
   ]
  },
  {
   "cell_type": "code",
   "execution_count": 36,
   "id": "d1ef54d2",
   "metadata": {},
   "outputs": [
    {
     "name": "stdout",
     "output_type": "stream",
     "text": [
      "                   sum_sq     df       F    PR(>F)\n",
      "BloodPressure    2.672560    3.0  3.9615  0.008098\n",
      "Residual       171.806607  764.0     NaN       NaN\n"
     ]
    }
   ],
   "source": [
    "# BloodPressure vs Outcome\n",
    "mod = ols('Outcome ~ BloodPressure', data=df2).fit()                \n",
    "aov_table = sm.stats.anova_lm(mod, typ=2)\n",
    "print(aov_table)"
   ]
  },
  {
   "cell_type": "code",
   "execution_count": 37,
   "id": "190630f9",
   "metadata": {},
   "outputs": [
    {
     "data": {
      "text/html": [
       "<div>\n",
       "<style scoped>\n",
       "    .dataframe tbody tr th:only-of-type {\n",
       "        vertical-align: middle;\n",
       "    }\n",
       "\n",
       "    .dataframe tbody tr th {\n",
       "        vertical-align: top;\n",
       "    }\n",
       "\n",
       "    .dataframe thead th {\n",
       "        text-align: right;\n",
       "    }\n",
       "</style>\n",
       "<table border=\"1\" class=\"dataframe\">\n",
       "  <thead>\n",
       "    <tr style=\"text-align: right;\">\n",
       "      <th></th>\n",
       "      <th>coef</th>\n",
       "      <th>std err</th>\n",
       "      <th>t</th>\n",
       "      <th>P&gt;|t|</th>\n",
       "      <th>Conf. Int. Low</th>\n",
       "      <th>Conf. Int. Upp.</th>\n",
       "      <th>pvalue-hs</th>\n",
       "      <th>reject-hs</th>\n",
       "    </tr>\n",
       "  </thead>\n",
       "  <tbody>\n",
       "    <tr>\n",
       "      <th>Stage1-Normal</th>\n",
       "      <td>0.104526</td>\n",
       "      <td>0.044162</td>\n",
       "      <td>2.366866</td>\n",
       "      <td>0.018188</td>\n",
       "      <td>0.017832</td>\n",
       "      <td>0.191220</td>\n",
       "      <td>0.087691</td>\n",
       "      <td>False</td>\n",
       "    </tr>\n",
       "    <tr>\n",
       "      <th>Stage2-Normal</th>\n",
       "      <td>0.175362</td>\n",
       "      <td>0.064892</td>\n",
       "      <td>2.702385</td>\n",
       "      <td>0.007037</td>\n",
       "      <td>0.047975</td>\n",
       "      <td>0.302749</td>\n",
       "      <td>0.041487</td>\n",
       "      <td>True</td>\n",
       "    </tr>\n",
       "    <tr>\n",
       "      <th>Hypertension-Normal</th>\n",
       "      <td>-0.316163</td>\n",
       "      <td>0.474634</td>\n",
       "      <td>-0.666121</td>\n",
       "      <td>0.505535</td>\n",
       "      <td>-1.247905</td>\n",
       "      <td>0.615578</td>\n",
       "      <td>0.765817</td>\n",
       "      <td>False</td>\n",
       "    </tr>\n",
       "    <tr>\n",
       "      <th>Stage2-Stage1</th>\n",
       "      <td>0.070836</td>\n",
       "      <td>0.073228</td>\n",
       "      <td>0.967329</td>\n",
       "      <td>0.333686</td>\n",
       "      <td>-0.072917</td>\n",
       "      <td>0.214588</td>\n",
       "      <td>0.765817</td>\n",
       "      <td>False</td>\n",
       "    </tr>\n",
       "    <tr>\n",
       "      <th>Hypertension-Stage1</th>\n",
       "      <td>-0.420690</td>\n",
       "      <td>0.475845</td>\n",
       "      <td>-0.884089</td>\n",
       "      <td>0.376926</td>\n",
       "      <td>-1.354809</td>\n",
       "      <td>0.513430</td>\n",
       "      <td>0.765817</td>\n",
       "      <td>False</td>\n",
       "    </tr>\n",
       "    <tr>\n",
       "      <th>Hypertension-Stage2</th>\n",
       "      <td>-0.491525</td>\n",
       "      <td>0.478215</td>\n",
       "      <td>-1.027834</td>\n",
       "      <td>0.304353</td>\n",
       "      <td>-1.430296</td>\n",
       "      <td>0.447245</td>\n",
       "      <td>0.765817</td>\n",
       "      <td>False</td>\n",
       "    </tr>\n",
       "  </tbody>\n",
       "</table>\n",
       "</div>"
      ],
      "text/plain": [
       "                         coef   std err         t     P>|t|  Conf. Int. Low  \\\n",
       "Stage1-Normal        0.104526  0.044162  2.366866  0.018188        0.017832   \n",
       "Stage2-Normal        0.175362  0.064892  2.702385  0.007037        0.047975   \n",
       "Hypertension-Normal -0.316163  0.474634 -0.666121  0.505535       -1.247905   \n",
       "Stage2-Stage1        0.070836  0.073228  0.967329  0.333686       -0.072917   \n",
       "Hypertension-Stage1 -0.420690  0.475845 -0.884089  0.376926       -1.354809   \n",
       "Hypertension-Stage2 -0.491525  0.478215 -1.027834  0.304353       -1.430296   \n",
       "\n",
       "                     Conf. Int. Upp.  pvalue-hs  reject-hs  \n",
       "Stage1-Normal               0.191220   0.087691      False  \n",
       "Stage2-Normal               0.302749   0.041487       True  \n",
       "Hypertension-Normal         0.615578   0.765817      False  \n",
       "Stage2-Stage1               0.214588   0.765817      False  \n",
       "Hypertension-Stage1         0.513430   0.765817      False  \n",
       "Hypertension-Stage2         0.447245   0.765817      False  "
      ]
     },
     "execution_count": 37,
     "metadata": {},
     "output_type": "execute_result"
    }
   ],
   "source": [
    "# post-hoc Bonferroni\n",
    "pair_t = mod.t_test_pairwise('BloodPressure')\n",
    "pair_t.result_frame"
   ]
  },
  {
   "cell_type": "code",
   "execution_count": 38,
   "id": "0116f673",
   "metadata": {},
   "outputs": [
    {
     "name": "stdout",
     "output_type": "stream",
     "text": [
      "        A             B   mean(A)   mean(B)      diff        se         T  \\\n",
      "0  Normal        Stage1  0.316163  0.420690 -0.104526  0.044162 -2.366866   \n",
      "1  Normal        Stage2  0.316163  0.491525 -0.175362  0.064892 -2.702385   \n",
      "2  Normal  Hypertension  0.316163  0.000000  0.316163  0.474634  0.666121   \n",
      "3  Stage1        Stage2  0.420690  0.491525 -0.070836  0.073228 -0.967329   \n",
      "4  Stage1  Hypertension  0.420690  0.000000  0.420690  0.475845  0.884089   \n",
      "5  Stage2  Hypertension  0.491525  0.000000  0.491525  0.478215  1.027834   \n",
      "\n",
      "    p-tukey     cohen  \n",
      "0  0.084428 -0.220421  \n",
      "1  0.035391 -0.369796  \n",
      "2  0.909809  0.666712  \n",
      "3  0.768087 -0.149375  \n",
      "4  0.813139  0.887133  \n",
      "5  0.733167  1.036508  \n"
     ]
    }
   ],
   "source": [
    "# post-hoc pairwise comparisons\n",
    "pt = pg.pairwise_tukey(dv='Outcome', between='BloodPressure', effsize = 'cohen', data=df2)\n",
    "print(pt)"
   ]
  },
  {
   "cell_type": "code",
   "execution_count": 39,
   "id": "34056e0c",
   "metadata": {},
   "outputs": [
    {
     "name": "stdout",
     "output_type": "stream",
     "text": [
      "              sum_sq     df         F        PR(>F)\n",
      "Age        13.722829    2.0  32.65179  2.468202e-14\n",
      "Residual  160.756337  765.0       NaN           NaN\n"
     ]
    }
   ],
   "source": [
    "# Age vs Outcome\n",
    "mod = ols('Outcome ~ Age', data=df2).fit()                \n",
    "aov_table = sm.stats.anova_lm(mod, typ=2)\n",
    "print(aov_table)"
   ]
  },
  {
   "cell_type": "code",
   "execution_count": 40,
   "id": "e99386bc",
   "metadata": {},
   "outputs": [
    {
     "data": {
      "text/html": [
       "<div>\n",
       "<style scoped>\n",
       "    .dataframe tbody tr th:only-of-type {\n",
       "        vertical-align: middle;\n",
       "    }\n",
       "\n",
       "    .dataframe tbody tr th {\n",
       "        vertical-align: top;\n",
       "    }\n",
       "\n",
       "    .dataframe thead th {\n",
       "        text-align: right;\n",
       "    }\n",
       "</style>\n",
       "<table border=\"1\" class=\"dataframe\">\n",
       "  <thead>\n",
       "    <tr style=\"text-align: right;\">\n",
       "      <th></th>\n",
       "      <th>coef</th>\n",
       "      <th>std err</th>\n",
       "      <th>t</th>\n",
       "      <th>P&gt;|t|</th>\n",
       "      <th>Conf. Int. Low</th>\n",
       "      <th>Conf. Int. Upp.</th>\n",
       "      <th>pvalue-hs</th>\n",
       "      <th>reject-hs</th>\n",
       "    </tr>\n",
       "  </thead>\n",
       "  <tbody>\n",
       "    <tr>\n",
       "      <th>Adulthood-Youth</th>\n",
       "      <td>0.295596</td>\n",
       "      <td>0.036794</td>\n",
       "      <td>8.033809</td>\n",
       "      <td>3.571037e-15</td>\n",
       "      <td>0.223367</td>\n",
       "      <td>0.367825</td>\n",
       "      <td>1.071311e-14</td>\n",
       "      <td>True</td>\n",
       "    </tr>\n",
       "    <tr>\n",
       "      <th>Seniority-Youth</th>\n",
       "      <td>0.108447</td>\n",
       "      <td>0.118715</td>\n",
       "      <td>0.913512</td>\n",
       "      <td>3.612611e-01</td>\n",
       "      <td>-0.124598</td>\n",
       "      <td>0.341493</td>\n",
       "      <td>3.612611e-01</td>\n",
       "      <td>False</td>\n",
       "    </tr>\n",
       "    <tr>\n",
       "      <th>Seniority-Adulthood</th>\n",
       "      <td>-0.187148</td>\n",
       "      <td>0.116310</td>\n",
       "      <td>-1.609051</td>\n",
       "      <td>1.080178e-01</td>\n",
       "      <td>-0.415472</td>\n",
       "      <td>0.041176</td>\n",
       "      <td>2.043677e-01</td>\n",
       "      <td>False</td>\n",
       "    </tr>\n",
       "  </tbody>\n",
       "</table>\n",
       "</div>"
      ],
      "text/plain": [
       "                         coef   std err         t         P>|t|  \\\n",
       "Adulthood-Youth      0.295596  0.036794  8.033809  3.571037e-15   \n",
       "Seniority-Youth      0.108447  0.118715  0.913512  3.612611e-01   \n",
       "Seniority-Adulthood -0.187148  0.116310 -1.609051  1.080178e-01   \n",
       "\n",
       "                     Conf. Int. Low  Conf. Int. Upp.     pvalue-hs  reject-hs  \n",
       "Adulthood-Youth            0.223367         0.367825  1.071311e-14       True  \n",
       "Seniority-Youth           -0.124598         0.341493  3.612611e-01      False  \n",
       "Seniority-Adulthood       -0.415472         0.041176  2.043677e-01      False  "
      ]
     },
     "execution_count": 40,
     "metadata": {},
     "output_type": "execute_result"
    }
   ],
   "source": [
    "# post-hoc Bonferroni\n",
    "pair_t = mod.t_test_pairwise('Age')\n",
    "pair_t.result_frame"
   ]
  },
  {
   "cell_type": "code",
   "execution_count": 41,
   "id": "531b8512",
   "metadata": {
    "scrolled": true
   },
   "outputs": [
    {
     "name": "stdout",
     "output_type": "stream",
     "text": [
      "           A          B   mean(A)   mean(B)      diff        se         T  \\\n",
      "0      Youth  Adulthood  0.141553  0.437148 -0.295596  0.036794 -8.033809   \n",
      "1      Youth  Seniority  0.141553  0.250000 -0.108447  0.118715 -0.913512   \n",
      "2  Adulthood  Seniority  0.437148  0.250000  0.187148  0.116310  1.609051   \n",
      "\n",
      "    p-tukey     cohen  \n",
      "0  0.000000 -0.644829  \n",
      "1  0.631911 -0.236574  \n",
      "2  0.242382  0.408256  \n"
     ]
    }
   ],
   "source": [
    "# post-hoc pairwise comparisons\n",
    "pt = pg.pairwise_tukey(dv='Outcome', between='Age', effsize = 'cohen', data=df2)\n",
    "print(pt)"
   ]
  },
  {
   "cell_type": "code",
   "execution_count": 42,
   "id": "f463cc25",
   "metadata": {},
   "outputs": [],
   "source": [
    "# -- one way anova end"
   ]
  },
  {
   "cell_type": "code",
   "execution_count": 43,
   "id": "bb1ede9f",
   "metadata": {},
   "outputs": [],
   "source": [
    "# -- two way anova start"
   ]
  },
  {
   "cell_type": "code",
   "execution_count": 44,
   "id": "1ff5d8c1-d6dd-4e67-9465-b3638c1f42c2",
   "metadata": {
    "scrolled": true
   },
   "outputs": [
    {
     "data": {
      "text/html": [
       "<div>\n",
       "<style scoped>\n",
       "    .dataframe tbody tr th:only-of-type {\n",
       "        vertical-align: middle;\n",
       "    }\n",
       "\n",
       "    .dataframe tbody tr th {\n",
       "        vertical-align: top;\n",
       "    }\n",
       "\n",
       "    .dataframe thead th {\n",
       "        text-align: right;\n",
       "    }\n",
       "</style>\n",
       "<table border=\"1\" class=\"dataframe\">\n",
       "  <thead>\n",
       "    <tr style=\"text-align: right;\">\n",
       "      <th></th>\n",
       "      <th>df</th>\n",
       "      <th>sum_sq</th>\n",
       "      <th>mean_sq</th>\n",
       "      <th>F</th>\n",
       "      <th>PR(&gt;F)</th>\n",
       "    </tr>\n",
       "  </thead>\n",
       "  <tbody>\n",
       "    <tr>\n",
       "      <th>C(Glucose)</th>\n",
       "      <td>2.0</td>\n",
       "      <td>29.422677</td>\n",
       "      <td>14.711338</td>\n",
       "      <td>78.211341</td>\n",
       "      <td>1.285812e-31</td>\n",
       "    </tr>\n",
       "    <tr>\n",
       "      <th>C(BloodPressure)</th>\n",
       "      <td>3.0</td>\n",
       "      <td>0.901285</td>\n",
       "      <td>0.300428</td>\n",
       "      <td>1.597197</td>\n",
       "      <td>1.886576e-01</td>\n",
       "    </tr>\n",
       "    <tr>\n",
       "      <th>C(Glucose):C(BloodPressure)</th>\n",
       "      <td>6.0</td>\n",
       "      <td>1.848148</td>\n",
       "      <td>0.308025</td>\n",
       "      <td>1.637582</td>\n",
       "      <td>1.338590e-01</td>\n",
       "    </tr>\n",
       "    <tr>\n",
       "      <th>Residual</th>\n",
       "      <td>761.0</td>\n",
       "      <td>143.142009</td>\n",
       "      <td>0.188097</td>\n",
       "      <td>NaN</td>\n",
       "      <td>NaN</td>\n",
       "    </tr>\n",
       "  </tbody>\n",
       "</table>\n",
       "</div>"
      ],
      "text/plain": [
       "                                df      sum_sq    mean_sq          F  \\\n",
       "C(Glucose)                     2.0   29.422677  14.711338  78.211341   \n",
       "C(BloodPressure)               3.0    0.901285   0.300428   1.597197   \n",
       "C(Glucose):C(BloodPressure)    6.0    1.848148   0.308025   1.637582   \n",
       "Residual                     761.0  143.142009   0.188097        NaN   \n",
       "\n",
       "                                   PR(>F)  \n",
       "C(Glucose)                   1.285812e-31  \n",
       "C(BloodPressure)             1.886576e-01  \n",
       "C(Glucose):C(BloodPressure)  1.338590e-01  \n",
       "Residual                              NaN  "
      ]
     },
     "execution_count": 44,
     "metadata": {},
     "output_type": "execute_result"
    }
   ],
   "source": [
    "# 2 way anova: (1) Glucose vs. blood pressure, (2) Glucose vs. Insulin, (3) Glucose vs. BMI, (4) BloodPressure vs. Insulin, \n",
    "# (5) BloodPressure vs BMI, (6) Insulin vs BMI, (7) GLucose vs. Age, (8) BloodPressure vs Age, (9) Insulin vs Age, (10) BMI vs Age\n",
    "\n",
    "model1 = ols('Outcome ~ C(Glucose) + C(BloodPressure) + C(Glucose):C(BloodPressure)', data=df2).fit()\n",
    "anova_table1 = sm.stats.anova_lm(model1)\n",
    "anova_table1"
   ]
  },
  {
   "cell_type": "code",
   "execution_count": 45,
   "id": "24e8e0e7",
   "metadata": {
    "scrolled": true
   },
   "outputs": [
    {
     "name": "stdout",
     "output_type": "stream",
     "text": [
      "         group1  group2      Diff     Lower     Upper    q-value  p-value\n",
      "0  Intermediate  Normal  0.456657  0.385631  0.527684  17.849722    0.001\n"
     ]
    }
   ],
   "source": [
    "#post hoc test for main effect Glucose\n",
    "res = stat()\n",
    "res.tukey_hsd(df=df2, res_var='Outcome', xfac_var='Glucose', anova_model='Outcome ~ C(Glucose) + C(BloodPressure) + C(Glucose):C(BloodPressure)')\n",
    "result = res.tukey_summary\n",
    "result = result.loc[result['p-value'] <= 0.05]\n",
    "print(result)"
   ]
  },
  {
   "cell_type": "code",
   "execution_count": 46,
   "id": "222457ec",
   "metadata": {},
   "outputs": [
    {
     "name": "stdout",
     "output_type": "stream",
     "text": [
      "   group1  group2      Diff     Lower     Upper   q-value   p-value\n",
      "0  Normal  Stage2  0.179639  0.022762  0.336516  4.169678  0.017315\n",
      "1  Normal  Stage1  0.109420  0.005963  0.212876  3.851211  0.033416\n"
     ]
    }
   ],
   "source": [
    "#post hoc test for main effect BloodPressure\n",
    "res = stat()\n",
    "res.tukey_hsd(df=df2, res_var='Outcome', xfac_var='BloodPressure', anova_model='Outcome ~ C(Glucose) + C(BloodPressure) + C(Glucose):C(BloodPressure)')\n",
    "result = res.tukey_summary\n",
    "result = result.loc[result['p-value'] <= 0.05]\n",
    "print(result)"
   ]
  },
  {
   "cell_type": "code",
   "execution_count": 47,
   "id": "6e758f0f",
   "metadata": {},
   "outputs": [
    {
     "data": {
      "text/html": [
       "<div>\n",
       "<style scoped>\n",
       "    .dataframe tbody tr th:only-of-type {\n",
       "        vertical-align: middle;\n",
       "    }\n",
       "\n",
       "    .dataframe tbody tr th {\n",
       "        vertical-align: top;\n",
       "    }\n",
       "\n",
       "    .dataframe thead th {\n",
       "        text-align: right;\n",
       "    }\n",
       "</style>\n",
       "<table border=\"1\" class=\"dataframe\">\n",
       "  <thead>\n",
       "    <tr style=\"text-align: right;\">\n",
       "      <th></th>\n",
       "      <th>coef</th>\n",
       "      <th>std err</th>\n",
       "      <th>t</th>\n",
       "      <th>P&gt;|t|</th>\n",
       "      <th>Conf. Int. Low</th>\n",
       "      <th>Conf. Int. Upp.</th>\n",
       "      <th>pvalue-hs</th>\n",
       "      <th>reject-hs</th>\n",
       "    </tr>\n",
       "  </thead>\n",
       "  <tbody>\n",
       "    <tr>\n",
       "      <th>Stage1-Normal</th>\n",
       "      <td>0.104526</td>\n",
       "      <td>0.044162</td>\n",
       "      <td>2.366866</td>\n",
       "      <td>0.018188</td>\n",
       "      <td>0.017832</td>\n",
       "      <td>0.191220</td>\n",
       "      <td>0.087691</td>\n",
       "      <td>False</td>\n",
       "    </tr>\n",
       "    <tr>\n",
       "      <th>Stage2-Normal</th>\n",
       "      <td>0.175362</td>\n",
       "      <td>0.064892</td>\n",
       "      <td>2.702385</td>\n",
       "      <td>0.007037</td>\n",
       "      <td>0.047975</td>\n",
       "      <td>0.302749</td>\n",
       "      <td>0.041487</td>\n",
       "      <td>True</td>\n",
       "    </tr>\n",
       "    <tr>\n",
       "      <th>Hypertension-Normal</th>\n",
       "      <td>-0.316163</td>\n",
       "      <td>0.474634</td>\n",
       "      <td>-0.666121</td>\n",
       "      <td>0.505535</td>\n",
       "      <td>-1.247905</td>\n",
       "      <td>0.615578</td>\n",
       "      <td>0.765817</td>\n",
       "      <td>False</td>\n",
       "    </tr>\n",
       "    <tr>\n",
       "      <th>Stage2-Stage1</th>\n",
       "      <td>0.070836</td>\n",
       "      <td>0.073228</td>\n",
       "      <td>0.967329</td>\n",
       "      <td>0.333686</td>\n",
       "      <td>-0.072917</td>\n",
       "      <td>0.214588</td>\n",
       "      <td>0.765817</td>\n",
       "      <td>False</td>\n",
       "    </tr>\n",
       "    <tr>\n",
       "      <th>Hypertension-Stage1</th>\n",
       "      <td>-0.420690</td>\n",
       "      <td>0.475845</td>\n",
       "      <td>-0.884089</td>\n",
       "      <td>0.376926</td>\n",
       "      <td>-1.354809</td>\n",
       "      <td>0.513430</td>\n",
       "      <td>0.765817</td>\n",
       "      <td>False</td>\n",
       "    </tr>\n",
       "    <tr>\n",
       "      <th>Hypertension-Stage2</th>\n",
       "      <td>-0.491525</td>\n",
       "      <td>0.478215</td>\n",
       "      <td>-1.027834</td>\n",
       "      <td>0.304353</td>\n",
       "      <td>-1.430296</td>\n",
       "      <td>0.447245</td>\n",
       "      <td>0.765817</td>\n",
       "      <td>False</td>\n",
       "    </tr>\n",
       "  </tbody>\n",
       "</table>\n",
       "</div>"
      ],
      "text/plain": [
       "                         coef   std err         t     P>|t|  Conf. Int. Low  \\\n",
       "Stage1-Normal        0.104526  0.044162  2.366866  0.018188        0.017832   \n",
       "Stage2-Normal        0.175362  0.064892  2.702385  0.007037        0.047975   \n",
       "Hypertension-Normal -0.316163  0.474634 -0.666121  0.505535       -1.247905   \n",
       "Stage2-Stage1        0.070836  0.073228  0.967329  0.333686       -0.072917   \n",
       "Hypertension-Stage1 -0.420690  0.475845 -0.884089  0.376926       -1.354809   \n",
       "Hypertension-Stage2 -0.491525  0.478215 -1.027834  0.304353       -1.430296   \n",
       "\n",
       "                     Conf. Int. Upp.  pvalue-hs  reject-hs  \n",
       "Stage1-Normal               0.191220   0.087691      False  \n",
       "Stage2-Normal               0.302749   0.041487       True  \n",
       "Hypertension-Normal         0.615578   0.765817      False  \n",
       "Stage2-Stage1               0.214588   0.765817      False  \n",
       "Hypertension-Stage1         0.513430   0.765817      False  \n",
       "Hypertension-Stage2         0.447245   0.765817      False  "
      ]
     },
     "execution_count": 47,
     "metadata": {},
     "output_type": "execute_result"
    }
   ],
   "source": [
    "#Bonferroni\n",
    "\n",
    "mod = ols('Outcome ~ BloodPressure', data=df2).fit()\n",
    "\n",
    "pair_t = mod.t_test_pairwise('BloodPressure')\n",
    "pair_t.result_frame"
   ]
  },
  {
   "cell_type": "code",
   "execution_count": 48,
   "id": "b3ed5960",
   "metadata": {
    "scrolled": true
   },
   "outputs": [
    {
     "name": "stdout",
     "output_type": "stream",
     "text": [
      "        A             B   mean(A)   mean(B)      diff        se         T  \\\n",
      "0  Normal        Stage1  0.316163  0.420690 -0.104526  0.044162 -2.366866   \n",
      "1  Normal        Stage2  0.316163  0.491525 -0.175362  0.064892 -2.702385   \n",
      "2  Normal  Hypertension  0.316163  0.000000  0.316163  0.474634  0.666121   \n",
      "3  Stage1        Stage2  0.420690  0.491525 -0.070836  0.073228 -0.967329   \n",
      "4  Stage1  Hypertension  0.420690  0.000000  0.420690  0.475845  0.884089   \n",
      "5  Stage2  Hypertension  0.491525  0.000000  0.491525  0.478215  1.027834   \n",
      "\n",
      "    p-tukey     cohen  \n",
      "0  0.084428 -0.220421  \n",
      "1  0.035391 -0.369796  \n",
      "2  0.909809  0.666712  \n",
      "3  0.768087 -0.149375  \n",
      "4  0.813139  0.887133  \n",
      "5  0.733167  1.036508  \n"
     ]
    }
   ],
   "source": [
    "#pairwise comparisons\n",
    "pt = pg.pairwise_tukey(dv='Outcome', between='BloodPressure', effsize = 'cohen', data=df2)\n",
    "print(pt)"
   ]
  },
  {
   "cell_type": "code",
   "execution_count": 49,
   "id": "579e86c7",
   "metadata": {},
   "outputs": [
    {
     "name": "stdout",
     "output_type": "stream",
     "text": [
      "\n",
      "NaN result encountered.\n",
      "\n",
      "NaN result encountered.\n",
      "\n",
      "NaN result encountered.\n",
      "\n",
      "NaN result encountered.\n",
      "\n",
      "NaN result encountered.\n",
      "\n",
      "NaN result encountered.\n",
      "\n",
      "NaN result encountered.\n",
      "\n",
      "NaN result encountered.\n",
      "\n",
      "NaN result encountered.\n",
      "\n",
      "NaN result encountered.\n",
      "\n",
      "NaN result encountered.\n",
      "\n",
      "NaN result encountered.\n",
      "                    group1            group2      Diff     Lower     Upper  \\\n",
      "3   (Intermediate, Normal)  (Normal, Normal)  0.488735  0.354154  0.623317   \n",
      "4   (Intermediate, Normal)  (Normal, Stage2)  0.421488  0.164141  0.678835   \n",
      "5   (Intermediate, Normal)  (Normal, Stage1)  0.360882  0.183295  0.538468   \n",
      "9   (Intermediate, Stage2)  (Normal, Normal)  0.612702  0.326391  0.899014   \n",
      "10  (Intermediate, Stage2)  (Normal, Stage2)  0.545455  0.184775  0.906134   \n",
      "11  (Intermediate, Stage2)  (Normal, Stage1)  0.484848  0.175981  0.793716   \n",
      "14  (Intermediate, Stage1)  (Normal, Normal)  0.403216  0.200114  0.606319   \n",
      "15  (Intermediate, Stage1)  (Normal, Stage2)  0.335968  0.037027  0.634910   \n",
      "16  (Intermediate, Stage1)  (Normal, Stage1)  0.275362  0.041535  0.509190   \n",
      "\n",
      "      q-value   p-value  \n",
      "3   15.609771  0.001000  \n",
      "4    7.040005  0.001000  \n",
      "5    8.734992  0.001000  \n",
      "9    9.198519  0.001000  \n",
      "10   6.500465  0.001000  \n",
      "11   6.747473  0.001000  \n",
      "14   8.533558  0.001000  \n",
      "15   4.830806  0.015366  \n",
      "16   5.061927  0.008732  \n"
     ]
    }
   ],
   "source": [
    "#post hoc test for main effect Glucose and BloodPressure\n",
    "res = stat()\n",
    "res.tukey_hsd(df=df2, res_var='Outcome', xfac_var=['Glucose', 'BloodPressure'], anova_model='Outcome ~ C(Glucose) + C(BloodPressure) + C(Glucose):C(BloodPressure)')\n",
    "result = res.tukey_summary\n",
    "result = result.loc[result['p-value'] <= 0.05]\n",
    "print(result)"
   ]
  },
  {
   "cell_type": "code",
   "execution_count": 50,
   "id": "f75212a5-e3c4-4839-89e4-50830fd10a53",
   "metadata": {},
   "outputs": [
    {
     "data": {
      "text/html": [
       "<div>\n",
       "<style scoped>\n",
       "    .dataframe tbody tr th:only-of-type {\n",
       "        vertical-align: middle;\n",
       "    }\n",
       "\n",
       "    .dataframe tbody tr th {\n",
       "        vertical-align: top;\n",
       "    }\n",
       "\n",
       "    .dataframe thead th {\n",
       "        text-align: right;\n",
       "    }\n",
       "</style>\n",
       "<table border=\"1\" class=\"dataframe\">\n",
       "  <thead>\n",
       "    <tr style=\"text-align: right;\">\n",
       "      <th></th>\n",
       "      <th>df</th>\n",
       "      <th>sum_sq</th>\n",
       "      <th>mean_sq</th>\n",
       "      <th>F</th>\n",
       "      <th>PR(&gt;F)</th>\n",
       "    </tr>\n",
       "  </thead>\n",
       "  <tbody>\n",
       "    <tr>\n",
       "      <th>C(Glucose)</th>\n",
       "      <td>2.0</td>\n",
       "      <td>29.422677</td>\n",
       "      <td>14.711338</td>\n",
       "      <td>77.637516</td>\n",
       "      <td>2.037028e-31</td>\n",
       "    </tr>\n",
       "    <tr>\n",
       "      <th>C(Insulin)</th>\n",
       "      <td>2.0</td>\n",
       "      <td>0.539706</td>\n",
       "      <td>0.269853</td>\n",
       "      <td>1.424121</td>\n",
       "      <td>2.413592e-01</td>\n",
       "    </tr>\n",
       "    <tr>\n",
       "      <th>C(Glucose):C(Insulin)</th>\n",
       "      <td>4.0</td>\n",
       "      <td>1.223760</td>\n",
       "      <td>0.305940</td>\n",
       "      <td>1.614565</td>\n",
       "      <td>1.686426e-01</td>\n",
       "    </tr>\n",
       "    <tr>\n",
       "      <th>Residual</th>\n",
       "      <td>763.0</td>\n",
       "      <td>144.578957</td>\n",
       "      <td>0.189487</td>\n",
       "      <td>NaN</td>\n",
       "      <td>NaN</td>\n",
       "    </tr>\n",
       "  </tbody>\n",
       "</table>\n",
       "</div>"
      ],
      "text/plain": [
       "                          df      sum_sq    mean_sq          F        PR(>F)\n",
       "C(Glucose)               2.0   29.422677  14.711338  77.637516  2.037028e-31\n",
       "C(Insulin)               2.0    0.539706   0.269853   1.424121  2.413592e-01\n",
       "C(Glucose):C(Insulin)    4.0    1.223760   0.305940   1.614565  1.686426e-01\n",
       "Residual               763.0  144.578957   0.189487        NaN           NaN"
      ]
     },
     "execution_count": 50,
     "metadata": {},
     "output_type": "execute_result"
    }
   ],
   "source": [
    "model2 = ols('Outcome ~ C(Glucose) + C(Insulin) + C(Glucose):C(Insulin)', data=df2).fit()\n",
    "anova_table2 = sm.stats.anova_lm(model2)\n",
    "anova_table2"
   ]
  },
  {
   "cell_type": "code",
   "execution_count": 51,
   "id": "e4ddd082",
   "metadata": {
    "scrolled": true
   },
   "outputs": [
    {
     "name": "stdout",
     "output_type": "stream",
     "text": [
      "         group1  group2      Diff     Lower     Upper    q-value  p-value\n",
      "0  Intermediate  Normal  0.456657  0.385277  0.528038  17.761081    0.001\n"
     ]
    }
   ],
   "source": [
    "#post hoc test for main effect Glucose\n",
    "res = stat()\n",
    "res.tukey_hsd(df=df2, res_var='Outcome', xfac_var='Glucose', anova_model='Outcome ~ C(Glucose) + C(Insulin) + C(Glucose):C(Insulin)')\n",
    "result = res.tukey_summary\n",
    "result = result.loc[result['p-value'] <= 0.05]\n",
    "print(result)"
   ]
  },
  {
   "cell_type": "code",
   "execution_count": 52,
   "id": "d520bd9b",
   "metadata": {},
   "outputs": [
    {
     "name": "stdout",
     "output_type": "stream",
     "text": [
      "         group1  group2      Diff     Lower     Upper    q-value  p-value\n",
      "0  Intermediate  Normal  0.456657  0.385277  0.528038  17.761081    0.001\n"
     ]
    }
   ],
   "source": [
    "#post hoc test for main effect Insulin\n",
    "res = stat()\n",
    "res.tukey_hsd(df=df2, res_var='Outcome', xfac_var='Glucose', anova_model='Outcome ~ C(Glucose) + C(Insulin) + C(Glucose):C(Insulin)')\n",
    "result = res.tukey_summary\n",
    "result = result.loc[result['p-value'] <= 0.05]\n",
    "print(result)"
   ]
  },
  {
   "cell_type": "code",
   "execution_count": 53,
   "id": "a97541bc",
   "metadata": {},
   "outputs": [
    {
     "name": "stdout",
     "output_type": "stream",
     "text": [
      "                         group1                  group2      Diff     Lower  \\\n",
      "2    (Intermediate, Deficiency)    (Normal, Deficiency)  0.454991  0.336800   \n",
      "3    (Intermediate, Deficiency)  (Normal, Intermediate)  0.375604  0.143930   \n",
      "6  (Intermediate, Intermediate)    (Normal, Deficiency)  0.488117  0.303351   \n",
      "7  (Intermediate, Intermediate)  (Normal, Intermediate)  0.408730  0.136991   \n",
      "\n",
      "      Upper    q-value  p-value  \n",
      "2  0.573182  15.554237    0.001  \n",
      "3  0.607277   6.550630    0.001  \n",
      "6  0.672884  10.674061    0.001  \n",
      "7  0.680470   6.077337    0.001  \n"
     ]
    }
   ],
   "source": [
    "#post hoc test for main effect Glucose and Insulin\n",
    "res = stat()\n",
    "res.tukey_hsd(df=df2, res_var='Outcome', xfac_var=['Glucose', 'Insulin'], anova_model='Outcome ~ C(Glucose) + C(Insulin) + C(Glucose):C(Insulin)')\n",
    "result = res.tukey_summary\n",
    "result = result.loc[result['p-value'] <= 0.05]\n",
    "print(result)"
   ]
  },
  {
   "cell_type": "code",
   "execution_count": 54,
   "id": "12a92c5d-ca9b-43d6-901c-9a9e28af0543",
   "metadata": {
    "scrolled": true
   },
   "outputs": [
    {
     "data": {
      "text/html": [
       "<div>\n",
       "<style scoped>\n",
       "    .dataframe tbody tr th:only-of-type {\n",
       "        vertical-align: middle;\n",
       "    }\n",
       "\n",
       "    .dataframe tbody tr th {\n",
       "        vertical-align: top;\n",
       "    }\n",
       "\n",
       "    .dataframe thead th {\n",
       "        text-align: right;\n",
       "    }\n",
       "</style>\n",
       "<table border=\"1\" class=\"dataframe\">\n",
       "  <thead>\n",
       "    <tr style=\"text-align: right;\">\n",
       "      <th></th>\n",
       "      <th>df</th>\n",
       "      <th>sum_sq</th>\n",
       "      <th>mean_sq</th>\n",
       "      <th>F</th>\n",
       "      <th>PR(&gt;F)</th>\n",
       "    </tr>\n",
       "  </thead>\n",
       "  <tbody>\n",
       "    <tr>\n",
       "      <th>C(Glucose)</th>\n",
       "      <td>2.0</td>\n",
       "      <td>29.694103</td>\n",
       "      <td>14.847051</td>\n",
       "      <td>84.992998</td>\n",
       "      <td>5.216135e-34</td>\n",
       "    </tr>\n",
       "    <tr>\n",
       "      <th>C(BMI)</th>\n",
       "      <td>3.0</td>\n",
       "      <td>9.638370</td>\n",
       "      <td>3.212790</td>\n",
       "      <td>18.391844</td>\n",
       "      <td>1.595700e-11</td>\n",
       "    </tr>\n",
       "    <tr>\n",
       "      <th>C(Glucose):C(BMI)</th>\n",
       "      <td>6.0</td>\n",
       "      <td>1.658681</td>\n",
       "      <td>0.276447</td>\n",
       "      <td>1.582540</td>\n",
       "      <td>1.492689e-01</td>\n",
       "    </tr>\n",
       "    <tr>\n",
       "      <th>Residual</th>\n",
       "      <td>753.0</td>\n",
       "      <td>131.538243</td>\n",
       "      <td>0.174686</td>\n",
       "      <td>NaN</td>\n",
       "      <td>NaN</td>\n",
       "    </tr>\n",
       "  </tbody>\n",
       "</table>\n",
       "</div>"
      ],
      "text/plain": [
       "                      df      sum_sq    mean_sq          F        PR(>F)\n",
       "C(Glucose)           2.0   29.694103  14.847051  84.992998  5.216135e-34\n",
       "C(BMI)               3.0    9.638370   3.212790  18.391844  1.595700e-11\n",
       "C(Glucose):C(BMI)    6.0    1.658681   0.276447   1.582540  1.492689e-01\n",
       "Residual           753.0  131.538243   0.174686        NaN           NaN"
      ]
     },
     "execution_count": 54,
     "metadata": {},
     "output_type": "execute_result"
    }
   ],
   "source": [
    "model3 = ols('Outcome ~ C(Glucose) + C(BMI) + C(Glucose):C(BMI)', data=df2).fit()\n",
    "anova_table3 = sm.stats.anova_lm(model3)\n",
    "anova_table3"
   ]
  },
  {
   "cell_type": "code",
   "execution_count": 55,
   "id": "59739142",
   "metadata": {},
   "outputs": [
    {
     "name": "stdout",
     "output_type": "stream",
     "text": [
      "         group1  group2      Diff     Lower     Upper    q-value  p-value\n",
      "0  Intermediate  Normal  0.456657  0.385277  0.528038  17.761081    0.001\n"
     ]
    }
   ],
   "source": [
    "#post hoc test for main effect Glucose\n",
    "res = stat()\n",
    "res.tukey_hsd(df=df2, res_var='Outcome', xfac_var='Glucose', anova_model='Outcome ~ C(Glucose) + C(Insulin) + C(Glucose):C(Insulin)')\n",
    "result = res.tukey_summary\n",
    "result = result.loc[result['p-value'] <= 0.05]\n",
    "print(result)"
   ]
  },
  {
   "cell_type": "code",
   "execution_count": 56,
   "id": "e28bb649",
   "metadata": {},
   "outputs": [
    {
     "data": {
      "text/html": [
       "<div>\n",
       "<style scoped>\n",
       "    .dataframe tbody tr th:only-of-type {\n",
       "        vertical-align: middle;\n",
       "    }\n",
       "\n",
       "    .dataframe tbody tr th {\n",
       "        vertical-align: top;\n",
       "    }\n",
       "\n",
       "    .dataframe thead th {\n",
       "        text-align: right;\n",
       "    }\n",
       "</style>\n",
       "<table border=\"1\" class=\"dataframe\">\n",
       "  <thead>\n",
       "    <tr style=\"text-align: right;\">\n",
       "      <th></th>\n",
       "      <th>coef</th>\n",
       "      <th>std err</th>\n",
       "      <th>t</th>\n",
       "      <th>P&gt;|t|</th>\n",
       "      <th>Conf. Int. Low</th>\n",
       "      <th>Conf. Int. Upp.</th>\n",
       "      <th>pvalue-hs</th>\n",
       "      <th>reject-hs</th>\n",
       "    </tr>\n",
       "  </thead>\n",
       "  <tbody>\n",
       "    <tr>\n",
       "      <th>Stage1-Normal</th>\n",
       "      <td>0.104526</td>\n",
       "      <td>0.044162</td>\n",
       "      <td>2.366866</td>\n",
       "      <td>0.018188</td>\n",
       "      <td>0.017832</td>\n",
       "      <td>0.191220</td>\n",
       "      <td>0.087691</td>\n",
       "      <td>False</td>\n",
       "    </tr>\n",
       "    <tr>\n",
       "      <th>Stage2-Normal</th>\n",
       "      <td>0.175362</td>\n",
       "      <td>0.064892</td>\n",
       "      <td>2.702385</td>\n",
       "      <td>0.007037</td>\n",
       "      <td>0.047975</td>\n",
       "      <td>0.302749</td>\n",
       "      <td>0.041487</td>\n",
       "      <td>True</td>\n",
       "    </tr>\n",
       "    <tr>\n",
       "      <th>Hypertension-Normal</th>\n",
       "      <td>-0.316163</td>\n",
       "      <td>0.474634</td>\n",
       "      <td>-0.666121</td>\n",
       "      <td>0.505535</td>\n",
       "      <td>-1.247905</td>\n",
       "      <td>0.615578</td>\n",
       "      <td>0.765817</td>\n",
       "      <td>False</td>\n",
       "    </tr>\n",
       "    <tr>\n",
       "      <th>Stage2-Stage1</th>\n",
       "      <td>0.070836</td>\n",
       "      <td>0.073228</td>\n",
       "      <td>0.967329</td>\n",
       "      <td>0.333686</td>\n",
       "      <td>-0.072917</td>\n",
       "      <td>0.214588</td>\n",
       "      <td>0.765817</td>\n",
       "      <td>False</td>\n",
       "    </tr>\n",
       "    <tr>\n",
       "      <th>Hypertension-Stage1</th>\n",
       "      <td>-0.420690</td>\n",
       "      <td>0.475845</td>\n",
       "      <td>-0.884089</td>\n",
       "      <td>0.376926</td>\n",
       "      <td>-1.354809</td>\n",
       "      <td>0.513430</td>\n",
       "      <td>0.765817</td>\n",
       "      <td>False</td>\n",
       "    </tr>\n",
       "    <tr>\n",
       "      <th>Hypertension-Stage2</th>\n",
       "      <td>-0.491525</td>\n",
       "      <td>0.478215</td>\n",
       "      <td>-1.027834</td>\n",
       "      <td>0.304353</td>\n",
       "      <td>-1.430296</td>\n",
       "      <td>0.447245</td>\n",
       "      <td>0.765817</td>\n",
       "      <td>False</td>\n",
       "    </tr>\n",
       "  </tbody>\n",
       "</table>\n",
       "</div>"
      ],
      "text/plain": [
       "                         coef   std err         t     P>|t|  Conf. Int. Low  \\\n",
       "Stage1-Normal        0.104526  0.044162  2.366866  0.018188        0.017832   \n",
       "Stage2-Normal        0.175362  0.064892  2.702385  0.007037        0.047975   \n",
       "Hypertension-Normal -0.316163  0.474634 -0.666121  0.505535       -1.247905   \n",
       "Stage2-Stage1        0.070836  0.073228  0.967329  0.333686       -0.072917   \n",
       "Hypertension-Stage1 -0.420690  0.475845 -0.884089  0.376926       -1.354809   \n",
       "Hypertension-Stage2 -0.491525  0.478215 -1.027834  0.304353       -1.430296   \n",
       "\n",
       "                     Conf. Int. Upp.  pvalue-hs  reject-hs  \n",
       "Stage1-Normal               0.191220   0.087691      False  \n",
       "Stage2-Normal               0.302749   0.041487       True  \n",
       "Hypertension-Normal         0.615578   0.765817      False  \n",
       "Stage2-Stage1               0.214588   0.765817      False  \n",
       "Hypertension-Stage1         0.513430   0.765817      False  \n",
       "Hypertension-Stage2         0.447245   0.765817      False  "
      ]
     },
     "execution_count": 56,
     "metadata": {},
     "output_type": "execute_result"
    }
   ],
   "source": [
    "#Bonferroni\n",
    "\n",
    "mod = ols('Outcome ~ BloodPressure', data=df2).fit()\n",
    "\n",
    "pair_t = mod.t_test_pairwise('BloodPressure')\n",
    "pair_t.result_frame"
   ]
  },
  {
   "cell_type": "code",
   "execution_count": 57,
   "id": "9c4ce9c7",
   "metadata": {},
   "outputs": [
    {
     "name": "stdout",
     "output_type": "stream",
     "text": [
      "        A             B   mean(A)   mean(B)      diff        se         T  \\\n",
      "0  Normal        Stage1  0.316163  0.420690 -0.104526  0.044162 -2.366866   \n",
      "1  Normal        Stage2  0.316163  0.491525 -0.175362  0.064892 -2.702385   \n",
      "2  Normal  Hypertension  0.316163  0.000000  0.316163  0.474634  0.666121   \n",
      "3  Stage1        Stage2  0.420690  0.491525 -0.070836  0.073228 -0.967329   \n",
      "4  Stage1  Hypertension  0.420690  0.000000  0.420690  0.475845  0.884089   \n",
      "5  Stage2  Hypertension  0.491525  0.000000  0.491525  0.478215  1.027834   \n",
      "\n",
      "    p-tukey     cohen  \n",
      "0  0.084428 -0.220421  \n",
      "1  0.035391 -0.369796  \n",
      "2  0.909809  0.666712  \n",
      "3  0.768087 -0.149375  \n",
      "4  0.813139  0.887133  \n",
      "5  0.733167  1.036508  \n"
     ]
    }
   ],
   "source": [
    "#pairwise comparisons\n",
    "pt = pg.pairwise_tukey(dv='Outcome', between='BloodPressure', effsize = 'cohen', data=df2)\n",
    "print(pt)"
   ]
  },
  {
   "cell_type": "code",
   "execution_count": 58,
   "id": "0cc161e0",
   "metadata": {},
   "outputs": [
    {
     "name": "stdout",
     "output_type": "stream",
     "text": [
      "       group1      group2      Diff     Lower     Upper    q-value   p-value\n",
      "0       Obese  Overweight  0.229168  0.131323  0.327012   8.528547  0.001000\n",
      "1       Obese      Normal  0.384004  0.262256  0.505752  11.485019  0.001000\n",
      "3  Overweight      Normal  0.154836  0.016433  0.293240   4.073642  0.021229\n"
     ]
    }
   ],
   "source": [
    "#post hoc test for main effect BMI\n",
    "res = stat()\n",
    "res.tukey_hsd(df=df2, res_var='Outcome', xfac_var='BMI', anova_model='Outcome ~ C(Glucose) + C(Insulin) + C(Glucose):C(Insulin)')\n",
    "result = res.tukey_summary\n",
    "result = result.loc[result['p-value'] <= 0.05]\n",
    "print(result)"
   ]
  },
  {
   "cell_type": "code",
   "execution_count": 59,
   "id": "4cab46bc",
   "metadata": {
    "scrolled": false
   },
   "outputs": [
    {
     "name": "stdout",
     "output_type": "stream",
     "text": [
      "\n",
      "NaN result encountered.\n",
      "\n",
      "NaN result encountered.\n",
      "\n",
      "NaN result encountered.\n",
      "\n",
      "NaN result encountered.\n",
      "\n",
      "NaN result encountered.\n",
      "\n",
      "NaN result encountered.\n",
      "\n",
      "NaN result encountered.\n",
      "\n",
      "NaN result encountered.\n",
      "\n",
      "NaN result encountered.\n",
      "\n",
      "NaN result encountered.\n",
      "\n",
      "NaN result encountered.\n",
      "\n",
      "NaN result encountered.\n",
      "                        group1                      group2      Diff  \\\n",
      "0        (Intermediate, Obese)  (Intermediate, Overweight)  0.355655   \n",
      "3        (Intermediate, Obese)             (Normal, Obese)  0.447880   \n",
      "4        (Intermediate, Obese)        (Normal, Overweight)  0.578231   \n",
      "5        (Intermediate, Obese)            (Normal, Normal)  0.740166   \n",
      "6        (Intermediate, Obese)       (Normal, Underweight)  0.761905   \n",
      "11  (Intermediate, Overweight)            (Normal, Normal)  0.384511   \n",
      "16      (Intermediate, Normal)            (Normal, Normal)  0.478261   \n",
      "23             (Normal, Obese)            (Normal, Normal)  0.292285   \n",
      "\n",
      "       Lower     Upper    q-value   p-value  \n",
      "0   0.098757  0.612552   5.950762  0.001000  \n",
      "3   0.317168  0.578593  14.728131  0.001000  \n",
      "4   0.424620  0.731843  16.180133  0.001000  \n",
      "5   0.565095  0.915236  18.172696  0.001000  \n",
      "6   0.094534  1.429275   4.907245  0.012789  \n",
      "11  0.114234  0.654788   6.115099  0.001000  \n",
      "16  0.039757  0.916765   4.688085  0.021443  \n",
      "23  0.136917  0.447653   8.086301  0.001000  \n"
     ]
    }
   ],
   "source": [
    "#post hoc test for main effect Glucose and BMI\n",
    "res = stat()\n",
    "res.tukey_hsd(df=df2, res_var='Outcome', xfac_var=['Glucose', 'BMI'], anova_model='Outcome ~ C(Glucose) + C(Insulin) + C(Glucose):C(Insulin)')\n",
    "result = res.tukey_summary\n",
    "result = result.loc[result['p-value'] <= 0.05]\n",
    "print(result)"
   ]
  },
  {
   "cell_type": "code",
   "execution_count": 60,
   "id": "e2015bc0-7110-4044-a565-adb230eed8a1",
   "metadata": {},
   "outputs": [
    {
     "data": {
      "text/html": [
       "<div>\n",
       "<style scoped>\n",
       "    .dataframe tbody tr th:only-of-type {\n",
       "        vertical-align: middle;\n",
       "    }\n",
       "\n",
       "    .dataframe tbody tr th {\n",
       "        vertical-align: top;\n",
       "    }\n",
       "\n",
       "    .dataframe thead th {\n",
       "        text-align: right;\n",
       "    }\n",
       "</style>\n",
       "<table border=\"1\" class=\"dataframe\">\n",
       "  <thead>\n",
       "    <tr style=\"text-align: right;\">\n",
       "      <th></th>\n",
       "      <th>df</th>\n",
       "      <th>sum_sq</th>\n",
       "      <th>mean_sq</th>\n",
       "      <th>F</th>\n",
       "      <th>PR(&gt;F)</th>\n",
       "    </tr>\n",
       "  </thead>\n",
       "  <tbody>\n",
       "    <tr>\n",
       "      <th>C(BloodPressure)</th>\n",
       "      <td>3.0</td>\n",
       "      <td>2.672560</td>\n",
       "      <td>0.890853</td>\n",
       "      <td>4.019898</td>\n",
       "      <td>0.007477</td>\n",
       "    </tr>\n",
       "    <tr>\n",
       "      <th>C(Insulin)</th>\n",
       "      <td>2.0</td>\n",
       "      <td>3.003925</td>\n",
       "      <td>1.501963</td>\n",
       "      <td>6.777475</td>\n",
       "      <td>0.001209</td>\n",
       "    </tr>\n",
       "    <tr>\n",
       "      <th>C(BloodPressure):C(Insulin)</th>\n",
       "      <td>6.0</td>\n",
       "      <td>1.682493</td>\n",
       "      <td>0.280415</td>\n",
       "      <td>1.265350</td>\n",
       "      <td>0.270982</td>\n",
       "    </tr>\n",
       "    <tr>\n",
       "      <th>Residual</th>\n",
       "      <td>759.0</td>\n",
       "      <td>168.202682</td>\n",
       "      <td>0.221611</td>\n",
       "      <td>NaN</td>\n",
       "      <td>NaN</td>\n",
       "    </tr>\n",
       "  </tbody>\n",
       "</table>\n",
       "</div>"
      ],
      "text/plain": [
       "                                df      sum_sq   mean_sq         F    PR(>F)\n",
       "C(BloodPressure)               3.0    2.672560  0.890853  4.019898  0.007477\n",
       "C(Insulin)                     2.0    3.003925  1.501963  6.777475  0.001209\n",
       "C(BloodPressure):C(Insulin)    6.0    1.682493  0.280415  1.265350  0.270982\n",
       "Residual                     759.0  168.202682  0.221611       NaN       NaN"
      ]
     },
     "execution_count": 60,
     "metadata": {},
     "output_type": "execute_result"
    }
   ],
   "source": [
    "model4 = ols('Outcome ~ C(BloodPressure) + C(Insulin) + C(BloodPressure):C(Insulin)', data=df2).fit()\n",
    "anova_table4 = sm.stats.anova_lm(model4)\n",
    "anova_table4"
   ]
  },
  {
   "cell_type": "code",
   "execution_count": 61,
   "id": "bf7e5213",
   "metadata": {},
   "outputs": [
    {
     "name": "stdout",
     "output_type": "stream",
     "text": [
      "   group1  group2      Diff     Lower     Upper   q-value   p-value\n",
      "0  Normal  Stage2  0.179639  0.009229  0.350049  3.838557  0.034264\n"
     ]
    }
   ],
   "source": [
    "#post hoc test for main effect Blood Pressure\n",
    "res = stat()\n",
    "res.tukey_hsd(df=df2, res_var='Outcome', xfac_var='BloodPressure', anova_model='Outcome ~ C(BloodPressure) + C(Insulin) + C(BloodPressure):C(Insulin)')\n",
    "result = res.tukey_summary\n",
    "result = result.loc[result['p-value'] <= 0.05]\n",
    "print(result)"
   ]
  },
  {
   "cell_type": "code",
   "execution_count": 62,
   "id": "8fc4fcb6-cc52-4c0b-91eb-74e4d81e4104",
   "metadata": {},
   "outputs": [
    {
     "data": {
      "text/html": [
       "<div>\n",
       "<style scoped>\n",
       "    .dataframe tbody tr th:only-of-type {\n",
       "        vertical-align: middle;\n",
       "    }\n",
       "\n",
       "    .dataframe tbody tr th {\n",
       "        vertical-align: top;\n",
       "    }\n",
       "\n",
       "    .dataframe thead th {\n",
       "        text-align: right;\n",
       "    }\n",
       "</style>\n",
       "<table border=\"1\" class=\"dataframe\">\n",
       "  <thead>\n",
       "    <tr style=\"text-align: right;\">\n",
       "      <th></th>\n",
       "      <th>df</th>\n",
       "      <th>sum_sq</th>\n",
       "      <th>mean_sq</th>\n",
       "      <th>F</th>\n",
       "      <th>PR(&gt;F)</th>\n",
       "    </tr>\n",
       "  </thead>\n",
       "  <tbody>\n",
       "    <tr>\n",
       "      <th>C(BloodPressure)</th>\n",
       "      <td>3.0</td>\n",
       "      <td>2.756564</td>\n",
       "      <td>0.918855</td>\n",
       "      <td>4.489775</td>\n",
       "      <td>3.922042e-03</td>\n",
       "    </tr>\n",
       "    <tr>\n",
       "      <th>C(BMI)</th>\n",
       "      <td>3.0</td>\n",
       "      <td>14.758280</td>\n",
       "      <td>4.919427</td>\n",
       "      <td>24.037665</td>\n",
       "      <td>7.359578e-15</td>\n",
       "    </tr>\n",
       "    <tr>\n",
       "      <th>C(BloodPressure):C(BMI)</th>\n",
       "      <td>9.0</td>\n",
       "      <td>2.581032</td>\n",
       "      <td>0.286781</td>\n",
       "      <td>1.401292</td>\n",
       "      <td>1.833013e-01</td>\n",
       "    </tr>\n",
       "    <tr>\n",
       "      <th>Residual</th>\n",
       "      <td>749.0</td>\n",
       "      <td>153.286548</td>\n",
       "      <td>0.204655</td>\n",
       "      <td>NaN</td>\n",
       "      <td>NaN</td>\n",
       "    </tr>\n",
       "  </tbody>\n",
       "</table>\n",
       "</div>"
      ],
      "text/plain": [
       "                            df      sum_sq   mean_sq          F        PR(>F)\n",
       "C(BloodPressure)           3.0    2.756564  0.918855   4.489775  3.922042e-03\n",
       "C(BMI)                     3.0   14.758280  4.919427  24.037665  7.359578e-15\n",
       "C(BloodPressure):C(BMI)    9.0    2.581032  0.286781   1.401292  1.833013e-01\n",
       "Residual                 749.0  153.286548  0.204655        NaN           NaN"
      ]
     },
     "execution_count": 62,
     "metadata": {},
     "output_type": "execute_result"
    }
   ],
   "source": [
    "model5 = ols('Outcome ~ C(BloodPressure) + C(BMI) + C(BloodPressure):C(BMI)', data=df2).fit()\n",
    "anova_table5 = sm.stats.anova_lm(model5)\n",
    "anova_table5\n"
   ]
  },
  {
   "cell_type": "code",
   "execution_count": 63,
   "id": "d229a7ab",
   "metadata": {
    "scrolled": true
   },
   "outputs": [
    {
     "name": "stdout",
     "output_type": "stream",
     "text": [
      "   group1  group2      Diff     Lower     Upper   q-value   p-value\n",
      "0  Normal  Stage2  0.179639  0.015028  0.344250  3.973814  0.026109\n",
      "1  Normal  Stage1  0.109420  0.000862  0.217977  3.670306  0.047373\n"
     ]
    }
   ],
   "source": [
    "#post hoc test for main effect Blood Pressure\n",
    "res = stat()\n",
    "res.tukey_hsd(df=df2, res_var='Outcome', xfac_var='BloodPressure', anova_model='Outcome ~ C(BloodPressure) + C(BMI) + C(BloodPressure):C(BMI)')\n",
    "result = res.tukey_summary\n",
    "result = result.loc[result['p-value'] <= 0.05]\n",
    "print(result)"
   ]
  },
  {
   "cell_type": "code",
   "execution_count": 64,
   "id": "d6983662",
   "metadata": {},
   "outputs": [
    {
     "name": "stdout",
     "output_type": "stream",
     "text": [
      "       group1      group2      Diff     Lower     Upper    q-value   p-value\n",
      "0       Obese  Overweight  0.229168  0.127009  0.331327   8.168496  0.001000\n",
      "1       Obese      Normal  0.384004  0.256887  0.511121  11.000154  0.001000\n",
      "3  Overweight      Normal  0.154836  0.010329  0.299343   3.901665  0.030221\n"
     ]
    }
   ],
   "source": [
    "#post hoc test for main effect BMI\n",
    "res = stat()\n",
    "res.tukey_hsd(df=df2, res_var='Outcome', xfac_var='BMI', anova_model='Outcome ~ C(BloodPressure) + C(BMI) + C(BloodPressure):C(BMI)')\n",
    "result = res.tukey_summary\n",
    "result = result.loc[result['p-value'] <= 0.05]\n",
    "print(result)"
   ]
  },
  {
   "cell_type": "code",
   "execution_count": 65,
   "id": "b5a12453",
   "metadata": {},
   "outputs": [
    {
     "name": "stdout",
     "output_type": "stream",
     "text": [
      "\n",
      "NaN result encountered.\n",
      "\n",
      "NaN result encountered.\n",
      "\n",
      "NaN result encountered.\n",
      "\n",
      "NaN result encountered.\n",
      "\n",
      "NaN result encountered.\n",
      "\n",
      "NaN result encountered.\n",
      "\n",
      "NaN result encountered.\n",
      "\n",
      "NaN result encountered.\n",
      "\n",
      "NaN result encountered.\n",
      "\n",
      "NaN result encountered.\n",
      "\n",
      "NaN result encountered.\n",
      "\n",
      "NaN result encountered.\n",
      "\n",
      "NaN result encountered.\n",
      "\n",
      "NaN result encountered.\n",
      "\n",
      "NaN result encountered.\n",
      "\n",
      "NaN result encountered.\n",
      "\n",
      "NaN result encountered.\n",
      "\n",
      "NaN result encountered.\n",
      "\n",
      "NaN result encountered.\n",
      "\n",
      "NaN result encountered.\n",
      "\n",
      "NaN result encountered.\n",
      "\n",
      "NaN result encountered.\n",
      "\n",
      "NaN result encountered.\n",
      "\n",
      "NaN result encountered.\n",
      "\n",
      "NaN result encountered.\n",
      "\n",
      "NaN result encountered.\n",
      "\n",
      "NaN result encountered.\n",
      "\n",
      "NaN result encountered.\n",
      "\n",
      "NaN result encountered.\n",
      "\n",
      "NaN result encountered.\n",
      "\n",
      "NaN result encountered.\n",
      "\n",
      "NaN result encountered.\n",
      "\n",
      "NaN result encountered.\n",
      "\n",
      "NaN result encountered.\n",
      "\n",
      "NaN result encountered.\n",
      "\n",
      "NaN result encountered.\n",
      "\n",
      "NaN result encountered.\n",
      "\n",
      "NaN result encountered.\n",
      "\n",
      "NaN result encountered.\n",
      "\n",
      "NaN result encountered.\n",
      "\n",
      "NaN result encountered.\n",
      "\n",
      "NaN result encountered.\n",
      "\n",
      "NaN result encountered.\n",
      "\n",
      "NaN result encountered.\n",
      "\n",
      "NaN result encountered.\n",
      "\n",
      "NaN result encountered.\n",
      "\n",
      "NaN result encountered.\n",
      "\n",
      "NaN result encountered.\n",
      "\n",
      "NaN result encountered.\n",
      "\n",
      "NaN result encountered.\n",
      "\n",
      "NaN result encountered.\n",
      "                  group1                group2      Diff     Lower     Upper  \\\n",
      "0        (Normal, Obese)  (Normal, Overweight)  0.203366  0.048624  0.358107   \n",
      "1        (Normal, Obese)      (Normal, Normal)  0.350464  0.160865  0.540063   \n",
      "17  (Normal, Overweight)       (Stage2, Obese)  0.416459  0.141768  0.691151   \n",
      "21  (Normal, Overweight)       (Stage1, Obese)  0.259790  0.064219  0.455362   \n",
      "30      (Normal, Normal)       (Stage2, Obese)  0.563558  0.267825  0.859292   \n",
      "34      (Normal, Normal)       (Stage1, Obese)  0.406889  0.182721  0.631057   \n",
      "\n",
      "     q-value  p-value  \n",
      "0   6.389874    0.001  \n",
      "1   8.987283    0.001  \n",
      "17  7.371368    0.001  \n",
      "21  6.458584    0.001  \n",
      "30  9.265283    0.001  \n",
      "34  8.825169    0.001  \n"
     ]
    }
   ],
   "source": [
    "#post hoc test for main effect Blood Pressure and BMI\n",
    "res = stat()\n",
    "res.tukey_hsd(df=df2, res_var='Outcome', xfac_var=['BloodPressure','BMI'], anova_model='Outcome ~ C(BloodPressure) + C(BMI) + C(BloodPressure):C(BMI)')\n",
    "result = res.tukey_summary\n",
    "result = result.loc[result['p-value'] <= 0.05]\n",
    "print(result)"
   ]
  },
  {
   "cell_type": "code",
   "execution_count": 66,
   "id": "86e1dff2",
   "metadata": {},
   "outputs": [
    {
     "name": "stdout",
     "output_type": "stream",
     "text": [
      "   group1  group2      Diff     Lower     Upper   q-value   p-value\n",
      "0  Normal  Stage2  0.179639  0.009229  0.350049  3.838557  0.034264\n"
     ]
    }
   ],
   "source": [
    "#post hoc test for main effect Blood Pressure\n",
    "res = stat()\n",
    "res.tukey_hsd(df=df2, res_var='Outcome', xfac_var='BloodPressure', anova_model='Outcome ~ C(BloodPressure) + C(Insulin) + C(BloodPressure):C(Insulin)')\n",
    "result = res.tukey_summary\n",
    "result = result.loc[result['p-value'] <= 0.05]\n",
    "print(result)"
   ]
  },
  {
   "cell_type": "code",
   "execution_count": 67,
   "id": "08b857e0",
   "metadata": {},
   "outputs": [
    {
     "name": "stdout",
     "output_type": "stream",
     "text": [
      "       group1        group2      Diff     Lower     Upper   q-value  p-value\n",
      "0  Deficiency  Intermediate  0.221711  0.095109  0.348314  5.816139    0.001\n"
     ]
    }
   ],
   "source": [
    "#post hoc test for main effect Insulin\n",
    "res = stat()\n",
    "res.tukey_hsd(df=df2, res_var='Outcome', xfac_var='Insulin', anova_model='Outcome ~ C(BloodPressure) + C(Insulin) + C(BloodPressure):C(Insulin)')\n",
    "result = res.tukey_summary\n",
    "result = result.loc[result['p-value'] <= 0.05]\n",
    "print(result)"
   ]
  },
  {
   "cell_type": "code",
   "execution_count": 68,
   "id": "c7eb1dab",
   "metadata": {},
   "outputs": [
    {
     "name": "stdout",
     "output_type": "stream",
     "text": [
      "\n",
      "NaN result encountered.\n",
      "\n",
      "NaN result encountered.\n",
      "\n",
      "NaN result encountered.\n",
      "\n",
      "NaN result encountered.\n",
      "\n",
      "NaN result encountered.\n",
      "\n",
      "NaN result encountered.\n",
      "\n",
      "NaN result encountered.\n",
      "\n",
      "NaN result encountered.\n",
      "\n",
      "NaN result encountered.\n",
      "\n",
      "NaN result encountered.\n",
      "\n",
      "NaN result encountered.\n",
      "\n",
      "NaN result encountered.\n",
      "\n",
      "NaN result encountered.\n",
      "\n",
      "NaN result encountered.\n",
      "\n",
      "NaN result encountered.\n",
      "\n",
      "NaN result encountered.\n",
      "\n",
      "NaN result encountered.\n",
      "\n",
      "NaN result encountered.\n",
      "\n",
      "NaN result encountered.\n",
      "\n",
      "NaN result encountered.\n",
      "\n",
      "NaN result encountered.\n",
      "\n",
      "NaN result encountered.\n",
      "\n",
      "NaN result encountered.\n",
      "\n",
      "NaN result encountered.\n",
      "\n",
      "NaN result encountered.\n",
      "\n",
      "NaN result encountered.\n",
      "\n",
      "NaN result encountered.\n",
      "\n",
      "NaN result encountered.\n",
      "\n",
      "NaN result encountered.\n",
      "\n",
      "NaN result encountered.\n",
      "                 group1                  group2      Diff     Lower     Upper  \\\n",
      "0  (Normal, Deficiency)  (Normal, Intermediate)  0.230432  0.014092  0.446772   \n",
      "\n",
      "   q-value   p-value  \n",
      "0  4.93847  0.025307  \n"
     ]
    }
   ],
   "source": [
    "#post hoc test for main effect Blood Pressure and Insulin\n",
    "res = stat()\n",
    "res.tukey_hsd(df=df2, res_var='Outcome', xfac_var=['BloodPressure', 'Insulin'], anova_model='Outcome ~ C(BloodPressure) + C(Insulin) + C(BloodPressure):C(Insulin)')\n",
    "result = res.tukey_summary\n",
    "result = result.loc[result['p-value'] <= 0.05]\n",
    "print(result)"
   ]
  },
  {
   "cell_type": "code",
   "execution_count": 69,
   "id": "62995f7a-e570-4756-a0c8-edda837cd332",
   "metadata": {},
   "outputs": [
    {
     "data": {
      "text/html": [
       "<div>\n",
       "<style scoped>\n",
       "    .dataframe tbody tr th:only-of-type {\n",
       "        vertical-align: middle;\n",
       "    }\n",
       "\n",
       "    .dataframe tbody tr th {\n",
       "        vertical-align: top;\n",
       "    }\n",
       "\n",
       "    .dataframe thead th {\n",
       "        text-align: right;\n",
       "    }\n",
       "</style>\n",
       "<table border=\"1\" class=\"dataframe\">\n",
       "  <thead>\n",
       "    <tr style=\"text-align: right;\">\n",
       "      <th></th>\n",
       "      <th>df</th>\n",
       "      <th>sum_sq</th>\n",
       "      <th>mean_sq</th>\n",
       "      <th>F</th>\n",
       "      <th>PR(&gt;F)</th>\n",
       "    </tr>\n",
       "  </thead>\n",
       "  <tbody>\n",
       "    <tr>\n",
       "      <th>C(Insulin)</th>\n",
       "      <td>2.0</td>\n",
       "      <td>3.758058</td>\n",
       "      <td>1.879029</td>\n",
       "      <td>9.214631</td>\n",
       "      <td>1.112722e-04</td>\n",
       "    </tr>\n",
       "    <tr>\n",
       "      <th>C(BMI)</th>\n",
       "      <td>3.0</td>\n",
       "      <td>14.349923</td>\n",
       "      <td>4.783308</td>\n",
       "      <td>23.457021</td>\n",
       "      <td>1.603548e-14</td>\n",
       "    </tr>\n",
       "    <tr>\n",
       "      <th>C(Insulin):C(BMI)</th>\n",
       "      <td>6.0</td>\n",
       "      <td>1.656569</td>\n",
       "      <td>0.276095</td>\n",
       "      <td>1.353950</td>\n",
       "      <td>2.307549e-01</td>\n",
       "    </tr>\n",
       "    <tr>\n",
       "      <th>Residual</th>\n",
       "      <td>752.0</td>\n",
       "      <td>153.346304</td>\n",
       "      <td>0.203918</td>\n",
       "      <td>NaN</td>\n",
       "      <td>NaN</td>\n",
       "    </tr>\n",
       "  </tbody>\n",
       "</table>\n",
       "</div>"
      ],
      "text/plain": [
       "                      df      sum_sq   mean_sq          F        PR(>F)\n",
       "C(Insulin)           2.0    3.758058  1.879029   9.214631  1.112722e-04\n",
       "C(BMI)               3.0   14.349923  4.783308  23.457021  1.603548e-14\n",
       "C(Insulin):C(BMI)    6.0    1.656569  0.276095   1.353950  2.307549e-01\n",
       "Residual           752.0  153.346304  0.203918        NaN           NaN"
      ]
     },
     "execution_count": 69,
     "metadata": {},
     "output_type": "execute_result"
    }
   ],
   "source": [
    "model6 = ols('Outcome ~ C(Insulin) + C(BMI) + C(Insulin):C(BMI)', data=df2).fit()\n",
    "anova_table6 = sm.stats.anova_lm(model6)\n",
    "anova_table6"
   ]
  },
  {
   "cell_type": "code",
   "execution_count": 70,
   "id": "a8d039bd",
   "metadata": {},
   "outputs": [
    {
     "name": "stdout",
     "output_type": "stream",
     "text": [
      "       group1        group2      Diff     Lower     Upper   q-value  p-value\n",
      "0  Deficiency  Intermediate  0.221711  0.099638  0.343785  6.031949    0.001\n"
     ]
    }
   ],
   "source": [
    "#post hoc test for main effect Insulin\n",
    "res = stat()\n",
    "res.tukey_hsd(df=df2, res_var='Outcome', xfac_var='Insulin', anova_model='Outcome ~ C(Insulin) + C(BMI) + C(Insulin):C(BMI)')\n",
    "result = res.tukey_summary\n",
    "result = result.loc[result['p-value'] <= 0.05]\n",
    "print(result)"
   ]
  },
  {
   "cell_type": "code",
   "execution_count": 71,
   "id": "15e8d5d5",
   "metadata": {},
   "outputs": [
    {
     "name": "stdout",
     "output_type": "stream",
     "text": [
      "       group1      group2      Diff     Lower     Upper    q-value   p-value\n",
      "0       Obese  Overweight  0.229168  0.127194  0.331142   8.183244  0.001000\n",
      "1       Obese      Normal  0.384004  0.257118  0.510891  11.020014  0.001000\n",
      "3  Overweight      Normal  0.154836  0.010591  0.299081   3.908709  0.029795\n"
     ]
    }
   ],
   "source": [
    "#post hoc test for main effect BMI\n",
    "res = stat()\n",
    "res.tukey_hsd(df=df2, res_var='Outcome', xfac_var='BMI', anova_model='Outcome ~ C(Insulin) + C(BMI) + C(Insulin):C(BMI)')\n",
    "result = res.tukey_summary\n",
    "result = result.loc[result['p-value'] <= 0.05]\n",
    "print(result)"
   ]
  },
  {
   "cell_type": "code",
   "execution_count": 72,
   "id": "de4d184c",
   "metadata": {},
   "outputs": [
    {
     "name": "stdout",
     "output_type": "stream",
     "text": [
      "\n",
      "NaN result encountered.\n",
      "\n",
      "NaN result encountered.\n",
      "\n",
      "NaN result encountered.\n",
      "\n",
      "NaN result encountered.\n",
      "\n",
      "NaN result encountered.\n",
      "\n",
      "NaN result encountered.\n",
      "\n",
      "NaN result encountered.\n",
      "\n",
      "NaN result encountered.\n",
      "\n",
      "NaN result encountered.\n",
      "\n",
      "NaN result encountered.\n",
      "\n",
      "NaN result encountered.\n",
      "\n",
      "NaN result encountered.\n",
      "\n",
      "NaN result encountered.\n",
      "\n",
      "NaN result encountered.\n",
      "\n",
      "NaN result encountered.\n",
      "\n",
      "NaN result encountered.\n",
      "\n",
      "NaN result encountered.\n",
      "\n",
      "NaN result encountered.\n",
      "\n",
      "NaN result encountered.\n",
      "\n",
      "NaN result encountered.\n",
      "\n",
      "NaN result encountered.\n",
      "                      group1                    group2      Diff     Lower  \\\n",
      "0        (Deficiency, Obese)  (Deficiency, Overweight)  0.208787  0.073292   \n",
      "1        (Deficiency, Obese)      (Deficiency, Normal)  0.355005  0.188179   \n",
      "13  (Deficiency, Overweight)     (Intermediate, Obese)  0.379575  0.171406   \n",
      "22      (Deficiency, Normal)     (Intermediate, Obese)  0.525794  0.295996   \n",
      "\n",
      "       Upper    q-value  p-value  \n",
      "0   0.344281   7.144453    0.001  \n",
      "1   0.521832   9.866363    0.001  \n",
      "13  0.587745   8.454114    0.001  \n",
      "22  0.755591  10.608584    0.001  \n"
     ]
    }
   ],
   "source": [
    "#post hoc test for main effect Insulin and BMI\n",
    "res = stat()\n",
    "res.tukey_hsd(df=df2, res_var='Outcome', xfac_var=['Insulin','BMI'], anova_model='Outcome ~ C(Insulin) + C(BMI) + C(Insulin):C(BMI)')\n",
    "result = res.tukey_summary\n",
    "result = result.loc[result['p-value'] <= 0.05]\n",
    "print(result)"
   ]
  },
  {
   "cell_type": "code",
   "execution_count": 73,
   "id": "42f76161",
   "metadata": {},
   "outputs": [],
   "source": [
    "#(7) GLucose vs. Age, (8) BloodPressure vs Age, (9) Insulin vs Age, (10) BMI vs Age"
   ]
  },
  {
   "cell_type": "code",
   "execution_count": 74,
   "id": "ae20881b",
   "metadata": {},
   "outputs": [
    {
     "data": {
      "text/html": [
       "<div>\n",
       "<style scoped>\n",
       "    .dataframe tbody tr th:only-of-type {\n",
       "        vertical-align: middle;\n",
       "    }\n",
       "\n",
       "    .dataframe tbody tr th {\n",
       "        vertical-align: top;\n",
       "    }\n",
       "\n",
       "    .dataframe thead th {\n",
       "        text-align: right;\n",
       "    }\n",
       "</style>\n",
       "<table border=\"1\" class=\"dataframe\">\n",
       "  <thead>\n",
       "    <tr style=\"text-align: right;\">\n",
       "      <th></th>\n",
       "      <th>df</th>\n",
       "      <th>sum_sq</th>\n",
       "      <th>mean_sq</th>\n",
       "      <th>F</th>\n",
       "      <th>PR(&gt;F)</th>\n",
       "    </tr>\n",
       "  </thead>\n",
       "  <tbody>\n",
       "    <tr>\n",
       "      <th>C(Glucose)</th>\n",
       "      <td>2.0</td>\n",
       "      <td>29.422677</td>\n",
       "      <td>14.711338</td>\n",
       "      <td>82.184840</td>\n",
       "      <td>4.786449e-33</td>\n",
       "    </tr>\n",
       "    <tr>\n",
       "      <th>C(Age)</th>\n",
       "      <td>2.0</td>\n",
       "      <td>8.468182</td>\n",
       "      <td>4.234091</td>\n",
       "      <td>23.653734</td>\n",
       "      <td>1.080395e-10</td>\n",
       "    </tr>\n",
       "    <tr>\n",
       "      <th>C(Glucose):C(Age)</th>\n",
       "      <td>4.0</td>\n",
       "      <td>0.762786</td>\n",
       "      <td>0.190697</td>\n",
       "      <td>1.065326</td>\n",
       "      <td>3.725937e-01</td>\n",
       "    </tr>\n",
       "    <tr>\n",
       "      <th>Residual</th>\n",
       "      <td>762.0</td>\n",
       "      <td>136.400335</td>\n",
       "      <td>0.179003</td>\n",
       "      <td>NaN</td>\n",
       "      <td>NaN</td>\n",
       "    </tr>\n",
       "  </tbody>\n",
       "</table>\n",
       "</div>"
      ],
      "text/plain": [
       "                      df      sum_sq    mean_sq          F        PR(>F)\n",
       "C(Glucose)           2.0   29.422677  14.711338  82.184840  4.786449e-33\n",
       "C(Age)               2.0    8.468182   4.234091  23.653734  1.080395e-10\n",
       "C(Glucose):C(Age)    4.0    0.762786   0.190697   1.065326  3.725937e-01\n",
       "Residual           762.0  136.400335   0.179003        NaN           NaN"
      ]
     },
     "execution_count": 74,
     "metadata": {},
     "output_type": "execute_result"
    }
   ],
   "source": [
    "model7 = ols('Outcome ~ C(Glucose) + C(Age) + C(Glucose):C(Age)', data=df2).fit()\n",
    "anova_table7 = sm.stats.anova_lm(model7)\n",
    "anova_table7"
   ]
  },
  {
   "cell_type": "code",
   "execution_count": 75,
   "id": "66762ced",
   "metadata": {},
   "outputs": [
    {
     "name": "stdout",
     "output_type": "stream",
     "text": [
      "         group1  group2      Diff    Lower     Upper   q-value  p-value\n",
      "0  Intermediate  Normal  0.456657  0.38717  0.526144  18.24517    0.001\n"
     ]
    }
   ],
   "source": [
    "#post hoc test for main effect Glucose\n",
    "res = stat()\n",
    "res.tukey_hsd(df=df2, res_var='Outcome', xfac_var='Glucose', anova_model='Outcome ~ C(Glucose) + C(Age) + C(Glucose):C(Age)')\n",
    "result = res.tukey_summary\n",
    "result = result.loc[result['p-value'] <= 0.05]\n",
    "print(result)"
   ]
  },
  {
   "cell_type": "code",
   "execution_count": 76,
   "id": "86d5904f",
   "metadata": {},
   "outputs": [
    {
     "name": "stdout",
     "output_type": "stream",
     "text": [
      "      group1 group2      Diff     Lower     Upper    q-value  p-value\n",
      "0  Adulthood  Youth  0.287883  0.207987  0.367779  11.966852    0.001\n"
     ]
    }
   ],
   "source": [
    "#post hoc test for main effect Age\n",
    "res = stat()\n",
    "res.tukey_hsd(df=df2, res_var='Outcome', xfac_var='Age', anova_model='Outcome ~ C(Glucose) + C(Age) + C(Glucose):C(Age)')\n",
    "result = res.tukey_summary\n",
    "result = result.loc[result['p-value'] <= 0.05]\n",
    "print(result)"
   ]
  },
  {
   "cell_type": "code",
   "execution_count": 77,
   "id": "7d8a59e5",
   "metadata": {},
   "outputs": [
    {
     "name": "stdout",
     "output_type": "stream",
     "text": [
      "                       group1                 group2      Diff     Lower  \\\n",
      "0   (Intermediate, Adulthood)  (Intermediate, Youth)  0.295815  0.044388   \n",
      "2   (Intermediate, Adulthood)    (Normal, Adulthood)  0.437311  0.321884   \n",
      "3   (Intermediate, Adulthood)        (Normal, Youth)  0.640260  0.509595   \n",
      "4   (Intermediate, Adulthood)    (Normal, Seniority)  0.740260  0.303274   \n",
      "7       (Intermediate, Youth)        (Normal, Youth)  0.344444  0.096596   \n",
      "12        (Normal, Adulthood)        (Normal, Youth)  0.202949  0.095541   \n",
      "\n",
      "       Upper    q-value   p-value  \n",
      "0   0.547243   4.753778  0.010523  \n",
      "2   0.552737  15.307875  0.001000  \n",
      "3   0.770924  19.798372  0.001000  \n",
      "4   1.177246   6.844588  0.001000  \n",
      "7   0.592293   5.615176  0.001103  \n",
      "12  0.310357   7.634479  0.001000  \n"
     ]
    }
   ],
   "source": [
    "#post hoc test for main effect Glucose\n",
    "res = stat()\n",
    "res.tukey_hsd(df=df2, res_var='Outcome', xfac_var=['Glucose', 'Age'], anova_model='Outcome ~ C(Glucose) + C(Age) + C(Glucose):C(Age)')\n",
    "result = res.tukey_summary\n",
    "result = result.loc[result['p-value'] <= 0.05]\n",
    "print(result)"
   ]
  },
  {
   "cell_type": "code",
   "execution_count": 78,
   "id": "4cf09ae5",
   "metadata": {},
   "outputs": [
    {
     "data": {
      "text/html": [
       "<div>\n",
       "<style scoped>\n",
       "    .dataframe tbody tr th:only-of-type {\n",
       "        vertical-align: middle;\n",
       "    }\n",
       "\n",
       "    .dataframe tbody tr th {\n",
       "        vertical-align: top;\n",
       "    }\n",
       "\n",
       "    .dataframe thead th {\n",
       "        text-align: right;\n",
       "    }\n",
       "</style>\n",
       "<table border=\"1\" class=\"dataframe\">\n",
       "  <thead>\n",
       "    <tr style=\"text-align: right;\">\n",
       "      <th></th>\n",
       "      <th>df</th>\n",
       "      <th>sum_sq</th>\n",
       "      <th>mean_sq</th>\n",
       "      <th>F</th>\n",
       "      <th>PR(&gt;F)</th>\n",
       "    </tr>\n",
       "  </thead>\n",
       "  <tbody>\n",
       "    <tr>\n",
       "      <th>C(BloodPressure)</th>\n",
       "      <td>3.0</td>\n",
       "      <td>2.672560</td>\n",
       "      <td>0.890853</td>\n",
       "      <td>4.258043</td>\n",
       "      <td>5.392267e-03</td>\n",
       "    </tr>\n",
       "    <tr>\n",
       "      <th>C(Age)</th>\n",
       "      <td>2.0</td>\n",
       "      <td>12.644431</td>\n",
       "      <td>6.322215</td>\n",
       "      <td>30.218518</td>\n",
       "      <td>2.361621e-13</td>\n",
       "    </tr>\n",
       "    <tr>\n",
       "      <th>C(BloodPressure):C(Age)</th>\n",
       "      <td>6.0</td>\n",
       "      <td>0.897206</td>\n",
       "      <td>0.149534</td>\n",
       "      <td>0.714734</td>\n",
       "      <td>6.378202e-01</td>\n",
       "    </tr>\n",
       "    <tr>\n",
       "      <th>Residual</th>\n",
       "      <td>758.0</td>\n",
       "      <td>158.586180</td>\n",
       "      <td>0.209217</td>\n",
       "      <td>NaN</td>\n",
       "      <td>NaN</td>\n",
       "    </tr>\n",
       "  </tbody>\n",
       "</table>\n",
       "</div>"
      ],
      "text/plain": [
       "                            df      sum_sq   mean_sq          F        PR(>F)\n",
       "C(BloodPressure)           3.0    2.672560  0.890853   4.258043  5.392267e-03\n",
       "C(Age)                     2.0   12.644431  6.322215  30.218518  2.361621e-13\n",
       "C(BloodPressure):C(Age)    6.0    0.897206  0.149534   0.714734  6.378202e-01\n",
       "Residual                 758.0  158.586180  0.209217        NaN           NaN"
      ]
     },
     "execution_count": 78,
     "metadata": {},
     "output_type": "execute_result"
    }
   ],
   "source": [
    "model8 = ols('Outcome ~ C(BloodPressure) + C(Age) + C(BloodPressure):C(Age)', data=df2).fit()\n",
    "anova_table8 = sm.stats.anova_lm(model8)\n",
    "anova_table8"
   ]
  },
  {
   "cell_type": "code",
   "execution_count": 79,
   "id": "954b4f92",
   "metadata": {},
   "outputs": [
    {
     "name": "stdout",
     "output_type": "stream",
     "text": [
      "   group1  group2      Diff     Lower     Upper   q-value   p-value\n",
      "0  Normal  Stage2  0.179639  0.026163  0.333115  4.262054  0.014166\n",
      "1  Normal  Stage1  0.109420  0.008206  0.210633  3.936532  0.028164\n"
     ]
    }
   ],
   "source": [
    "#post hoc test for main effect BloodPressure\n",
    "res = stat()\n",
    "res.tukey_hsd(df=df2, res_var='Outcome', xfac_var='BloodPressure', anova_model='Outcome ~ C(Glucose) + C(Age) + C(Glucose):C(Age)')\n",
    "result = res.tukey_summary\n",
    "result = result.loc[result['p-value'] <= 0.05]\n",
    "print(result)"
   ]
  },
  {
   "cell_type": "code",
   "execution_count": 80,
   "id": "fa8a41a3",
   "metadata": {},
   "outputs": [
    {
     "name": "stdout",
     "output_type": "stream",
     "text": [
      "      group1 group2      Diff     Lower     Upper    q-value  p-value\n",
      "0  Adulthood  Youth  0.287883  0.207987  0.367779  11.966852    0.001\n"
     ]
    }
   ],
   "source": [
    "#post hoc test for main effect Age\n",
    "res = stat()\n",
    "res.tukey_hsd(df=df2, res_var='Outcome', xfac_var='Age', anova_model='Outcome ~ C(Glucose) + C(Age) + C(Glucose):C(Age)')\n",
    "result = res.tukey_summary\n",
    "result = result.loc[result['p-value'] <= 0.05]\n",
    "print(result)"
   ]
  },
  {
   "cell_type": "code",
   "execution_count": 81,
   "id": "e67c6fb5",
   "metadata": {},
   "outputs": [
    {
     "name": "stdout",
     "output_type": "stream",
     "text": [
      "\n",
      "NaN result encountered.\n",
      "\n",
      "NaN result encountered.\n",
      "\n",
      "NaN result encountered.\n",
      "                 group1               group2      Diff     Lower     Upper  \\\n",
      "0   (Normal, Adulthood)      (Normal, Youth)  0.291935  0.166382  0.417489   \n",
      "12      (Normal, Youth)  (Stage2, Adulthood)  0.372695  0.146180  0.599210   \n",
      "15      (Normal, Youth)  (Stage1, Adulthood)  0.369315  0.200511  0.538118   \n",
      "\n",
      "      q-value  p-value  \n",
      "0   10.780538    0.001  \n",
      "12   7.628536    0.001  \n",
      "15  10.143762    0.001  \n"
     ]
    }
   ],
   "source": [
    "#post hoc test for main effect BloodPressure and Age\n",
    "res = stat()\n",
    "res.tukey_hsd(df=df2, res_var='Outcome', xfac_var=['BloodPressure', 'Age'], anova_model='Outcome ~ C(Glucose) + C(Age) + C(Glucose):C(Age)')\n",
    "result = res.tukey_summary\n",
    "result = result.loc[result['p-value'] <= 0.05]\n",
    "print(result)"
   ]
  },
  {
   "cell_type": "code",
   "execution_count": 82,
   "id": "0e873f9c",
   "metadata": {},
   "outputs": [
    {
     "data": {
      "text/html": [
       "<div>\n",
       "<style scoped>\n",
       "    .dataframe tbody tr th:only-of-type {\n",
       "        vertical-align: middle;\n",
       "    }\n",
       "\n",
       "    .dataframe tbody tr th {\n",
       "        vertical-align: top;\n",
       "    }\n",
       "\n",
       "    .dataframe thead th {\n",
       "        text-align: right;\n",
       "    }\n",
       "</style>\n",
       "<table border=\"1\" class=\"dataframe\">\n",
       "  <thead>\n",
       "    <tr style=\"text-align: right;\">\n",
       "      <th></th>\n",
       "      <th>df</th>\n",
       "      <th>sum_sq</th>\n",
       "      <th>mean_sq</th>\n",
       "      <th>F</th>\n",
       "      <th>PR(&gt;F)</th>\n",
       "    </tr>\n",
       "  </thead>\n",
       "  <tbody>\n",
       "    <tr>\n",
       "      <th>C(BMI)</th>\n",
       "      <td>3.0</td>\n",
       "      <td>16.413676</td>\n",
       "      <td>5.471225</td>\n",
       "      <td>28.240558</td>\n",
       "      <td>2.625241e-17</td>\n",
       "    </tr>\n",
       "    <tr>\n",
       "      <th>C(Age)</th>\n",
       "      <td>2.0</td>\n",
       "      <td>9.005201</td>\n",
       "      <td>4.502600</td>\n",
       "      <td>23.240853</td>\n",
       "      <td>1.612248e-10</td>\n",
       "    </tr>\n",
       "    <tr>\n",
       "      <th>C(BMI):C(Age)</th>\n",
       "      <td>6.0</td>\n",
       "      <td>1.163178</td>\n",
       "      <td>0.193863</td>\n",
       "      <td>1.000653</td>\n",
       "      <td>4.236466e-01</td>\n",
       "    </tr>\n",
       "    <tr>\n",
       "      <th>Residual</th>\n",
       "      <td>749.0</td>\n",
       "      <td>145.108602</td>\n",
       "      <td>0.193736</td>\n",
       "      <td>NaN</td>\n",
       "      <td>NaN</td>\n",
       "    </tr>\n",
       "  </tbody>\n",
       "</table>\n",
       "</div>"
      ],
      "text/plain": [
       "                  df      sum_sq   mean_sq          F        PR(>F)\n",
       "C(BMI)           3.0   16.413676  5.471225  28.240558  2.625241e-17\n",
       "C(Age)           2.0    9.005201  4.502600  23.240853  1.612248e-10\n",
       "C(BMI):C(Age)    6.0    1.163178  0.193863   1.000653  4.236466e-01\n",
       "Residual       749.0  145.108602  0.193736        NaN           NaN"
      ]
     },
     "execution_count": 82,
     "metadata": {},
     "output_type": "execute_result"
    }
   ],
   "source": [
    "model9 =ols('Outcome ~ C(BMI) + C(Age) + C(BMI):C(Age)', data=df2).fit()\n",
    "anova_table9 = sm.stats.anova_lm(model9)\n",
    "anova_table9"
   ]
  },
  {
   "cell_type": "code",
   "execution_count": 83,
   "id": "c698bc0e",
   "metadata": {},
   "outputs": [
    {
     "name": "stdout",
     "output_type": "stream",
     "text": [
      "       group1      group2      Diff     Lower     Upper    q-value   p-value\n",
      "0       Obese  Overweight  0.229168  0.133919  0.324417   8.760998  0.001000\n",
      "1       Obese      Normal  0.384004  0.265486  0.502522  11.798050  0.001000\n",
      "3  Overweight      Normal  0.154836  0.020104  0.289568   4.184672  0.016766\n"
     ]
    }
   ],
   "source": [
    "#post hoc test for main effect BMI\n",
    "res = stat()\n",
    "res.tukey_hsd(df=df2, res_var='Outcome', xfac_var='BMI', anova_model='Outcome ~ C(Glucose) + C(Age) + C(Glucose):C(Age)')\n",
    "result = res.tukey_summary\n",
    "result = result.loc[result['p-value'] <= 0.05]\n",
    "print(result)"
   ]
  },
  {
   "cell_type": "code",
   "execution_count": 84,
   "id": "3b83afc7",
   "metadata": {},
   "outputs": [
    {
     "name": "stdout",
     "output_type": "stream",
     "text": [
      "      group1 group2      Diff     Lower     Upper    q-value  p-value\n",
      "0  Adulthood  Youth  0.287883  0.207987  0.367779  11.966852    0.001\n"
     ]
    }
   ],
   "source": [
    "#post hoc test for main effect Age\n",
    "res = stat()\n",
    "res.tukey_hsd(df=df2, res_var='Outcome', xfac_var='Age', anova_model='Outcome ~ C(Glucose) + C(Age) + C(Glucose):C(Age)')\n",
    "result = res.tukey_summary\n",
    "result = result.loc[result['p-value'] <= 0.05]\n",
    "print(result)"
   ]
  },
  {
   "cell_type": "code",
   "execution_count": 85,
   "id": "870cdbba",
   "metadata": {
    "scrolled": true
   },
   "outputs": [
    {
     "name": "stdout",
     "output_type": "stream",
     "text": [
      "                     group1                   group2      Diff     Lower  \\\n",
      "0        (Obese, Adulthood)           (Obese, Youth)  0.277238  0.127372   \n",
      "2        (Obese, Adulthood)  (Overweight, Adulthood)  0.187953  0.038087   \n",
      "3        (Obese, Adulthood)      (Overweight, Youth)  0.469923  0.279584   \n",
      "5        (Obese, Adulthood)      (Normal, Adulthood)  0.414862  0.219015   \n",
      "6        (Obese, Adulthood)          (Normal, Youth)  0.493920  0.265828   \n",
      "30  (Overweight, Adulthood)      (Overweight, Youth)  0.281970  0.063074   \n",
      "32  (Overweight, Adulthood)      (Normal, Adulthood)  0.226909  0.003207   \n",
      "33  (Overweight, Adulthood)          (Normal, Youth)  0.305967  0.053553   \n",
      "\n",
      "       Upper    q-value   p-value  \n",
      "0   0.427105   8.576963  0.001000  \n",
      "2   0.337819   5.814719  0.002545  \n",
      "3   0.660261  11.446793  0.001000  \n",
      "5   0.610708   9.821362  0.001000  \n",
      "6   0.722012  10.039917  0.001000  \n",
      "30  0.500866   5.972395  0.001606  \n",
      "32  0.450611   4.702896  0.043341  \n",
      "33  0.558381   5.620113  0.004407  \n"
     ]
    }
   ],
   "source": [
    "#post hoc test for main effect BMI and Age\n",
    "res = stat()\n",
    "res.tukey_hsd(df=df2, res_var='Outcome', xfac_var=['BMI', 'Age'], anova_model='Outcome ~ C(Glucose) + C(Age) + C(Glucose):C(Age)')\n",
    "result = res.tukey_summary\n",
    "result = result.loc[result['p-value'] <= 0.05]\n",
    "print(result)"
   ]
  },
  {
   "cell_type": "code",
   "execution_count": 86,
   "id": "a6e4ea7c",
   "metadata": {},
   "outputs": [],
   "source": [
    "#-- ANCOVA start"
   ]
  },
  {
   "cell_type": "code",
   "execution_count": 87,
   "id": "0642ceb5",
   "metadata": {},
   "outputs": [
    {
     "data": {
      "text/html": [
       "<div>\n",
       "<style scoped>\n",
       "    .dataframe tbody tr th:only-of-type {\n",
       "        vertical-align: middle;\n",
       "    }\n",
       "\n",
       "    .dataframe tbody tr th {\n",
       "        vertical-align: top;\n",
       "    }\n",
       "\n",
       "    .dataframe thead th {\n",
       "        text-align: right;\n",
       "    }\n",
       "</style>\n",
       "<table border=\"1\" class=\"dataframe\">\n",
       "  <thead>\n",
       "    <tr style=\"text-align: right;\">\n",
       "      <th></th>\n",
       "      <th>Source</th>\n",
       "      <th>SS</th>\n",
       "      <th>DF</th>\n",
       "      <th>F</th>\n",
       "      <th>p-unc</th>\n",
       "      <th>np2</th>\n",
       "    </tr>\n",
       "  </thead>\n",
       "  <tbody>\n",
       "    <tr>\n",
       "      <th>0</th>\n",
       "      <td>Glucose</td>\n",
       "      <td>52.083626</td>\n",
       "      <td>2</td>\n",
       "      <td>142.456395</td>\n",
       "      <td>3.098800e-30</td>\n",
       "      <td>0.271368</td>\n",
       "    </tr>\n",
       "    <tr>\n",
       "      <th>1</th>\n",
       "      <td>Pregnancies</td>\n",
       "      <td>5.292678</td>\n",
       "      <td>1</td>\n",
       "      <td>28.952511</td>\n",
       "      <td>9.868727e-08</td>\n",
       "      <td>0.036466</td>\n",
       "    </tr>\n",
       "    <tr>\n",
       "      <th>2</th>\n",
       "      <td>Residual</td>\n",
       "      <td>139.846210</td>\n",
       "      <td>765</td>\n",
       "      <td>NaN</td>\n",
       "      <td>NaN</td>\n",
       "      <td>NaN</td>\n",
       "    </tr>\n",
       "  </tbody>\n",
       "</table>\n",
       "</div>"
      ],
      "text/plain": [
       "        Source          SS   DF           F         p-unc       np2\n",
       "0      Glucose   52.083626    2  142.456395  3.098800e-30  0.271368\n",
       "1  Pregnancies    5.292678    1   28.952511  9.868727e-08  0.036466\n",
       "2     Residual  139.846210  765         NaN           NaN       NaN"
      ]
     },
     "execution_count": 87,
     "metadata": {},
     "output_type": "execute_result"
    }
   ],
   "source": [
    "# ancova test, (1) pregnancies vs. Glucose, (2) pregnancies vs. BloodPressure, (3) pregnancies vs. Insulin,\n",
    "# (4)pregnancies vs.BMI, (5) pregnancies vs. Age\n",
    "\n",
    "from pingouin import ancova \n",
    "\n",
    "ancova(data=df2, dv='Outcome', covar='Pregnancies', between='Glucose')"
   ]
  },
  {
   "cell_type": "code",
   "execution_count": 88,
   "id": "53e9f49e",
   "metadata": {},
   "outputs": [
    {
     "name": "stdout",
     "output_type": "stream",
     "text": [
      "   Multiple Comparison of Means - Tukey HSD, FWER=0.05    \n",
      "==========================================================\n",
      "   group1    group2 meandiff p-adj   lower   upper  reject\n",
      "----------------------------------------------------------\n",
      "Intermediate Normal  -0.9288 0.0009 -1.4765 -0.3812   True\n",
      "----------------------------------------------------------\n"
     ]
    }
   ],
   "source": [
    "# ANCOVA post-hoc test pairwise_tukeyhsd: Pregnancies and Glucose\n",
    "\n",
    "from statsmodels.stats.multicomp import pairwise_tukeyhsd\n",
    "\n",
    "pt = pairwise_tukeyhsd(endog=df2['Pregnancies'], groups=df2['Glucose'], alpha = 0.05)\n",
    "print(pt)"
   ]
  },
  {
   "cell_type": "code",
   "execution_count": 89,
   "id": "6e4aa6e3",
   "metadata": {},
   "outputs": [
    {
     "data": {
      "text/html": [
       "<div>\n",
       "<style scoped>\n",
       "    .dataframe tbody tr th:only-of-type {\n",
       "        vertical-align: middle;\n",
       "    }\n",
       "\n",
       "    .dataframe tbody tr th {\n",
       "        vertical-align: top;\n",
       "    }\n",
       "\n",
       "    .dataframe thead th {\n",
       "        text-align: right;\n",
       "    }\n",
       "</style>\n",
       "<table border=\"1\" class=\"dataframe\">\n",
       "  <thead>\n",
       "    <tr style=\"text-align: right;\">\n",
       "      <th></th>\n",
       "      <th>Source</th>\n",
       "      <th>SS</th>\n",
       "      <th>DF</th>\n",
       "      <th>F</th>\n",
       "      <th>p-unc</th>\n",
       "      <th>np2</th>\n",
       "    </tr>\n",
       "  </thead>\n",
       "  <tbody>\n",
       "    <tr>\n",
       "      <th>0</th>\n",
       "      <td>BloodPressure</td>\n",
       "      <td>1.659908</td>\n",
       "      <td>3</td>\n",
       "      <td>2.570631</td>\n",
       "      <td>5.315218e-02</td>\n",
       "      <td>0.010006</td>\n",
       "    </tr>\n",
       "    <tr>\n",
       "      <th>1</th>\n",
       "      <td>Pregnancies</td>\n",
       "      <td>7.578491</td>\n",
       "      <td>1</td>\n",
       "      <td>35.209494</td>\n",
       "      <td>4.490007e-09</td>\n",
       "      <td>0.044111</td>\n",
       "    </tr>\n",
       "    <tr>\n",
       "      <th>2</th>\n",
       "      <td>Residual</td>\n",
       "      <td>164.228115</td>\n",
       "      <td>763</td>\n",
       "      <td>NaN</td>\n",
       "      <td>NaN</td>\n",
       "      <td>NaN</td>\n",
       "    </tr>\n",
       "  </tbody>\n",
       "</table>\n",
       "</div>"
      ],
      "text/plain": [
       "          Source          SS   DF          F         p-unc       np2\n",
       "0  BloodPressure    1.659908    3   2.570631  5.315218e-02  0.010006\n",
       "1    Pregnancies    7.578491    1  35.209494  4.490007e-09  0.044111\n",
       "2       Residual  164.228115  763        NaN           NaN       NaN"
      ]
     },
     "execution_count": 89,
     "metadata": {},
     "output_type": "execute_result"
    }
   ],
   "source": [
    "# (2) pregnancies vs. BloodPressure\n",
    "\n",
    "ancova(data=df2, dv='Outcome', covar='Pregnancies', between='BloodPressure')"
   ]
  },
  {
   "cell_type": "code",
   "execution_count": 90,
   "id": "52c732c9",
   "metadata": {},
   "outputs": [
    {
     "name": "stdout",
     "output_type": "stream",
     "text": [
      "   Multiple Comparison of Means - Tukey HSD, FWER=0.05    \n",
      "==========================================================\n",
      "   group1    group2 meandiff p-adj   lower   upper  reject\n",
      "----------------------------------------------------------\n",
      "Hypertension Normal   2.6217 0.8628 -6.0141 11.2575  False\n",
      "Hypertension Stage1   3.3241  0.756 -5.3337  11.982  False\n",
      "Hypertension Stage2   3.8475 0.6658 -4.8535 12.5484  False\n",
      "      Normal Stage1   0.7025 0.1107 -0.1011   1.506  False\n",
      "      Normal Stage2   1.2258 0.0384  0.0451  2.4065   True\n",
      "      Stage1 Stage2   0.5233 0.7429  -0.809  1.8557  False\n",
      "----------------------------------------------------------\n"
     ]
    }
   ],
   "source": [
    "# ANCOVA post-hoc test pairwise_tukeyhsd: Pregnancies and BloodPressure\n",
    "\n",
    "from statsmodels.stats.multicomp import pairwise_tukeyhsd\n",
    "\n",
    "pt = pairwise_tukeyhsd(endog=df2['Pregnancies'], groups=df2['BloodPressure'], alpha = 0.05)\n",
    "print(pt)\n"
   ]
  },
  {
   "cell_type": "code",
   "execution_count": 91,
   "id": "05fb97b6",
   "metadata": {},
   "outputs": [
    {
     "data": {
      "text/html": [
       "<div>\n",
       "<style scoped>\n",
       "    .dataframe tbody tr th:only-of-type {\n",
       "        vertical-align: middle;\n",
       "    }\n",
       "\n",
       "    .dataframe tbody tr th {\n",
       "        vertical-align: top;\n",
       "    }\n",
       "\n",
       "    .dataframe thead th {\n",
       "        text-align: right;\n",
       "    }\n",
       "</style>\n",
       "<table border=\"1\" class=\"dataframe\">\n",
       "  <thead>\n",
       "    <tr style=\"text-align: right;\">\n",
       "      <th></th>\n",
       "      <th>Source</th>\n",
       "      <th>SS</th>\n",
       "      <th>DF</th>\n",
       "      <th>F</th>\n",
       "      <th>p-unc</th>\n",
       "      <th>np2</th>\n",
       "    </tr>\n",
       "  </thead>\n",
       "  <tbody>\n",
       "    <tr>\n",
       "      <th>0</th>\n",
       "      <td>Insulin</td>\n",
       "      <td>3.467647</td>\n",
       "      <td>2</td>\n",
       "      <td>8.155635</td>\n",
       "      <td>3.128479e-04</td>\n",
       "      <td>0.020904</td>\n",
       "    </tr>\n",
       "    <tr>\n",
       "      <th>1</th>\n",
       "      <td>Pregnancies</td>\n",
       "      <td>8.710859</td>\n",
       "      <td>1</td>\n",
       "      <td>40.974514</td>\n",
       "      <td>2.690164e-10</td>\n",
       "      <td>0.050902</td>\n",
       "    </tr>\n",
       "    <tr>\n",
       "      <th>2</th>\n",
       "      <td>Residual</td>\n",
       "      <td>162.420376</td>\n",
       "      <td>764</td>\n",
       "      <td>NaN</td>\n",
       "      <td>NaN</td>\n",
       "      <td>NaN</td>\n",
       "    </tr>\n",
       "  </tbody>\n",
       "</table>\n",
       "</div>"
      ],
      "text/plain": [
       "        Source          SS   DF          F         p-unc       np2\n",
       "0      Insulin    3.467647    2   8.155635  3.128479e-04  0.020904\n",
       "1  Pregnancies    8.710859    1  40.974514  2.690164e-10  0.050902\n",
       "2     Residual  162.420376  764        NaN           NaN       NaN"
      ]
     },
     "execution_count": 91,
     "metadata": {},
     "output_type": "execute_result"
    }
   ],
   "source": [
    "# (3) pregnancies vs. Insulin,\n",
    "\n",
    "ancova(data=df2, dv='Outcome', covar='Pregnancies', between='Insulin')"
   ]
  },
  {
   "cell_type": "code",
   "execution_count": 92,
   "id": "7baa7117",
   "metadata": {},
   "outputs": [
    {
     "name": "stdout",
     "output_type": "stream",
     "text": [
      "      Multiple Comparison of Means - Tukey HSD, FWER=0.05      \n",
      "===============================================================\n",
      "   group1       group2    meandiff p-adj   lower  upper  reject\n",
      "---------------------------------------------------------------\n",
      "  Deficiency Intermediate  -0.1102 0.9561 -1.0162 0.7959  False\n",
      "  Deficiency  Substantial  -2.1993 0.4974 -6.7798 2.3811  False\n",
      "Intermediate  Substantial  -2.0891 0.5423 -6.7386 2.5603  False\n",
      "---------------------------------------------------------------\n"
     ]
    }
   ],
   "source": [
    "# ANCOVA post-hoc test pairwise_tukeyhsd: Pregnancies and Insulin\n",
    "\n",
    "pt = pairwise_tukeyhsd(endog=df2['Pregnancies'], groups=df2['Insulin'], alpha = 0.05)\n",
    "print(pt)"
   ]
  },
  {
   "cell_type": "code",
   "execution_count": 93,
   "id": "ffae4cd6",
   "metadata": {},
   "outputs": [
    {
     "data": {
      "text/html": [
       "<div>\n",
       "<style scoped>\n",
       "    .dataframe tbody tr th:only-of-type {\n",
       "        vertical-align: middle;\n",
       "    }\n",
       "\n",
       "    .dataframe tbody tr th {\n",
       "        vertical-align: top;\n",
       "    }\n",
       "\n",
       "    .dataframe thead th {\n",
       "        text-align: right;\n",
       "    }\n",
       "</style>\n",
       "<table border=\"1\" class=\"dataframe\">\n",
       "  <thead>\n",
       "    <tr style=\"text-align: right;\">\n",
       "      <th></th>\n",
       "      <th>Source</th>\n",
       "      <th>SS</th>\n",
       "      <th>DF</th>\n",
       "      <th>F</th>\n",
       "      <th>p-unc</th>\n",
       "      <th>np2</th>\n",
       "    </tr>\n",
       "  </thead>\n",
       "  <tbody>\n",
       "    <tr>\n",
       "      <th>0</th>\n",
       "      <td>BMI</td>\n",
       "      <td>14.531199</td>\n",
       "      <td>3</td>\n",
       "      <td>24.662108</td>\n",
       "      <td>3.131343e-15</td>\n",
       "      <td>0.089249</td>\n",
       "    </tr>\n",
       "    <tr>\n",
       "      <th>1</th>\n",
       "      <td>Pregnancies</td>\n",
       "      <td>6.980368</td>\n",
       "      <td>1</td>\n",
       "      <td>35.540894</td>\n",
       "      <td>3.832860e-09</td>\n",
       "      <td>0.044958</td>\n",
       "    </tr>\n",
       "    <tr>\n",
       "      <th>2</th>\n",
       "      <td>Residual</td>\n",
       "      <td>148.284903</td>\n",
       "      <td>755</td>\n",
       "      <td>NaN</td>\n",
       "      <td>NaN</td>\n",
       "      <td>NaN</td>\n",
       "    </tr>\n",
       "  </tbody>\n",
       "</table>\n",
       "</div>"
      ],
      "text/plain": [
       "        Source          SS   DF          F         p-unc       np2\n",
       "0          BMI   14.531199    3  24.662108  3.131343e-15  0.089249\n",
       "1  Pregnancies    6.980368    1  35.540894  3.832860e-09  0.044958\n",
       "2     Residual  148.284903  755        NaN           NaN       NaN"
      ]
     },
     "execution_count": 93,
     "metadata": {},
     "output_type": "execute_result"
    }
   ],
   "source": [
    "# (4)pregnancies vs.BMI\n",
    "\n",
    "ancova(data=df2, dv='Outcome', covar='Pregnancies', between='BMI')"
   ]
  },
  {
   "cell_type": "code",
   "execution_count": 94,
   "id": "6dc879b8",
   "metadata": {},
   "outputs": [
    {
     "data": {
      "text/html": [
       "<div>\n",
       "<style scoped>\n",
       "    .dataframe tbody tr th:only-of-type {\n",
       "        vertical-align: middle;\n",
       "    }\n",
       "\n",
       "    .dataframe tbody tr th {\n",
       "        vertical-align: top;\n",
       "    }\n",
       "\n",
       "    .dataframe thead th {\n",
       "        text-align: right;\n",
       "    }\n",
       "</style>\n",
       "<table border=\"1\" class=\"dataframe\">\n",
       "  <thead>\n",
       "    <tr style=\"text-align: right;\">\n",
       "      <th></th>\n",
       "      <th>Source</th>\n",
       "      <th>SS</th>\n",
       "      <th>DF</th>\n",
       "      <th>F</th>\n",
       "      <th>p-unc</th>\n",
       "      <th>np2</th>\n",
       "    </tr>\n",
       "  </thead>\n",
       "  <tbody>\n",
       "    <tr>\n",
       "      <th>0</th>\n",
       "      <td>Age</td>\n",
       "      <td>7.316773</td>\n",
       "      <td>2</td>\n",
       "      <td>17.626193</td>\n",
       "      <td>3.283957e-08</td>\n",
       "      <td>0.044107</td>\n",
       "    </tr>\n",
       "    <tr>\n",
       "      <th>1</th>\n",
       "      <td>Pregnancies</td>\n",
       "      <td>2.185087</td>\n",
       "      <td>1</td>\n",
       "      <td>10.527802</td>\n",
       "      <td>1.227097e-03</td>\n",
       "      <td>0.013593</td>\n",
       "    </tr>\n",
       "    <tr>\n",
       "      <th>2</th>\n",
       "      <td>Residual</td>\n",
       "      <td>158.571250</td>\n",
       "      <td>764</td>\n",
       "      <td>NaN</td>\n",
       "      <td>NaN</td>\n",
       "      <td>NaN</td>\n",
       "    </tr>\n",
       "  </tbody>\n",
       "</table>\n",
       "</div>"
      ],
      "text/plain": [
       "        Source          SS   DF          F         p-unc       np2\n",
       "0          Age    7.316773    2  17.626193  3.283957e-08  0.044107\n",
       "1  Pregnancies    2.185087    1  10.527802  1.227097e-03  0.013593\n",
       "2     Residual  158.571250  764        NaN           NaN       NaN"
      ]
     },
     "execution_count": 94,
     "metadata": {},
     "output_type": "execute_result"
    }
   ],
   "source": [
    "# (5) pregnancies vs. Age\n",
    "\n",
    "ancova(data=df2, dv='Outcome', covar='Pregnancies', between='Age')"
   ]
  },
  {
   "cell_type": "code",
   "execution_count": 95,
   "id": "ed7485f7",
   "metadata": {},
   "outputs": [
    {
     "name": "stdout",
     "output_type": "stream",
     "text": [
      "   Multiple Comparison of Means - Tukey HSD, FWER=0.05    \n",
      "==========================================================\n",
      "  group1    group2  meandiff p-adj   lower   upper  reject\n",
      "----------------------------------------------------------\n",
      "Adulthood Seniority  -0.0986  0.991 -1.9027  1.7055  False\n",
      "Adulthood     Youth   -3.293   -0.0 -3.8637 -2.7223   True\n",
      "Seniority     Youth  -3.1943 0.0002 -5.0357  -1.353   True\n",
      "----------------------------------------------------------\n"
     ]
    }
   ],
   "source": [
    "# ANCOVA post-hoc test pairwise_tukeyhsd: Pregnancies and Age\n",
    "\n",
    "pt = pairwise_tukeyhsd(endog=df2['Pregnancies'], groups=df2['Age'], alpha = 0.05)\n",
    "print(pt)\n"
   ]
  },
  {
   "cell_type": "code",
   "execution_count": 96,
   "id": "0b8a33a1",
   "metadata": {},
   "outputs": [],
   "source": [
    "# ancova test, (1) Skinthickness vs. Glucose, (2) SkinThickness vs. BloodPressure, (3) SkinThickness vs. Insulin,\n",
    "# (4)SkinThickness vs.BMI, (5) SkinThickness vs. Age"
   ]
  },
  {
   "cell_type": "code",
   "execution_count": 97,
   "id": "9856efbb",
   "metadata": {},
   "outputs": [
    {
     "data": {
      "text/html": [
       "<div>\n",
       "<style scoped>\n",
       "    .dataframe tbody tr th:only-of-type {\n",
       "        vertical-align: middle;\n",
       "    }\n",
       "\n",
       "    .dataframe tbody tr th {\n",
       "        vertical-align: top;\n",
       "    }\n",
       "\n",
       "    .dataframe thead th {\n",
       "        text-align: right;\n",
       "    }\n",
       "</style>\n",
       "<table border=\"1\" class=\"dataframe\">\n",
       "  <thead>\n",
       "    <tr style=\"text-align: right;\">\n",
       "      <th></th>\n",
       "      <th>Source</th>\n",
       "      <th>SS</th>\n",
       "      <th>DF</th>\n",
       "      <th>F</th>\n",
       "      <th>p-unc</th>\n",
       "      <th>np2</th>\n",
       "    </tr>\n",
       "  </thead>\n",
       "  <tbody>\n",
       "    <tr>\n",
       "      <th>0</th>\n",
       "      <td>Glucose</td>\n",
       "      <td>52.018814</td>\n",
       "      <td>2</td>\n",
       "      <td>139.891685</td>\n",
       "      <td>9.217793e-30</td>\n",
       "      <td>0.267791</td>\n",
       "    </tr>\n",
       "    <tr>\n",
       "      <th>1</th>\n",
       "      <td>SkinThickness</td>\n",
       "      <td>2.906015</td>\n",
       "      <td>1</td>\n",
       "      <td>15.630011</td>\n",
       "      <td>8.416340e-05</td>\n",
       "      <td>0.020022</td>\n",
       "    </tr>\n",
       "    <tr>\n",
       "      <th>2</th>\n",
       "      <td>Residual</td>\n",
       "      <td>142.232874</td>\n",
       "      <td>765</td>\n",
       "      <td>NaN</td>\n",
       "      <td>NaN</td>\n",
       "      <td>NaN</td>\n",
       "    </tr>\n",
       "  </tbody>\n",
       "</table>\n",
       "</div>"
      ],
      "text/plain": [
       "          Source          SS   DF           F         p-unc       np2\n",
       "0        Glucose   52.018814    2  139.891685  9.217793e-30  0.267791\n",
       "1  SkinThickness    2.906015    1   15.630011  8.416340e-05  0.020022\n",
       "2       Residual  142.232874  765         NaN           NaN       NaN"
      ]
     },
     "execution_count": 97,
     "metadata": {},
     "output_type": "execute_result"
    }
   ],
   "source": [
    "# (1) Skinthickness vs. Glucose\n",
    "ancova(data=df2, dv='Outcome', covar='SkinThickness', between='Glucose')"
   ]
  },
  {
   "cell_type": "code",
   "execution_count": 98,
   "id": "a00ef656",
   "metadata": {},
   "outputs": [
    {
     "name": "stdout",
     "output_type": "stream",
     "text": [
      "  Multiple Comparison of Means - Tukey HSD, FWER=0.05   \n",
      "========================================================\n",
      "   group1    group2 meandiff p-adj  lower  upper  reject\n",
      "--------------------------------------------------------\n",
      "Intermediate Normal  -3.1927   0.0 -4.6864 -1.699   True\n",
      "--------------------------------------------------------\n"
     ]
    }
   ],
   "source": [
    "# ANCOVA post-hoc test pairwise_tukeyhsd: SkinThickness and Glucose\n",
    "\n",
    "pt = pairwise_tukeyhsd(endog=df2['SkinThickness'], groups=df2['Glucose'], alpha = 0.05)\n",
    "print(pt)"
   ]
  },
  {
   "cell_type": "code",
   "execution_count": 99,
   "id": "103d2f01",
   "metadata": {},
   "outputs": [
    {
     "data": {
      "text/html": [
       "<div>\n",
       "<style scoped>\n",
       "    .dataframe tbody tr th:only-of-type {\n",
       "        vertical-align: middle;\n",
       "    }\n",
       "\n",
       "    .dataframe tbody tr th {\n",
       "        vertical-align: top;\n",
       "    }\n",
       "\n",
       "    .dataframe thead th {\n",
       "        text-align: right;\n",
       "    }\n",
       "</style>\n",
       "<table border=\"1\" class=\"dataframe\">\n",
       "  <thead>\n",
       "    <tr style=\"text-align: right;\">\n",
       "      <th></th>\n",
       "      <th>Source</th>\n",
       "      <th>SS</th>\n",
       "      <th>DF</th>\n",
       "      <th>F</th>\n",
       "      <th>p-unc</th>\n",
       "      <th>np2</th>\n",
       "    </tr>\n",
       "  </thead>\n",
       "  <tbody>\n",
       "    <tr>\n",
       "      <th>0</th>\n",
       "      <td>BloodPressure</td>\n",
       "      <td>1.887715</td>\n",
       "      <td>3</td>\n",
       "      <td>2.886057</td>\n",
       "      <td>3.487203e-02</td>\n",
       "      <td>0.011220</td>\n",
       "    </tr>\n",
       "    <tr>\n",
       "      <th>1</th>\n",
       "      <td>SkinThickness</td>\n",
       "      <td>5.452040</td>\n",
       "      <td>1</td>\n",
       "      <td>25.006267</td>\n",
       "      <td>7.094980e-07</td>\n",
       "      <td>0.031734</td>\n",
       "    </tr>\n",
       "    <tr>\n",
       "      <th>2</th>\n",
       "      <td>Residual</td>\n",
       "      <td>166.354566</td>\n",
       "      <td>763</td>\n",
       "      <td>NaN</td>\n",
       "      <td>NaN</td>\n",
       "      <td>NaN</td>\n",
       "    </tr>\n",
       "  </tbody>\n",
       "</table>\n",
       "</div>"
      ],
      "text/plain": [
       "          Source          SS   DF          F         p-unc       np2\n",
       "0  BloodPressure    1.887715    3   2.886057  3.487203e-02  0.011220\n",
       "1  SkinThickness    5.452040    1  25.006267  7.094980e-07  0.031734\n",
       "2       Residual  166.354566  763        NaN           NaN       NaN"
      ]
     },
     "execution_count": 99,
     "metadata": {},
     "output_type": "execute_result"
    }
   ],
   "source": [
    "# (2) Skinthickness vs. BloodPressure\n",
    "ancova(data=df2, dv='Outcome', covar='SkinThickness', between='BloodPressure')"
   ]
  },
  {
   "cell_type": "code",
   "execution_count": 100,
   "id": "5eb49584",
   "metadata": {
    "scrolled": true
   },
   "outputs": [
    {
     "name": "stdout",
     "output_type": "stream",
     "text": [
      "    Multiple Comparison of Means - Tukey HSD, FWER=0.05    \n",
      "===========================================================\n",
      "   group1    group2 meandiff p-adj   lower    upper  reject\n",
      "-----------------------------------------------------------\n",
      "Hypertension Normal   3.6927  0.978 -19.9693 27.3548  False\n",
      "Hypertension Stage1   6.2621 0.9048 -17.4604 29.9845  False\n",
      "Hypertension Stage2   5.7966 0.9237  -18.044 29.6372  False\n",
      "      Normal Stage1   2.5694 0.0146   0.3677   4.771   True\n",
      "      Normal Stage2   2.1039  0.338  -1.1312   5.339  False\n",
      "      Stage1 Stage2  -0.4655 0.9878  -4.1161  3.1852  False\n",
      "-----------------------------------------------------------\n"
     ]
    }
   ],
   "source": [
    "# ANCOVA post-hoc test pairwise_tukeyhsd: SkinThickness and BloodPressure\n",
    "\n",
    "pt = pairwise_tukeyhsd(endog=df2['SkinThickness'], groups=df2['BloodPressure'], alpha = 0.05)\n",
    "print(pt)"
   ]
  },
  {
   "cell_type": "code",
   "execution_count": 101,
   "id": "11a38f70",
   "metadata": {},
   "outputs": [
    {
     "data": {
      "text/html": [
       "<div>\n",
       "<style scoped>\n",
       "    .dataframe tbody tr th:only-of-type {\n",
       "        vertical-align: middle;\n",
       "    }\n",
       "\n",
       "    .dataframe tbody tr th {\n",
       "        vertical-align: top;\n",
       "    }\n",
       "\n",
       "    .dataframe thead th {\n",
       "        text-align: right;\n",
       "    }\n",
       "</style>\n",
       "<table border=\"1\" class=\"dataframe\">\n",
       "  <thead>\n",
       "    <tr style=\"text-align: right;\">\n",
       "      <th></th>\n",
       "      <th>Source</th>\n",
       "      <th>SS</th>\n",
       "      <th>DF</th>\n",
       "      <th>F</th>\n",
       "      <th>p-unc</th>\n",
       "      <th>np2</th>\n",
       "    </tr>\n",
       "  </thead>\n",
       "  <tbody>\n",
       "    <tr>\n",
       "      <th>0</th>\n",
       "      <td>Insulin</td>\n",
       "      <td>1.801889</td>\n",
       "      <td>2</td>\n",
       "      <td>4.135544</td>\n",
       "      <td>0.016353</td>\n",
       "      <td>0.010710</td>\n",
       "    </tr>\n",
       "    <tr>\n",
       "      <th>1</th>\n",
       "      <td>SkinThickness</td>\n",
       "      <td>4.690843</td>\n",
       "      <td>1</td>\n",
       "      <td>21.532056</td>\n",
       "      <td>0.000004</td>\n",
       "      <td>0.027411</td>\n",
       "    </tr>\n",
       "    <tr>\n",
       "      <th>2</th>\n",
       "      <td>Residual</td>\n",
       "      <td>166.440392</td>\n",
       "      <td>764</td>\n",
       "      <td>NaN</td>\n",
       "      <td>NaN</td>\n",
       "      <td>NaN</td>\n",
       "    </tr>\n",
       "  </tbody>\n",
       "</table>\n",
       "</div>"
      ],
      "text/plain": [
       "          Source          SS   DF          F     p-unc       np2\n",
       "0        Insulin    1.801889    2   4.135544  0.016353  0.010710\n",
       "1  SkinThickness    4.690843    1  21.532056  0.000004  0.027411\n",
       "2       Residual  166.440392  764        NaN       NaN       NaN"
      ]
     },
     "execution_count": 101,
     "metadata": {},
     "output_type": "execute_result"
    }
   ],
   "source": [
    "# (3) Skinthickness vs. Insulin\n",
    "ancova(data=df2, dv='Outcome', covar='SkinThickness', between='Insulin')"
   ]
  },
  {
   "cell_type": "code",
   "execution_count": 102,
   "id": "5c32e321",
   "metadata": {
    "scrolled": true
   },
   "outputs": [
    {
     "name": "stdout",
     "output_type": "stream",
     "text": [
      "       Multiple Comparison of Means - Tukey HSD, FWER=0.05       \n",
      "=================================================================\n",
      "   group1       group2    meandiff p-adj   lower    upper  reject\n",
      "-----------------------------------------------------------------\n",
      "  Deficiency Intermediate   6.0876    0.0   3.6593   8.516   True\n",
      "  Deficiency  Substantial   5.0334 0.6006  -7.2427 17.3095  False\n",
      "Intermediate  Substantial  -1.0543 0.9785 -13.5151 11.4066  False\n",
      "-----------------------------------------------------------------\n"
     ]
    }
   ],
   "source": [
    "# ANCOVA post-hoc test pairwise_tukeyhsd: SkinThickness and Insulin\n",
    "\n",
    "pt = pairwise_tukeyhsd(endog=df2['SkinThickness'], groups=df2['Insulin'], alpha = 0.05)\n",
    "print(pt)"
   ]
  },
  {
   "cell_type": "code",
   "execution_count": 103,
   "id": "4a590498",
   "metadata": {
    "scrolled": true
   },
   "outputs": [
    {
     "data": {
      "text/html": [
       "<div>\n",
       "<style scoped>\n",
       "    .dataframe tbody tr th:only-of-type {\n",
       "        vertical-align: middle;\n",
       "    }\n",
       "\n",
       "    .dataframe tbody tr th {\n",
       "        vertical-align: top;\n",
       "    }\n",
       "\n",
       "    .dataframe thead th {\n",
       "        text-align: right;\n",
       "    }\n",
       "</style>\n",
       "<table border=\"1\" class=\"dataframe\">\n",
       "  <thead>\n",
       "    <tr style=\"text-align: right;\">\n",
       "      <th></th>\n",
       "      <th>Source</th>\n",
       "      <th>SS</th>\n",
       "      <th>DF</th>\n",
       "      <th>F</th>\n",
       "      <th>p-unc</th>\n",
       "      <th>np2</th>\n",
       "    </tr>\n",
       "  </thead>\n",
       "  <tbody>\n",
       "    <tr>\n",
       "      <th>0</th>\n",
       "      <td>BMI</td>\n",
       "      <td>11.225973</td>\n",
       "      <td>3</td>\n",
       "      <td>18.228594</td>\n",
       "      <td>1.992180e-11</td>\n",
       "      <td>0.067540</td>\n",
       "    </tr>\n",
       "    <tr>\n",
       "      <th>1</th>\n",
       "      <td>SkinThickness</td>\n",
       "      <td>0.277823</td>\n",
       "      <td>1</td>\n",
       "      <td>1.353377</td>\n",
       "      <td>2.450562e-01</td>\n",
       "      <td>0.001789</td>\n",
       "    </tr>\n",
       "    <tr>\n",
       "      <th>2</th>\n",
       "      <td>Residual</td>\n",
       "      <td>154.987448</td>\n",
       "      <td>755</td>\n",
       "      <td>NaN</td>\n",
       "      <td>NaN</td>\n",
       "      <td>NaN</td>\n",
       "    </tr>\n",
       "  </tbody>\n",
       "</table>\n",
       "</div>"
      ],
      "text/plain": [
       "          Source          SS   DF          F         p-unc       np2\n",
       "0            BMI   11.225973    3  18.228594  1.992180e-11  0.067540\n",
       "1  SkinThickness    0.277823    1   1.353377  2.450562e-01  0.001789\n",
       "2       Residual  154.987448  755        NaN           NaN       NaN"
      ]
     },
     "execution_count": 103,
     "metadata": {},
     "output_type": "execute_result"
    }
   ],
   "source": [
    "# (4) Skinthickness vs. BMI\n",
    "ancova(data=df2, dv='Outcome', covar='SkinThickness', between='BMI')"
   ]
  },
  {
   "cell_type": "code",
   "execution_count": 104,
   "id": "fbc10484",
   "metadata": {},
   "outputs": [
    {
     "data": {
      "text/html": [
       "<div>\n",
       "<style scoped>\n",
       "    .dataframe tbody tr th:only-of-type {\n",
       "        vertical-align: middle;\n",
       "    }\n",
       "\n",
       "    .dataframe tbody tr th {\n",
       "        vertical-align: top;\n",
       "    }\n",
       "\n",
       "    .dataframe thead th {\n",
       "        text-align: right;\n",
       "    }\n",
       "</style>\n",
       "<table border=\"1\" class=\"dataframe\">\n",
       "  <thead>\n",
       "    <tr style=\"text-align: right;\">\n",
       "      <th></th>\n",
       "      <th>Source</th>\n",
       "      <th>SS</th>\n",
       "      <th>DF</th>\n",
       "      <th>F</th>\n",
       "      <th>p-unc</th>\n",
       "      <th>np2</th>\n",
       "    </tr>\n",
       "  </thead>\n",
       "  <tbody>\n",
       "    <tr>\n",
       "      <th>0</th>\n",
       "      <td>Age</td>\n",
       "      <td>11.464235</td>\n",
       "      <td>2</td>\n",
       "      <td>27.933361</td>\n",
       "      <td>1.957663e-12</td>\n",
       "      <td>0.068141</td>\n",
       "    </tr>\n",
       "    <tr>\n",
       "      <th>1</th>\n",
       "      <td>SkinThickness</td>\n",
       "      <td>3.978292</td>\n",
       "      <td>1</td>\n",
       "      <td>19.386737</td>\n",
       "      <td>1.219601e-05</td>\n",
       "      <td>0.024747</td>\n",
       "    </tr>\n",
       "    <tr>\n",
       "      <th>2</th>\n",
       "      <td>Residual</td>\n",
       "      <td>156.778046</td>\n",
       "      <td>764</td>\n",
       "      <td>NaN</td>\n",
       "      <td>NaN</td>\n",
       "      <td>NaN</td>\n",
       "    </tr>\n",
       "  </tbody>\n",
       "</table>\n",
       "</div>"
      ],
      "text/plain": [
       "          Source          SS   DF          F         p-unc       np2\n",
       "0            Age   11.464235    2  27.933361  1.957663e-12  0.068141\n",
       "1  SkinThickness    3.978292    1  19.386737  1.219601e-05  0.024747\n",
       "2       Residual  156.778046  764        NaN           NaN       NaN"
      ]
     },
     "execution_count": 104,
     "metadata": {},
     "output_type": "execute_result"
    }
   ],
   "source": [
    "# (5) Skinthickness vs. Age\n",
    "ancova(data=df2, dv='Outcome', covar='SkinThickness', between='Age')"
   ]
  },
  {
   "cell_type": "code",
   "execution_count": 105,
   "id": "166cd113",
   "metadata": {},
   "outputs": [
    {
     "name": "stdout",
     "output_type": "stream",
     "text": [
      "   Multiple Comparison of Means - Tukey HSD, FWER=0.05    \n",
      "==========================================================\n",
      "  group1    group2  meandiff p-adj   lower   upper  reject\n",
      "----------------------------------------------------------\n",
      "Adulthood Seniority   -4.032 0.1917 -9.4793  1.4152  False\n",
      "Adulthood     Youth  -2.8086 0.0004 -4.5318 -1.0853   True\n",
      "Seniority     Youth   1.2235 0.8632 -4.3364  6.7834  False\n",
      "----------------------------------------------------------\n"
     ]
    }
   ],
   "source": [
    "# ANCOVA post-hoc test pairwise_tukeyhsd: SkinThickness and Age\n",
    "\n",
    "pt = pairwise_tukeyhsd(endog=df2['SkinThickness'], groups=df2['Age'], alpha = 0.05)\n",
    "print(pt)"
   ]
  },
  {
   "cell_type": "code",
   "execution_count": 106,
   "id": "debee729",
   "metadata": {},
   "outputs": [],
   "source": [
    "# ancova test, (1) DiabetesPedigreeFunction vs. Glucose, (2) DiabetesPedigreeFunction vs. BloodPressure, (3) DiabetesPedigreeFunction vs. Insulin,\n",
    "# (4)DiabetesPedigreeFunction vs.BMI, (5) DiabetesPedigreeFunction vs. Age"
   ]
  },
  {
   "cell_type": "code",
   "execution_count": 107,
   "id": "0650e60b",
   "metadata": {},
   "outputs": [
    {
     "data": {
      "text/html": [
       "<div>\n",
       "<style scoped>\n",
       "    .dataframe tbody tr th:only-of-type {\n",
       "        vertical-align: middle;\n",
       "    }\n",
       "\n",
       "    .dataframe tbody tr th {\n",
       "        vertical-align: top;\n",
       "    }\n",
       "\n",
       "    .dataframe thead th {\n",
       "        text-align: right;\n",
       "    }\n",
       "</style>\n",
       "<table border=\"1\" class=\"dataframe\">\n",
       "  <thead>\n",
       "    <tr style=\"text-align: right;\">\n",
       "      <th></th>\n",
       "      <th>Source</th>\n",
       "      <th>SS</th>\n",
       "      <th>DF</th>\n",
       "      <th>F</th>\n",
       "      <th>p-unc</th>\n",
       "      <th>np2</th>\n",
       "    </tr>\n",
       "  </thead>\n",
       "  <tbody>\n",
       "    <tr>\n",
       "      <th>0</th>\n",
       "      <td>Glucose</td>\n",
       "      <td>54.117943</td>\n",
       "      <td>2</td>\n",
       "      <td>145.624562</td>\n",
       "      <td>8.096326e-31</td>\n",
       "      <td>0.275739</td>\n",
       "    </tr>\n",
       "    <tr>\n",
       "      <th>1</th>\n",
       "      <td>DiabetesPedigreeFunction</td>\n",
       "      <td>2.991761</td>\n",
       "      <td>1</td>\n",
       "      <td>16.100904</td>\n",
       "      <td>6.595768e-05</td>\n",
       "      <td>0.020613</td>\n",
       "    </tr>\n",
       "    <tr>\n",
       "      <th>2</th>\n",
       "      <td>Residual</td>\n",
       "      <td>142.147128</td>\n",
       "      <td>765</td>\n",
       "      <td>NaN</td>\n",
       "      <td>NaN</td>\n",
       "      <td>NaN</td>\n",
       "    </tr>\n",
       "  </tbody>\n",
       "</table>\n",
       "</div>"
      ],
      "text/plain": [
       "                     Source          SS   DF           F         p-unc  \\\n",
       "0                   Glucose   54.117943    2  145.624562  8.096326e-31   \n",
       "1  DiabetesPedigreeFunction    2.991761    1   16.100904  6.595768e-05   \n",
       "2                  Residual  142.147128  765         NaN           NaN   \n",
       "\n",
       "        np2  \n",
       "0  0.275739  \n",
       "1  0.020613  \n",
       "2       NaN  "
      ]
     },
     "execution_count": 107,
     "metadata": {},
     "output_type": "execute_result"
    }
   ],
   "source": [
    "# (1) DiabetesPedigreeFunction vs. Glucose\n",
    "ancova(data=df2, dv='Outcome', covar='DiabetesPedigreeFunction', between='Glucose')"
   ]
  },
  {
   "cell_type": "code",
   "execution_count": 108,
   "id": "30b6cc4e",
   "metadata": {},
   "outputs": [
    {
     "name": "stdout",
     "output_type": "stream",
     "text": [
      "   Multiple Comparison of Means - Tukey HSD, FWER=0.05    \n",
      "==========================================================\n",
      "   group1    group2 meandiff p-adj   lower   upper  reject\n",
      "----------------------------------------------------------\n",
      "Intermediate Normal  -0.0814 0.0031 -0.1353 -0.0275   True\n",
      "----------------------------------------------------------\n"
     ]
    }
   ],
   "source": [
    "# ANCOVA post-hoc test pairwise_tukeyhsd:  DiabetesPedigreeFunction vs. Glucose\n",
    "\n",
    "pt = pairwise_tukeyhsd(endog=df2['DiabetesPedigreeFunction'], groups=df2['Glucose'], alpha = 0.05)\n",
    "print(pt)"
   ]
  },
  {
   "cell_type": "code",
   "execution_count": 109,
   "id": "0dc1c55a",
   "metadata": {},
   "outputs": [
    {
     "data": {
      "text/html": [
       "<div>\n",
       "<style scoped>\n",
       "    .dataframe tbody tr th:only-of-type {\n",
       "        vertical-align: middle;\n",
       "    }\n",
       "\n",
       "    .dataframe tbody tr th {\n",
       "        vertical-align: top;\n",
       "    }\n",
       "\n",
       "    .dataframe thead th {\n",
       "        text-align: right;\n",
       "    }\n",
       "</style>\n",
       "<table border=\"1\" class=\"dataframe\">\n",
       "  <thead>\n",
       "    <tr style=\"text-align: right;\">\n",
       "      <th></th>\n",
       "      <th>Source</th>\n",
       "      <th>SS</th>\n",
       "      <th>DF</th>\n",
       "      <th>F</th>\n",
       "      <th>p-unc</th>\n",
       "      <th>np2</th>\n",
       "    </tr>\n",
       "  </thead>\n",
       "  <tbody>\n",
       "    <tr>\n",
       "      <th>0</th>\n",
       "      <td>BloodPressure</td>\n",
       "      <td>2.474703</td>\n",
       "      <td>3</td>\n",
       "      <td>3.774931</td>\n",
       "      <td>0.010453</td>\n",
       "      <td>0.014625</td>\n",
       "    </tr>\n",
       "    <tr>\n",
       "      <th>1</th>\n",
       "      <td>DiabetesPedigreeFunction</td>\n",
       "      <td>5.075211</td>\n",
       "      <td>1</td>\n",
       "      <td>23.225295</td>\n",
       "      <td>0.000002</td>\n",
       "      <td>0.029540</td>\n",
       "    </tr>\n",
       "    <tr>\n",
       "      <th>2</th>\n",
       "      <td>Residual</td>\n",
       "      <td>166.731396</td>\n",
       "      <td>763</td>\n",
       "      <td>NaN</td>\n",
       "      <td>NaN</td>\n",
       "      <td>NaN</td>\n",
       "    </tr>\n",
       "  </tbody>\n",
       "</table>\n",
       "</div>"
      ],
      "text/plain": [
       "                     Source          SS   DF          F     p-unc       np2\n",
       "0             BloodPressure    2.474703    3   3.774931  0.010453  0.014625\n",
       "1  DiabetesPedigreeFunction    5.075211    1  23.225295  0.000002  0.029540\n",
       "2                  Residual  166.731396  763        NaN       NaN       NaN"
      ]
     },
     "execution_count": 109,
     "metadata": {},
     "output_type": "execute_result"
    }
   ],
   "source": [
    "# (2) DiabetesPedigreeFunction vs. BloodPressure\n",
    "ancova(data=df2, dv='Outcome', covar='DiabetesPedigreeFunction', between='BloodPressure')"
   ]
  },
  {
   "cell_type": "code",
   "execution_count": 110,
   "id": "abcccbca",
   "metadata": {},
   "outputs": [
    {
     "name": "stdout",
     "output_type": "stream",
     "text": [
      "   Multiple Comparison of Means - Tukey HSD, FWER=0.05   \n",
      "=========================================================\n",
      "   group1    group2 meandiff p-adj   lower  upper  reject\n",
      "---------------------------------------------------------\n",
      "Hypertension Normal   0.2568 0.8658 -0.5963 1.1099  False\n",
      "Hypertension Stage1   0.3108 0.7857 -0.5445 1.1661  False\n",
      "Hypertension Stage2   0.2337 0.8971 -0.6259 1.0932  False\n",
      "      Normal Stage1    0.054 0.2975 -0.0254 0.1334  False\n",
      "      Normal Stage2  -0.0231 0.9566 -0.1398 0.0935  False\n",
      "      Stage1 Stage2  -0.0771 0.4325 -0.2088 0.0545  False\n",
      "---------------------------------------------------------\n"
     ]
    }
   ],
   "source": [
    "# ANCOVA post-hoc test pairwise_tukeyhsd:  DiabetesPedigreeFunction vs. BLoodPressure\n",
    "\n",
    "pt = pairwise_tukeyhsd(endog=df2['DiabetesPedigreeFunction'], groups=df2['BloodPressure'], alpha = 0.05)\n",
    "print(pt)"
   ]
  },
  {
   "cell_type": "code",
   "execution_count": 111,
   "id": "a4da5ec5",
   "metadata": {},
   "outputs": [
    {
     "data": {
      "text/html": [
       "<div>\n",
       "<style scoped>\n",
       "    .dataframe tbody tr th:only-of-type {\n",
       "        vertical-align: middle;\n",
       "    }\n",
       "\n",
       "    .dataframe tbody tr th {\n",
       "        vertical-align: top;\n",
       "    }\n",
       "\n",
       "    .dataframe thead th {\n",
       "        text-align: right;\n",
       "    }\n",
       "</style>\n",
       "<table border=\"1\" class=\"dataframe\">\n",
       "  <thead>\n",
       "    <tr style=\"text-align: right;\">\n",
       "      <th></th>\n",
       "      <th>Source</th>\n",
       "      <th>SS</th>\n",
       "      <th>DF</th>\n",
       "      <th>F</th>\n",
       "      <th>p-unc</th>\n",
       "      <th>np2</th>\n",
       "    </tr>\n",
       "  </thead>\n",
       "  <tbody>\n",
       "    <tr>\n",
       "      <th>0</th>\n",
       "      <td>Insulin</td>\n",
       "      <td>2.586116</td>\n",
       "      <td>2</td>\n",
       "      <td>5.929039</td>\n",
       "      <td>0.002785</td>\n",
       "      <td>0.015284</td>\n",
       "    </tr>\n",
       "    <tr>\n",
       "      <th>1</th>\n",
       "      <td>DiabetesPedigreeFunction</td>\n",
       "      <td>4.511252</td>\n",
       "      <td>1</td>\n",
       "      <td>20.685372</td>\n",
       "      <td>0.000006</td>\n",
       "      <td>0.026361</td>\n",
       "    </tr>\n",
       "    <tr>\n",
       "      <th>2</th>\n",
       "      <td>Residual</td>\n",
       "      <td>166.619983</td>\n",
       "      <td>764</td>\n",
       "      <td>NaN</td>\n",
       "      <td>NaN</td>\n",
       "      <td>NaN</td>\n",
       "    </tr>\n",
       "  </tbody>\n",
       "</table>\n",
       "</div>"
      ],
      "text/plain": [
       "                     Source          SS   DF          F     p-unc       np2\n",
       "0                   Insulin    2.586116    2   5.929039  0.002785  0.015284\n",
       "1  DiabetesPedigreeFunction    4.511252    1  20.685372  0.000006  0.026361\n",
       "2                  Residual  166.619983  764        NaN       NaN       NaN"
      ]
     },
     "execution_count": 111,
     "metadata": {},
     "output_type": "execute_result"
    }
   ],
   "source": [
    "# (3) DiabetesPedigreeFunction vs. Insulin\n",
    "ancova(data=df2, dv='Outcome', covar='DiabetesPedigreeFunction', between='Insulin')"
   ]
  },
  {
   "cell_type": "code",
   "execution_count": 112,
   "id": "c9f60251",
   "metadata": {},
   "outputs": [
    {
     "name": "stdout",
     "output_type": "stream",
     "text": [
      "     Multiple Comparison of Means - Tukey HSD, FWER=0.05      \n",
      "==============================================================\n",
      "   group1       group2    meandiff p-adj  lower  upper  reject\n",
      "--------------------------------------------------------------\n",
      "  Deficiency Intermediate   0.1154 0.0061 0.0273 0.2035   True\n",
      "  Deficiency  Substantial   0.5947 0.0051 0.1494   1.04   True\n",
      "Intermediate  Substantial   0.4793 0.0347 0.0273 0.9313   True\n",
      "--------------------------------------------------------------\n"
     ]
    }
   ],
   "source": [
    "# ANCOVA post-hoc test pairwise_tukeyhsd:  DiabetesPedigreeFunction vs. Insulin\n",
    "\n",
    "pt = pairwise_tukeyhsd(endog=df2['DiabetesPedigreeFunction'], groups=df2['Insulin'], alpha = 0.05)\n",
    "print(pt)"
   ]
  },
  {
   "cell_type": "code",
   "execution_count": 113,
   "id": "0282a28b",
   "metadata": {},
   "outputs": [
    {
     "data": {
      "text/html": [
       "<div>\n",
       "<style scoped>\n",
       "    .dataframe tbody tr th:only-of-type {\n",
       "        vertical-align: middle;\n",
       "    }\n",
       "\n",
       "    .dataframe tbody tr th {\n",
       "        vertical-align: top;\n",
       "    }\n",
       "\n",
       "    .dataframe thead th {\n",
       "        text-align: right;\n",
       "    }\n",
       "</style>\n",
       "<table border=\"1\" class=\"dataframe\">\n",
       "  <thead>\n",
       "    <tr style=\"text-align: right;\">\n",
       "      <th></th>\n",
       "      <th>Source</th>\n",
       "      <th>SS</th>\n",
       "      <th>DF</th>\n",
       "      <th>F</th>\n",
       "      <th>p-unc</th>\n",
       "      <th>np2</th>\n",
       "    </tr>\n",
       "  </thead>\n",
       "  <tbody>\n",
       "    <tr>\n",
       "      <th>0</th>\n",
       "      <td>BMI</td>\n",
       "      <td>14.815867</td>\n",
       "      <td>3</td>\n",
       "      <td>24.545796</td>\n",
       "      <td>3.663066e-15</td>\n",
       "      <td>0.088866</td>\n",
       "    </tr>\n",
       "    <tr>\n",
       "      <th>1</th>\n",
       "      <td>DiabetesPedigreeFunction</td>\n",
       "      <td>3.359021</td>\n",
       "      <td>1</td>\n",
       "      <td>16.694908</td>\n",
       "      <td>4.859647e-05</td>\n",
       "      <td>0.021634</td>\n",
       "    </tr>\n",
       "    <tr>\n",
       "      <th>2</th>\n",
       "      <td>Residual</td>\n",
       "      <td>151.906250</td>\n",
       "      <td>755</td>\n",
       "      <td>NaN</td>\n",
       "      <td>NaN</td>\n",
       "      <td>NaN</td>\n",
       "    </tr>\n",
       "  </tbody>\n",
       "</table>\n",
       "</div>"
      ],
      "text/plain": [
       "                     Source          SS   DF          F         p-unc  \\\n",
       "0                       BMI   14.815867    3  24.545796  3.663066e-15   \n",
       "1  DiabetesPedigreeFunction    3.359021    1  16.694908  4.859647e-05   \n",
       "2                  Residual  151.906250  755        NaN           NaN   \n",
       "\n",
       "        np2  \n",
       "0  0.088866  \n",
       "1  0.021634  \n",
       "2       NaN  "
      ]
     },
     "execution_count": 113,
     "metadata": {},
     "output_type": "execute_result"
    }
   ],
   "source": [
    "# (4) DiabetesPedigreeFunction vs. BMI\n",
    "ancova(data=df2, dv='Outcome', covar='DiabetesPedigreeFunction', between='BMI')"
   ]
  },
  {
   "cell_type": "code",
   "execution_count": 114,
   "id": "2422e2f2",
   "metadata": {},
   "outputs": [
    {
     "data": {
      "text/html": [
       "<div>\n",
       "<style scoped>\n",
       "    .dataframe tbody tr th:only-of-type {\n",
       "        vertical-align: middle;\n",
       "    }\n",
       "\n",
       "    .dataframe tbody tr th {\n",
       "        vertical-align: top;\n",
       "    }\n",
       "\n",
       "    .dataframe thead th {\n",
       "        text-align: right;\n",
       "    }\n",
       "</style>\n",
       "<table border=\"1\" class=\"dataframe\">\n",
       "  <thead>\n",
       "    <tr style=\"text-align: right;\">\n",
       "      <th></th>\n",
       "      <th>Source</th>\n",
       "      <th>SS</th>\n",
       "      <th>DF</th>\n",
       "      <th>F</th>\n",
       "      <th>p-unc</th>\n",
       "      <th>np2</th>\n",
       "    </tr>\n",
       "  </thead>\n",
       "  <tbody>\n",
       "    <tr>\n",
       "      <th>0</th>\n",
       "      <td>Age</td>\n",
       "      <td>12.318011</td>\n",
       "      <td>2</td>\n",
       "      <td>29.992592</td>\n",
       "      <td>2.887030e-13</td>\n",
       "      <td>0.072799</td>\n",
       "    </tr>\n",
       "    <tr>\n",
       "      <th>1</th>\n",
       "      <td>DiabetesPedigreeFunction</td>\n",
       "      <td>3.868250</td>\n",
       "      <td>1</td>\n",
       "      <td>18.837266</td>\n",
       "      <td>1.615052e-05</td>\n",
       "      <td>0.024063</td>\n",
       "    </tr>\n",
       "    <tr>\n",
       "      <th>2</th>\n",
       "      <td>Residual</td>\n",
       "      <td>156.888088</td>\n",
       "      <td>764</td>\n",
       "      <td>NaN</td>\n",
       "      <td>NaN</td>\n",
       "      <td>NaN</td>\n",
       "    </tr>\n",
       "  </tbody>\n",
       "</table>\n",
       "</div>"
      ],
      "text/plain": [
       "                     Source          SS   DF          F         p-unc  \\\n",
       "0                       Age   12.318011    2  29.992592  2.887030e-13   \n",
       "1  DiabetesPedigreeFunction    3.868250    1  18.837266  1.615052e-05   \n",
       "2                  Residual  156.888088  764        NaN           NaN   \n",
       "\n",
       "        np2  \n",
       "0  0.072799  \n",
       "1  0.024063  \n",
       "2       NaN  "
      ]
     },
     "execution_count": 114,
     "metadata": {},
     "output_type": "execute_result"
    }
   ],
   "source": [
    "# (5) DiabetesPedigreeFunction vs. Age\n",
    "ancova(data=df2, dv='Outcome', covar='DiabetesPedigreeFunction', between='Age')"
   ]
  },
  {
   "cell_type": "code",
   "execution_count": 115,
   "id": "41ea4292",
   "metadata": {},
   "outputs": [
    {
     "name": "stdout",
     "output_type": "stream",
     "text": [
      "   Multiple Comparison of Means - Tukey HSD, FWER=0.05    \n",
      "==========================================================\n",
      "  group1    group2  meandiff p-adj   lower   upper  reject\n",
      "----------------------------------------------------------\n",
      "Adulthood Seniority  -0.0445 0.8562 -0.2413  0.1523  False\n",
      "Adulthood     Youth  -0.0667 0.0325 -0.1289 -0.0044   True\n",
      "Seniority     Youth  -0.0222 0.9637 -0.2231  0.1787  False\n",
      "----------------------------------------------------------\n"
     ]
    }
   ],
   "source": [
    "# ANCOVA post-hoc test pairwise_tukeyhsd:  DiabetesPedigreeFunction vs. Age\n",
    "\n",
    "pt = pairwise_tukeyhsd(endog=df2['DiabetesPedigreeFunction'], groups=df2['Age'], alpha = 0.05)\n",
    "print(pt)"
   ]
  },
  {
   "cell_type": "code",
   "execution_count": 116,
   "id": "8978e937",
   "metadata": {},
   "outputs": [],
   "source": [
    "#-- ANCOVA end"
   ]
  },
  {
   "cell_type": "code",
   "execution_count": 117,
   "id": "8c48975c-7273-4300-bc41-42ac42f9d23d",
   "metadata": {},
   "outputs": [],
   "source": [
    "# post hoc test\n",
    "# testing training\n",
    "# ancova` tukey hsd"
   ]
  },
  {
   "cell_type": "markdown",
   "id": "a7b5d3dd",
   "metadata": {},
   "source": [
    "--training with ANOVA result start"
   ]
  },
  {
   "cell_type": "code",
   "execution_count": 118,
   "id": "eea8ad91",
   "metadata": {},
   "outputs": [],
   "source": [
    "from sklearn import datasets, linear_model\n",
    "from sklearn.metrics import mean_squared_error, r2_score\n",
    "%matplotlib inline"
   ]
  },
  {
   "cell_type": "code",
   "execution_count": 119,
   "id": "9862a0ed",
   "metadata": {},
   "outputs": [],
   "source": [
    "# select specific column for further linear regression model using\n",
    "\n",
    "df3 = df.copy()\n",
    "df3_gb = df3[['Glucose', 'BloodPressure', 'Outcome']]\n",
    "df3_gbmi = df3[['Glucose', 'BMI', 'Outcome']]\n",
    "df3_bmia = df3[['BMI', 'Age', 'Outcome']]\n",
    "df3_pg = df3[['Pregnancies', 'Glucose', 'Outcome']]\n",
    "df3_stg = df3[['SkinThickness', 'Glucose', 'Outcome']]\n",
    "df3_dpfg = df3[['DiabetesPedigreeFunction', 'Glucose', 'Outcome']]\n",
    "df3_dpfi = df3[['DiabetesPedigreeFunction', 'Insulin', 'Outcome']]\n",
    "\n",
    "df3_pa = df3[['Pregnancies', 'Age', 'Outcome']]\n",
    "df3_di = df3[['DiabetesPedigreeFunction', 'Insulin', 'Outcome']]"
   ]
  },
  {
   "cell_type": "code",
   "execution_count": 120,
   "id": "25dbbf39",
   "metadata": {},
   "outputs": [
    {
     "name": "stdout",
     "output_type": "stream",
     "text": [
      "24.18\n",
      "     Actual  Predicted\n",
      "661       1   0.956388\n",
      "122       0   0.249724\n",
      "113       0  -0.005621\n",
      "14        1   0.697917\n",
      "529       0   0.266625\n",
      "..      ...        ...\n",
      "476       1   0.243556\n",
      "482       0   0.057127\n",
      "230       1   0.535662\n",
      "527       0   0.318557\n",
      "380       0   0.246682\n",
      "\n",
      "[154 rows x 2 columns]\n"
     ]
    }
   ],
   "source": [
    "# Glucose&BloodPressure split dataset\n",
    "from sklearn.model_selection import train_test_split\n",
    "from sklearn.linear_model import LinearRegression\n",
    "\n",
    "X = df3_gb.iloc[:, :-1]\n",
    "y = df3_gb.iloc[:, -1]\n",
    "\n",
    "X_train, X_test, y_train, y_test = train_test_split(X, y, test_size=0.2, random_state=0)\n",
    "\n",
    "lin = LinearRegression()\n",
    "lin.fit(X_train, y_train)\n",
    "\n",
    "Y_pred = lin.predict(X_test)\n",
    "\n",
    "model = pd.DataFrame({'Actual': y_test, 'Predicted': Y_pred})\n",
    "\n",
    "acc_lin = round(lin.score(X_train, y_train)*100,2)\n",
    "\n",
    "print(acc_lin)\n",
    "print(model)"
   ]
  },
  {
   "cell_type": "code",
   "execution_count": 121,
   "id": "a955d9a4",
   "metadata": {},
   "outputs": [
    {
     "name": "stdout",
     "output_type": "stream",
     "text": [
      "Coefficients: \n",
      " [0.00764806 0.00152127]\n",
      "Mean squared error: 0.16\n",
      "Coefficient of determination: 0.25\n"
     ]
    }
   ],
   "source": [
    "# The coefficients\n",
    "\n",
    "print('Coefficients: \\n', lin.coef_)\n",
    "\n",
    "# The mean squared error\n",
    "\n",
    "print('Mean squared error: %.2f'\n",
    "      % mean_squared_error(y_test, Y_pred))\n",
    "\n",
    "# The coefficient of determination: 1 is perfect prediction\n",
    "\n",
    "print('Coefficient of determination: %.2f'\n",
    "      % r2_score(y_test, Y_pred))\n",
    "\n"
   ]
  },
  {
   "cell_type": "code",
   "execution_count": 122,
   "id": "46c41300",
   "metadata": {},
   "outputs": [
    {
     "name": "stdout",
     "output_type": "stream",
     "text": [
      "26.79\n",
      "     Actual  Predicted\n",
      "0         0   0.536382\n",
      "1         1   0.287482\n",
      "2         0   0.381194\n",
      "3         0   0.148394\n",
      "4         1   0.721601\n",
      "..      ...        ...\n",
      "149       0   0.143278\n",
      "150       0   0.158643\n",
      "151       0   0.257470\n",
      "152       0   0.164511\n",
      "153       0   0.228923\n",
      "\n",
      "[154 rows x 2 columns]\n"
     ]
    }
   ],
   "source": [
    "X = df3_gbmi.iloc[:, :-1].values\n",
    "y = df3_gbmi.iloc[:, -1].values\n",
    "\n",
    "X_train, X_test, y_train, y_test = train_test_split(X, y, test_size=0.2)\n",
    "\n",
    "lin = LinearRegression()\n",
    "lin.fit(X_train, y_train)\n",
    "\n",
    "Y_pred = lin.predict(X_test)\n",
    "acc_lin = round(lin.score(X_train, y_train)*100,2)\n",
    "\n",
    "model = pd.DataFrame({'Actual': y_test, 'Predicted': Y_pred})\n",
    "\n",
    "print(acc_lin)\n",
    "print(model)"
   ]
  },
  {
   "cell_type": "code",
   "execution_count": 123,
   "id": "9b3e5127",
   "metadata": {},
   "outputs": [
    {
     "name": "stdout",
     "output_type": "stream",
     "text": [
      "Coefficients: \n",
      " [0.00658826 0.01464163]\n",
      "Mean squared error: 0.15\n",
      "Coefficient of determination: 0.34\n"
     ]
    }
   ],
   "source": [
    "# The coefficients\n",
    "\n",
    "print('Coefficients: \\n', lin.coef_)\n",
    "\n",
    "# The mean squared error\n",
    "\n",
    "print('Mean squared error: %.2f'\n",
    "      % mean_squared_error(y_test, Y_pred))\n",
    "\n",
    "# The coefficient of determination: 1 is perfect prediction\n",
    "\n",
    "print('Coefficient of determination: %.2f'\n",
    "      % r2_score(y_test, Y_pred))\n"
   ]
  },
  {
   "cell_type": "code",
   "execution_count": 124,
   "id": "8e67c53f",
   "metadata": {},
   "outputs": [
    {
     "name": "stdout",
     "output_type": "stream",
     "text": [
      "15.523828886495995\n",
      "     Actual  Predicted\n",
      "0         1   0.471064\n",
      "1         0   0.280474\n",
      "2         0   0.308045\n",
      "3         1   0.378192\n",
      "4         0   0.162718\n",
      "..      ...        ...\n",
      "149       1   0.339523\n",
      "150       0   0.203111\n",
      "151       1   0.494729\n",
      "152       0   0.132910\n",
      "153       0   0.229720\n",
      "\n",
      "[154 rows x 2 columns]\n"
     ]
    }
   ],
   "source": [
    "X = df3_bmia.iloc[:, :-1].values\n",
    "y = df3_bmia.iloc[:, -1].values\n",
    "\n",
    "X_train, X_test, y_train, y_test = train_test_split(X, y, test_size=0.2, random_state=0)\n",
    "\n",
    "lin = LinearRegression()\n",
    "lin.fit(X_train, y_train)\n",
    "\n",
    "Y_pred = lin.predict(X_test)\n",
    "acc_lin = lin.score(X_train, y_train)*100\n",
    "\n",
    "model = pd.DataFrame({'Actual': y_test, 'Predicted': Y_pred})\n",
    "\n",
    "print(acc_lin)\n",
    "print(model)"
   ]
  },
  {
   "cell_type": "code",
   "execution_count": 125,
   "id": "58e64294",
   "metadata": {},
   "outputs": [
    {
     "name": "stdout",
     "output_type": "stream",
     "text": [
      "Coefficients: \n",
      " [0.02151325 0.0094829 ]\n",
      "Mean squared error: 0.19\n",
      "Coefficient of determination: 0.12\n"
     ]
    }
   ],
   "source": [
    "# The coefficients\n",
    "\n",
    "print('Coefficients: \\n', lin.coef_)\n",
    "\n",
    "# The mean squared error\n",
    "\n",
    "print('Mean squared error: %.2f'\n",
    "      % mean_squared_error(y_test, Y_pred))\n",
    "\n",
    "# The coefficient of determination: 1 is perfect prediction\n",
    "\n",
    "print('Coefficient of determination: %.2f'\n",
    "      % r2_score(y_test, Y_pred))\n"
   ]
  },
  {
   "cell_type": "code",
   "execution_count": 126,
   "id": "97c7f909",
   "metadata": {},
   "outputs": [
    {
     "name": "stdout",
     "output_type": "stream",
     "text": [
      "6.31\n",
      "     Actual  Predicted\n",
      "661       1   0.235317\n",
      "122       0   0.255691\n",
      "113       0   0.296438\n",
      "14        1   0.506183\n",
      "529       0   0.290691\n",
      "..      ...        ...\n",
      "476       1   0.301140\n",
      "482       0   0.319163\n",
      "230       1   0.273714\n",
      "527       0   0.276065\n",
      "380       0   0.250467\n",
      "\n",
      "[154 rows x 2 columns]\n"
     ]
    }
   ],
   "source": [
    "# Pregnancies&Age split dataset\n",
    "\n",
    "X = df3_pa.iloc[:, :-1]\n",
    "y = df3_pa.iloc[:, -1]\n",
    "\n",
    "X_train, X_test, y_train, y_test = train_test_split(X, y, test_size=0.2, random_state=0)\n",
    "\n",
    "lin = LinearRegression()\n",
    "lin.fit(X_train, y_train)\n",
    "\n",
    "Y_pred = lin.predict(X_test)\n",
    "\n",
    "model = pd.DataFrame({'Actual': y_test, 'Predicted': Y_pred})\n",
    "\n",
    "acc_lin = round(lin.score(X_train, y_train)*100,2)\n",
    "\n",
    "print(acc_lin)\n",
    "print(model)"
   ]
  },
  {
   "cell_type": "code",
   "execution_count": 127,
   "id": "9e8b5237",
   "metadata": {},
   "outputs": [
    {
     "name": "stdout",
     "output_type": "stream",
     "text": [
      "Coefficients: \n",
      " [0.01279898 0.00757481]\n",
      "Mean squared error: 0.20\n",
      "Coefficient of determination: 0.08\n"
     ]
    }
   ],
   "source": [
    "# The coefficients\n",
    "\n",
    "print('Coefficients: \\n', lin.coef_)\n",
    "\n",
    "# The mean squared error\n",
    "\n",
    "print('Mean squared error: %.2f'\n",
    "      % mean_squared_error(y_test, Y_pred))\n",
    "\n",
    "# The coefficient of determination: 1 is perfect prediction\n",
    "\n",
    "print('Coefficient of determination: %.2f'\n",
    "      % r2_score(y_test, Y_pred))\n"
   ]
  },
  {
   "cell_type": "code",
   "execution_count": 128,
   "id": "88ac9a98",
   "metadata": {},
   "outputs": [
    {
     "name": "stdout",
     "output_type": "stream",
     "text": [
      "25.78\n",
      "     Actual  Predicted\n",
      "661       1   0.887400\n",
      "122       0   0.214941\n",
      "113       0   0.019147\n",
      "14        1   0.713620\n",
      "529       0   0.207948\n",
      "..      ...        ...\n",
      "476       1   0.199920\n",
      "482       0   0.086743\n",
      "230       1   0.514848\n",
      "527       0   0.301054\n",
      "380       0   0.196424\n",
      "\n",
      "[154 rows x 2 columns]\n"
     ]
    }
   ],
   "source": [
    "# Prefnancies & Glucose split dataset\n",
    "\n",
    "X = df3_pg.iloc[:, :-1]\n",
    "y = df3_pg.iloc[:, -1]\n",
    "\n",
    "X_train, X_test, y_train, y_test = train_test_split(X, y, test_size=0.2, random_state=0)\n",
    "\n",
    "lin = LinearRegression()\n",
    "lin.fit(X_train, y_train)\n",
    "\n",
    "Y_pred = lin.predict(X_test)\n",
    "\n",
    "model = pd.DataFrame({'Actual': y_test, 'Predicted': Y_pred})\n",
    "\n",
    "acc_lin = round(lin.score(X_train, y_train)*100,2)\n",
    "\n",
    "print(acc_lin)\n",
    "print(model)"
   ]
  },
  {
   "cell_type": "code",
   "execution_count": 129,
   "id": "5c07df3b",
   "metadata": {},
   "outputs": [
    {
     "name": "stdout",
     "output_type": "stream",
     "text": [
      "Coefficients: \n",
      " [0.01851752 0.00751061]\n",
      "Mean squared error: 0.15\n",
      "Coefficient of determination: 0.30\n"
     ]
    }
   ],
   "source": [
    "# The coefficients\n",
    "\n",
    "print('Coefficients: \\n', lin.coef_)\n",
    "\n",
    "# The mean squared error\n",
    "\n",
    "print('Mean squared error: %.2f'\n",
    "      % mean_squared_error(y_test, Y_pred))\n",
    "\n",
    "# The coefficient of determination: 1 is perfect prediction\n",
    "\n",
    "print('Coefficient of determination: %.2f'\n",
    "      % r2_score(y_test, Y_pred))"
   ]
  },
  {
   "cell_type": "code",
   "execution_count": 130,
   "id": "d4e4c44e",
   "metadata": {},
   "outputs": [
    {
     "name": "stdout",
     "output_type": "stream",
     "text": [
      "25.01\n",
      "     Actual  Predicted\n",
      "661       1   1.022874\n",
      "122       0   0.262419\n",
      "113       0  -0.007307\n",
      "14        1   0.650551\n",
      "529       0   0.256535\n",
      "..      ...        ...\n",
      "476       1   0.324566\n",
      "482       0   0.055389\n",
      "230       1   0.490223\n",
      "527       0   0.253040\n",
      "380       0   0.262419\n",
      "\n",
      "[154 rows x 2 columns]\n"
     ]
    }
   ],
   "source": [
    "# SkinThickness & Glucose split dataset\n",
    "\n",
    "X = df3_stg.iloc[:, :-1]\n",
    "y = df3_stg.iloc[:, -1]\n",
    "\n",
    "X_train, X_test, y_train, y_test = train_test_split(X, y, test_size=0.2, random_state=0)\n",
    "\n",
    "lin = LinearRegression()\n",
    "lin.fit(X_train, y_train)\n",
    "\n",
    "Y_pred = lin.predict(X_test)\n",
    "\n",
    "model = pd.DataFrame({'Actual': y_test, 'Predicted': Y_pred})\n",
    "\n",
    "acc_lin = round(lin.score(X_train, y_train)*100,2)\n",
    "\n",
    "print(acc_lin)\n",
    "print(model)"
   ]
  },
  {
   "cell_type": "code",
   "execution_count": 131,
   "id": "af21e108",
   "metadata": {},
   "outputs": [
    {
     "name": "stdout",
     "output_type": "stream",
     "text": [
      "Coefficients: \n",
      " [0.00514826 0.00753835]\n",
      "Mean squared error: 0.16\n",
      "Coefficient of determination: 0.26\n"
     ]
    }
   ],
   "source": [
    "# The coefficients\n",
    "\n",
    "print('Coefficients: \\n', lin.coef_)\n",
    "\n",
    "# The mean squared error\n",
    "\n",
    "print('Mean squared error: %.2f'\n",
    "      % mean_squared_error(y_test, Y_pred))\n",
    "\n",
    "# The coefficient of determination: 1 is perfect prediction\n",
    "\n",
    "print('Coefficient of determination: %.2f'\n",
    "      % r2_score(y_test, Y_pred))"
   ]
  },
  {
   "cell_type": "code",
   "execution_count": 132,
   "id": "5e3b6b5c",
   "metadata": {},
   "outputs": [
    {
     "name": "stdout",
     "output_type": "stream",
     "text": [
      "25.13\n",
      "     Actual  Predicted\n",
      "661       1   1.086180\n",
      "122       0   0.239198\n",
      "113       0   0.002267\n",
      "14        1   0.714055\n",
      "529       0   0.308217\n",
      "..      ...        ...\n",
      "476       1   0.270450\n",
      "482       0   0.057633\n",
      "230       1   0.540915\n",
      "527       0   0.262514\n",
      "380       0   0.302239\n",
      "\n",
      "[154 rows x 2 columns]\n"
     ]
    }
   ],
   "source": [
    "# DiabetesPedigreeFunction & Glucose split dataset\n",
    "\n",
    "X = df3_dpfg.iloc[:, :-1]\n",
    "y = df3_dpfg.iloc[:, -1]\n",
    "\n",
    "X_train, X_test, y_train, y_test = train_test_split(X, y, test_size=0.2, random_state=0)\n",
    "\n",
    "lin = LinearRegression()\n",
    "lin.fit(X_train, y_train)\n",
    "\n",
    "Y_pred = lin.predict(X_test)\n",
    "\n",
    "model = pd.DataFrame({'Actual': y_test, 'Predicted': Y_pred})\n",
    "\n",
    "acc_lin = round(lin.score(X_train, y_train)*100,2)\n",
    "\n",
    "print(acc_lin)\n",
    "print(model)"
   ]
  },
  {
   "cell_type": "code",
   "execution_count": 133,
   "id": "a03aac85",
   "metadata": {},
   "outputs": [
    {
     "name": "stdout",
     "output_type": "stream",
     "text": [
      "Coefficients: \n",
      " [0.15117802 0.00757953]\n",
      "Mean squared error: 0.16\n",
      "Coefficient of determination: 0.26\n"
     ]
    }
   ],
   "source": [
    "# The coefficients\n",
    "print('Coefficients: \\n', lin.coef_)\n",
    "\n",
    "# The mean squared error\n",
    "\n",
    "print('Mean squared error: %.2f'\n",
    "      % mean_squared_error(y_test, Y_pred))\n",
    "\n",
    "# The coefficient of determination: 1 is perfect prediction\n",
    "\n",
    "print('Coefficient of determination: %.2f'\n",
    "      % r2_score(y_test, Y_pred))"
   ]
  },
  {
   "cell_type": "code",
   "execution_count": 134,
   "id": "e3099e3d",
   "metadata": {},
   "outputs": [
    {
     "name": "stdout",
     "output_type": "stream",
     "text": [
      "3.85\n",
      "     Actual  Predicted\n",
      "661       1   0.518829\n",
      "122       0   0.348642\n",
      "113       0   0.311792\n",
      "14        1   0.423286\n",
      "529       0   0.367319\n",
      "..      ...        ...\n",
      "476       1   0.456747\n",
      "482       0   0.303342\n",
      "230       1   0.364222\n",
      "527       0   0.289794\n",
      "380       0   0.425869\n",
      "\n",
      "[154 rows x 2 columns]\n"
     ]
    }
   ],
   "source": [
    "# DiabetesPedigreeFunction&Insulin split dataset\n",
    "\n",
    "X = df3_di.iloc[:, :-1]\n",
    "y = df3_di.iloc[:, -1]\n",
    "\n",
    "X_train, X_test, y_train, y_test = train_test_split(X, y, test_size=0.2, random_state=0)\n",
    "\n",
    "lin = LinearRegression()\n",
    "lin.fit(X_train, y_train)\n",
    "\n",
    "Y_pred = lin.predict(X_test)\n",
    "\n",
    "model = pd.DataFrame({'Actual': y_test, 'Predicted': Y_pred})\n",
    "\n",
    "acc_lin = round(lin.score(X_train, y_train)*100,2)\n",
    "\n",
    "print(acc_lin)\n",
    "print(model)"
   ]
  },
  {
   "cell_type": "code",
   "execution_count": 135,
   "id": "ba193119",
   "metadata": {},
   "outputs": [
    {
     "name": "stdout",
     "output_type": "stream",
     "text": [
      "Coefficients: \n",
      " [0.20641728 0.0004916 ]\n",
      "Mean squared error: 0.20\n",
      "Coefficient of determination: 0.06\n"
     ]
    }
   ],
   "source": [
    "# The coefficients\n",
    "\n",
    "print('Coefficients: \\n', lin.coef_)\n",
    "\n",
    "# The mean squared error\n",
    "\n",
    "print('Mean squared error: %.2f'\n",
    "      % mean_squared_error(y_test, Y_pred))\n",
    "\n",
    "# The coefficient of determination: 1 is perfect prediction\n",
    "\n",
    "print('Coefficient of determination: %.2f'\n",
    "      % r2_score(y_test, Y_pred))"
   ]
  },
  {
   "cell_type": "markdown",
   "id": "5a642026",
   "metadata": {},
   "source": [
    "-- training with ANOVA result end"
   ]
  },
  {
   "cell_type": "code",
   "execution_count": 136,
   "id": "cf142144",
   "metadata": {},
   "outputs": [],
   "source": [
    "# --power analysis start"
   ]
  },
  {
   "cell_type": "code",
   "execution_count": 137,
   "id": "86fd4c50",
   "metadata": {},
   "outputs": [
    {
     "name": "stdout",
     "output_type": "stream",
     "text": [
      "Required sample size: 15.62\n"
     ]
    }
   ],
   "source": [
    "# Glucose \n",
    "\n",
    "effect_size = -1.036987\n",
    "alpha = 0.05 # significance level\n",
    "power = 0.8\n",
    "\n",
    "power_analysis = TTestIndPower()\n",
    "sample_size = power_analysis.solve_power(effect_size = effect_size, power = power, alpha = alpha)\n",
    "print('Required sample size: {0:.2f}'.format(sample_size))"
   ]
  },
  {
   "cell_type": "code",
   "execution_count": 138,
   "id": "7f9595c8",
   "metadata": {},
   "outputs": [
    {
     "name": "stdout",
     "output_type": "stream",
     "text": [
      "Required sample size: 81.05\n"
     ]
    }
   ],
   "source": [
    "# Insulin\n",
    "\n",
    "effect_size = -0.442745\n",
    "alpha = 0.05 # significance level\n",
    "power = 0.8\n",
    "\n",
    "power_analysis = TTestIndPower()\n",
    "sample_size = power_analysis.solve_power(effect_size = effect_size, power = power, alpha = alpha)\n",
    "print('Required sample size: {0:.2f}'.format(sample_size))"
   ]
  },
  {
   "cell_type": "code",
   "execution_count": 139,
   "id": "388a0ee6",
   "metadata": {},
   "outputs": [
    {
     "name": "stdout",
     "output_type": "stream",
     "text": [
      "Required sample size: 115.76\n"
     ]
    }
   ],
   "source": [
    "# BloodPressure\n",
    "\n",
    "effect_size = -0.369796\n",
    "alpha = 0.05 # significance level\n",
    "power = 0.8\n",
    "\n",
    "power_analysis = TTestIndPower()\n",
    "sample_size = power_analysis.solve_power(effect_size = effect_size, power = power, alpha = alpha)\n",
    "print('Required sample size: {0:.2f}'.format(sample_size))"
   ]
  },
  {
   "cell_type": "code",
   "execution_count": 140,
   "id": "cf8bf8ba",
   "metadata": {},
   "outputs": [
    {
     "name": "stdout",
     "output_type": "stream",
     "text": [
      "Required sample size: 16.75\n"
     ]
    }
   ],
   "source": [
    "# BMI\n",
    "\n",
    "effect_size = -0.998777\n",
    "alpha = 0.05 # significance level\n",
    "power = 0.8\n",
    "\n",
    "power_analysis = TTestIndPower()\n",
    "sample_size = power_analysis.solve_power(effect_size = effect_size, power = power, alpha = alpha)\n",
    "print('Required sample size: {0:.2f}'.format(sample_size))"
   ]
  },
  {
   "cell_type": "code",
   "execution_count": 141,
   "id": "39bd4945",
   "metadata": {},
   "outputs": [
    {
     "name": "stdout",
     "output_type": "stream",
     "text": [
      "Required sample size: 38.74\n"
     ]
    }
   ],
   "source": [
    "# Age\n",
    "\n",
    "effect_size = -0.644829\n",
    "alpha = 0.05 # significance level\n",
    "power = 0.8\n",
    "\n",
    "power_analysis = TTestIndPower()\n",
    "sample_size = power_analysis.solve_power(effect_size = effect_size, power = power, alpha = alpha)\n",
    "print('Required sample size: {0:.2f}'.format(sample_size))"
   ]
  },
  {
   "cell_type": "code",
   "execution_count": 142,
   "id": "b7b04c1b",
   "metadata": {},
   "outputs": [],
   "source": [
    "# --power analysis end"
   ]
  },
  {
   "cell_type": "code",
   "execution_count": null,
   "id": "2ae5db91",
   "metadata": {},
   "outputs": [],
   "source": []
  }
 ],
 "metadata": {
  "kernelspec": {
   "display_name": "Python 3 (ipykernel)",
   "language": "python",
   "name": "python3"
  },
  "language_info": {
   "codemirror_mode": {
    "name": "ipython",
    "version": 3
   },
   "file_extension": ".py",
   "mimetype": "text/x-python",
   "name": "python",
   "nbconvert_exporter": "python",
   "pygments_lexer": "ipython3",
   "version": "3.9.6"
  }
 },
 "nbformat": 4,
 "nbformat_minor": 5
}
